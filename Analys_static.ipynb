{
 "cells": [
  {
   "cell_type": "code",
   "execution_count": 2,
   "metadata": {},
   "outputs": [],
   "source": [
    "# !pip install -qU python-gdcm pydicom pylibjpeg\n",
    "# !pip install -U pylibjpeg-libjpeg -v\n",
    "# !pip install pylibjpeg pylibjpeg-libjpeg pylibjpeg-openjpeg\n",
    "# !pip install pydicom\n",
    "\n",
    "# import include nesscessaryz\n",
    "import cv2\n",
    "from PIL import Image, ImageOps\n",
    "import argparse\n",
    "import os\n",
    "import glob\n",
    "import matplotlib.pyplot as plt\n",
    "import multiprocessing as mp\n",
    "from joblib import Parallel, delayed\n",
    "import pydicom\n",
    "import time\n",
    "import numpy as np\n",
    "import torch\n",
    "import random\n",
    "import pandas as pd\n",
    "from pydicom.pixel_data_handlers import apply_windowing\n",
    "import imageio\n",
    "import time\n",
    "import shutil\n",
    "from scipy import stats as sst\n",
    "from crop_image_for_you import *"
   ]
  },
  {
   "cell_type": "code",
   "execution_count": 2,
   "metadata": {},
   "outputs": [],
   "source": [
    "ddsm = pd.read_csv(r'D:\\OneDrive - Industrial University of HoChiMinh City\\WORKBASE\\Project-rsna-breast-cancer-detection\\DDSM\\additional_train.csv')\n",
    "ddsm['image_id'] = list(range(len(ddsm)))\n",
    "ddsm.image_id = ddsm.image_id.apply(lambda x: str(x) + \"_ddsm\")\n",
    "ddsm.laterality = ddsm.laterality.apply(lambda x: x[0])\n",
    "# pro1 = Process_Data(ddsm)\n"
   ]
  },
  {
   "cell_type": "code",
   "execution_count": 3,
   "metadata": {},
   "outputs": [],
   "source": [
    "def show(ls, titl=None):\n",
    "    fig, axs = plt.subplots(50, 3, figsize=(10, 464))\n",
    "    \n",
    "    \n",
    "    # fig.suptitle(f'Id_img: {info[0]} /n Id_par: Id_par: {info[1]} /n State: {target[info[3]]} \\n Views: {info[2]} \\n Time = {end - start} \\n\\n')\n",
    "    axs = axs.flatten()\n",
    "    # print(len(axs))\n",
    "    i = 0\n",
    "    for path in ls:\n",
    "        connect_compont = cv2.imread(path, cv2.IMREAD_COLOR)\n",
    "        name = os.path.basename(path)\n",
    "        count_tourn = cv2.imread(f\"D:/OneDrive - Industrial University of HoChiMinh City/WORKBASE/Project-rsna-breast-cancer-detection/Phan_tich/connected_compont/{name}\", cv2.IMREAD_COLOR)\n",
    "        foryou = cv2.imread(f\"D:/OneDrive - Industrial University of HoChiMinh City/WORKBASE/Project-rsna-breast-cancer-detection/Phan_tich/For_you/{name}\", cv2.IMREAD_COLOR)\n",
    "        # print(f\"D:/OneDrive - Industrial University of HoChiMinh City/WORKBASE/Project-rsna-breast-cancer-detection/Phan_tich/connected_compont/{name}\")\n",
    "        # print(f\"D:/OneDrive - Industrial University of HoChiMinh City/WORKBASE/Project-rsna-breast-cancer-detection/Phan_tich/For_you/{name}\")\n",
    "        try:\n",
    "            connect_compont = cv2.cvtColor(connect_compont, cv2.COLOR_BGR2RGB)\n",
    "        except:\n",
    "            print(f\"D:/OneDrive - Industrial University of HoChiMinh City/WORKBASE/Project-rsna-breast-cancer-detection/Phan_tich/connected_compont/{name}\")\n",
    "            continue\n",
    "        count_tourn = cv2.cvtColor(count_tourn, cv2.COLOR_BGR2RGB)\n",
    "        foryou = cv2.cvtColor(foryou, cv2.COLOR_BGR2RGB)\n",
    "        axs[i].imshow(connect_compont, cmap='bone')\n",
    "        axs[i].set_title('connectedComponents')\n",
    "        axs[i+1].imshow(count_tourn, cmap='bone')\n",
    "        axs[i+1].set_title('contour')\n",
    "        axs[i+2].imshow(foryou, cmap='bone')\n",
    "        axs[i+2].set_title('foryou')\n",
    "        i+=3\n",
    "    fig.savefig(f\"D:/OneDrive - Industrial University of HoChiMinh City/WORKBASE/Project-rsna-breast-cancer-detection/Phan_tich/{titl}.png\", bbox_inches='tight', pad_inches=0, facecolor='w')"
   ]
  },
  {
   "cell_type": "code",
   "execution_count": 4,
   "metadata": {},
   "outputs": [],
   "source": [
    "ls = glob.glob(r\"D:\\OneDrive - Industrial University of HoChiMinh City\\WORKBASE\\Project-rsna-breast-cancer-detection\\Phan_tich\\connected_compont\\*.png\")"
   ]
  },
  {
   "cell_type": "code",
   "execution_count": 5,
   "metadata": {},
   "outputs": [
    {
     "data": {
      "text/plain": [
       "1374"
      ]
     },
     "execution_count": 5,
     "metadata": {},
     "output_type": "execute_result"
    }
   ],
   "source": [
    "# len(ls)\n",
    "fig.savefig('ten_file.png', bbox_inches='tight', pad_inches=0, facecolor='w')"
   ]
  },
  {
   "cell_type": "code",
   "execution_count": null,
   "metadata": {},
   "outputs": [],
   "source": [
    "for i in range(0, len(ls), 50):\n",
    "    show(ls[i: i+50], f'{i}_{i+50}')\n",
    "    # print(i)"
   ]
  },
  {
   "cell_type": "markdown",
   "metadata": {},
   "source": [
    "# Evaluate"
   ]
  },
  {
   "cell_type": "code",
   "execution_count": 6,
   "metadata": {},
   "outputs": [],
   "source": [
    "eval = pd.DataFrame(columns=['id_image', 'connectedComponents', 'contour', 'foryou'])"
   ]
  },
  {
   "cell_type": "code",
   "execution_count": 17,
   "metadata": {},
   "outputs": [
    {
     "ename": "ValueError",
     "evalue": "not enough values to unpack (expected 3, got 2)",
     "output_type": "error",
     "traceback": [
      "\u001b[1;31m---------------------------------------------------------------------------\u001b[0m",
      "\u001b[1;31mValueError\u001b[0m                                Traceback (most recent call last)",
      "\u001b[1;32md:\\OneDrive - Industrial University of HoChiMinh City\\WORKBASE\\Project-rsna-breast-cancer-detection\\Notebook_code\\Analys_static.ipynb Cell 9\u001b[0m in \u001b[0;36m<cell line: 2>\u001b[1;34m()\u001b[0m\n\u001b[0;32m      <a href='vscode-notebook-cell:/d%3A/OneDrive%20-%20Industrial%20University%20of%20HoChiMinh%20City/WORKBASE/Project-rsna-breast-cancer-detection/Notebook_code/Analys_static.ipynb#X51sZmlsZQ%3D%3D?line=1'>2</a>\u001b[0m \u001b[39mfor\u001b[39;00m path \u001b[39min\u001b[39;00m ls:\n\u001b[0;32m      <a href='vscode-notebook-cell:/d%3A/OneDrive%20-%20Industrial%20University%20of%20HoChiMinh%20City/WORKBASE/Project-rsna-breast-cancer-detection/Notebook_code/Analys_static.ipynb#X51sZmlsZQ%3D%3D?line=2'>3</a>\u001b[0m     name \u001b[39m=\u001b[39m os\u001b[39m.\u001b[39mpath\u001b[39m.\u001b[39mbasename(path)\u001b[39m.\u001b[39msplit(\u001b[39m'\u001b[39m\u001b[39m.\u001b[39m\u001b[39m'\u001b[39m)[\u001b[39m0\u001b[39m]    \n\u001b[1;32m----> <a href='vscode-notebook-cell:/d%3A/OneDrive%20-%20Industrial%20University%20of%20HoChiMinh%20City/WORKBASE/Project-rsna-breast-cancer-detection/Notebook_code/Analys_static.ipynb#X51sZmlsZQ%3D%3D?line=3'>4</a>\u001b[0m     aval1, aval2, aval3 \u001b[39m=\u001b[39m \u001b[39mmap\u001b[39m(\u001b[39mint\u001b[39m, \u001b[39minput\u001b[39m()\u001b[39m.\u001b[39msplit())\n\u001b[0;32m      <a href='vscode-notebook-cell:/d%3A/OneDrive%20-%20Industrial%20University%20of%20HoChiMinh%20City/WORKBASE/Project-rsna-breast-cancer-detection/Notebook_code/Analys_static.ipynb#X51sZmlsZQ%3D%3D?line=4'>5</a>\u001b[0m     \u001b[39meval\u001b[39m\u001b[39m.\u001b[39mloc[\u001b[39mid\u001b[39m] \u001b[39m=\u001b[39m [name, aval1, aval2, aval3]\n\u001b[0;32m      <a href='vscode-notebook-cell:/d%3A/OneDrive%20-%20Industrial%20University%20of%20HoChiMinh%20City/WORKBASE/Project-rsna-breast-cancer-detection/Notebook_code/Analys_static.ipynb#X51sZmlsZQ%3D%3D?line=5'>6</a>\u001b[0m     \u001b[39mid\u001b[39m\u001b[39m+\u001b[39m\u001b[39m=\u001b[39m\u001b[39m1\u001b[39m\n",
      "\u001b[1;31mValueError\u001b[0m: not enough values to unpack (expected 3, got 2)"
     ]
    }
   ],
   "source": [
    "id = 0\n",
    "for path in ls:\n",
    "    name = os.path.basename(path).split('.')[0]    \n",
    "    aval1, aval2, aval3 = map(int, input().split())\n",
    "    eval.loc[id] = [name, aval1, aval2, aval3]\n",
    "    id+=1"
   ]
  },
  {
   "cell_type": "code",
   "execution_count": 18,
   "metadata": {},
   "outputs": [
    {
     "data": {
      "text/html": [
       "<div>\n",
       "<style scoped>\n",
       "    .dataframe tbody tr th:only-of-type {\n",
       "        vertical-align: middle;\n",
       "    }\n",
       "\n",
       "    .dataframe tbody tr th {\n",
       "        vertical-align: top;\n",
       "    }\n",
       "\n",
       "    .dataframe thead th {\n",
       "        text-align: right;\n",
       "    }\n",
       "</style>\n",
       "<table border=\"1\" class=\"dataframe\">\n",
       "  <thead>\n",
       "    <tr style=\"text-align: right;\">\n",
       "      <th></th>\n",
       "      <th>id_image</th>\n",
       "      <th>connectedComponents</th>\n",
       "      <th>contour</th>\n",
       "      <th>foryou</th>\n",
       "    </tr>\n",
       "  </thead>\n",
       "  <tbody>\n",
       "    <tr>\n",
       "      <th>1350</th>\n",
       "      <td>1001_ddsm</td>\n",
       "      <td>3</td>\n",
       "      <td>3</td>\n",
       "      <td>3</td>\n",
       "    </tr>\n",
       "    <tr>\n",
       "      <th>0</th>\n",
       "      <td>0_ddsm</td>\n",
       "      <td>2</td>\n",
       "      <td>2</td>\n",
       "      <td>3</td>\n",
       "    </tr>\n",
       "    <tr>\n",
       "      <th>1</th>\n",
       "      <td>1000_ddsm</td>\n",
       "      <td>2</td>\n",
       "      <td>2</td>\n",
       "      <td>3</td>\n",
       "    </tr>\n",
       "    <tr>\n",
       "      <th>2</th>\n",
       "      <td>1001_ddsm</td>\n",
       "      <td>2</td>\n",
       "      <td>2</td>\n",
       "      <td>3</td>\n",
       "    </tr>\n",
       "    <tr>\n",
       "      <th>3</th>\n",
       "      <td>1002_ddsm</td>\n",
       "      <td>3</td>\n",
       "      <td>3</td>\n",
       "      <td>3</td>\n",
       "    </tr>\n",
       "    <tr>\n",
       "      <th>4</th>\n",
       "      <td>1003_ddsm</td>\n",
       "      <td>2</td>\n",
       "      <td>2</td>\n",
       "      <td>3</td>\n",
       "    </tr>\n",
       "    <tr>\n",
       "      <th>5</th>\n",
       "      <td>1004_ddsm</td>\n",
       "      <td>1</td>\n",
       "      <td>1</td>\n",
       "      <td>3</td>\n",
       "    </tr>\n",
       "    <tr>\n",
       "      <th>6</th>\n",
       "      <td>1005_ddsm</td>\n",
       "      <td>2</td>\n",
       "      <td>2</td>\n",
       "      <td>3</td>\n",
       "    </tr>\n",
       "    <tr>\n",
       "      <th>7</th>\n",
       "      <td>1006_ddsm</td>\n",
       "      <td>2</td>\n",
       "      <td>2</td>\n",
       "      <td>2</td>\n",
       "    </tr>\n",
       "    <tr>\n",
       "      <th>8</th>\n",
       "      <td>1007_ddsm</td>\n",
       "      <td>3</td>\n",
       "      <td>3</td>\n",
       "      <td>2</td>\n",
       "    </tr>\n",
       "    <tr>\n",
       "      <th>9</th>\n",
       "      <td>1008_ddsm</td>\n",
       "      <td>3</td>\n",
       "      <td>3</td>\n",
       "      <td>3</td>\n",
       "    </tr>\n",
       "    <tr>\n",
       "      <th>10</th>\n",
       "      <td>1009_ddsm</td>\n",
       "      <td>3</td>\n",
       "      <td>3</td>\n",
       "      <td>3</td>\n",
       "    </tr>\n",
       "    <tr>\n",
       "      <th>11</th>\n",
       "      <td>100_ddsm</td>\n",
       "      <td>3</td>\n",
       "      <td>3</td>\n",
       "      <td>3</td>\n",
       "    </tr>\n",
       "    <tr>\n",
       "      <th>12</th>\n",
       "      <td>1010_ddsm</td>\n",
       "      <td>3</td>\n",
       "      <td>3</td>\n",
       "      <td>2</td>\n",
       "    </tr>\n",
       "    <tr>\n",
       "      <th>13</th>\n",
       "      <td>1011_ddsm</td>\n",
       "      <td>2</td>\n",
       "      <td>2</td>\n",
       "      <td>2</td>\n",
       "    </tr>\n",
       "  </tbody>\n",
       "</table>\n",
       "</div>"
      ],
      "text/plain": [
       "       id_image  connectedComponents  contour  foryou\n",
       "1350  1001_ddsm                    3        3       3\n",
       "0        0_ddsm                    2        2       3\n",
       "1     1000_ddsm                    2        2       3\n",
       "2     1001_ddsm                    2        2       3\n",
       "3     1002_ddsm                    3        3       3\n",
       "4     1003_ddsm                    2        2       3\n",
       "5     1004_ddsm                    1        1       3\n",
       "6     1005_ddsm                    2        2       3\n",
       "7     1006_ddsm                    2        2       2\n",
       "8     1007_ddsm                    3        3       2\n",
       "9     1008_ddsm                    3        3       3\n",
       "10    1009_ddsm                    3        3       3\n",
       "11     100_ddsm                    3        3       3\n",
       "12    1010_ddsm                    3        3       2\n",
       "13    1011_ddsm                    2        2       2"
      ]
     },
     "execution_count": 18,
     "metadata": {},
     "output_type": "execute_result"
    }
   ],
   "source": [
    "eval"
   ]
  },
  {
   "cell_type": "code",
   "execution_count": 46,
   "metadata": {},
   "outputs": [
    {
     "name": "stderr",
     "output_type": "stream",
     "text": [
      "C:\\Users\\nguye\\AppData\\Local\\Temp\\ipykernel_13228\\1113055196.py:5: SettingWithCopyWarning: \n",
      "A value is trying to be set on a copy of a slice from a DataFrame\n",
      "\n",
      "See the caveats in the documentation: https://pandas.pydata.org/pandas-docs/stable/user_guide/indexing.html#returning-a-view-versus-a-copy\n",
      "  eval.loc[id] = [aval1, aval2, aval3]\n",
      "C:\\Users\\nguye\\AppData\\Local\\Temp\\ipykernel_13228\\1113055196.py:5: SettingWithCopyWarning: \n",
      "A value is trying to be set on a copy of a slice from a DataFrame\n",
      "\n",
      "See the caveats in the documentation: https://pandas.pydata.org/pandas-docs/stable/user_guide/indexing.html#returning-a-view-versus-a-copy\n",
      "  eval.loc[id] = [aval1, aval2, aval3]\n",
      "C:\\Users\\nguye\\AppData\\Local\\Temp\\ipykernel_13228\\1113055196.py:5: SettingWithCopyWarning: \n",
      "A value is trying to be set on a copy of a slice from a DataFrame\n",
      "\n",
      "See the caveats in the documentation: https://pandas.pydata.org/pandas-docs/stable/user_guide/indexing.html#returning-a-view-versus-a-copy\n",
      "  eval.loc[id] = [aval1, aval2, aval3]\n",
      "C:\\Users\\nguye\\AppData\\Local\\Temp\\ipykernel_13228\\1113055196.py:5: SettingWithCopyWarning: \n",
      "A value is trying to be set on a copy of a slice from a DataFrame\n",
      "\n",
      "See the caveats in the documentation: https://pandas.pydata.org/pandas-docs/stable/user_guide/indexing.html#returning-a-view-versus-a-copy\n",
      "  eval.loc[id] = [aval1, aval2, aval3]\n",
      "C:\\Users\\nguye\\AppData\\Local\\Temp\\ipykernel_13228\\1113055196.py:5: SettingWithCopyWarning: \n",
      "A value is trying to be set on a copy of a slice from a DataFrame\n",
      "\n",
      "See the caveats in the documentation: https://pandas.pydata.org/pandas-docs/stable/user_guide/indexing.html#returning-a-view-versus-a-copy\n",
      "  eval.loc[id] = [aval1, aval2, aval3]\n",
      "C:\\Users\\nguye\\AppData\\Local\\Temp\\ipykernel_13228\\1113055196.py:5: SettingWithCopyWarning: \n",
      "A value is trying to be set on a copy of a slice from a DataFrame\n",
      "\n",
      "See the caveats in the documentation: https://pandas.pydata.org/pandas-docs/stable/user_guide/indexing.html#returning-a-view-versus-a-copy\n",
      "  eval.loc[id] = [aval1, aval2, aval3]\n",
      "C:\\Users\\nguye\\AppData\\Local\\Temp\\ipykernel_13228\\1113055196.py:5: SettingWithCopyWarning: \n",
      "A value is trying to be set on a copy of a slice from a DataFrame\n",
      "\n",
      "See the caveats in the documentation: https://pandas.pydata.org/pandas-docs/stable/user_guide/indexing.html#returning-a-view-versus-a-copy\n",
      "  eval.loc[id] = [aval1, aval2, aval3]\n",
      "C:\\Users\\nguye\\AppData\\Local\\Temp\\ipykernel_13228\\1113055196.py:5: SettingWithCopyWarning: \n",
      "A value is trying to be set on a copy of a slice from a DataFrame\n",
      "\n",
      "See the caveats in the documentation: https://pandas.pydata.org/pandas-docs/stable/user_guide/indexing.html#returning-a-view-versus-a-copy\n",
      "  eval.loc[id] = [aval1, aval2, aval3]\n",
      "C:\\Users\\nguye\\AppData\\Local\\Temp\\ipykernel_13228\\1113055196.py:5: SettingWithCopyWarning: \n",
      "A value is trying to be set on a copy of a slice from a DataFrame\n",
      "\n",
      "See the caveats in the documentation: https://pandas.pydata.org/pandas-docs/stable/user_guide/indexing.html#returning-a-view-versus-a-copy\n",
      "  eval.loc[id] = [aval1, aval2, aval3]\n",
      "C:\\Users\\nguye\\AppData\\Local\\Temp\\ipykernel_13228\\1113055196.py:5: SettingWithCopyWarning: \n",
      "A value is trying to be set on a copy of a slice from a DataFrame\n",
      "\n",
      "See the caveats in the documentation: https://pandas.pydata.org/pandas-docs/stable/user_guide/indexing.html#returning-a-view-versus-a-copy\n",
      "  eval.loc[id] = [aval1, aval2, aval3]\n",
      "C:\\Users\\nguye\\AppData\\Local\\Temp\\ipykernel_13228\\1113055196.py:5: SettingWithCopyWarning: \n",
      "A value is trying to be set on a copy of a slice from a DataFrame\n",
      "\n",
      "See the caveats in the documentation: https://pandas.pydata.org/pandas-docs/stable/user_guide/indexing.html#returning-a-view-versus-a-copy\n",
      "  eval.loc[id] = [aval1, aval2, aval3]\n",
      "C:\\Users\\nguye\\AppData\\Local\\Temp\\ipykernel_13228\\1113055196.py:5: SettingWithCopyWarning: \n",
      "A value is trying to be set on a copy of a slice from a DataFrame\n",
      "\n",
      "See the caveats in the documentation: https://pandas.pydata.org/pandas-docs/stable/user_guide/indexing.html#returning-a-view-versus-a-copy\n",
      "  eval.loc[id] = [aval1, aval2, aval3]\n",
      "C:\\Users\\nguye\\AppData\\Local\\Temp\\ipykernel_13228\\1113055196.py:5: SettingWithCopyWarning: \n",
      "A value is trying to be set on a copy of a slice from a DataFrame\n",
      "\n",
      "See the caveats in the documentation: https://pandas.pydata.org/pandas-docs/stable/user_guide/indexing.html#returning-a-view-versus-a-copy\n",
      "  eval.loc[id] = [aval1, aval2, aval3]\n",
      "C:\\Users\\nguye\\AppData\\Local\\Temp\\ipykernel_13228\\1113055196.py:5: SettingWithCopyWarning: \n",
      "A value is trying to be set on a copy of a slice from a DataFrame\n",
      "\n",
      "See the caveats in the documentation: https://pandas.pydata.org/pandas-docs/stable/user_guide/indexing.html#returning-a-view-versus-a-copy\n",
      "  eval.loc[id] = [aval1, aval2, aval3]\n",
      "C:\\Users\\nguye\\AppData\\Local\\Temp\\ipykernel_13228\\1113055196.py:5: SettingWithCopyWarning: \n",
      "A value is trying to be set on a copy of a slice from a DataFrame\n",
      "\n",
      "See the caveats in the documentation: https://pandas.pydata.org/pandas-docs/stable/user_guide/indexing.html#returning-a-view-versus-a-copy\n",
      "  eval.loc[id] = [aval1, aval2, aval3]\n",
      "C:\\Users\\nguye\\AppData\\Local\\Temp\\ipykernel_13228\\1113055196.py:5: SettingWithCopyWarning: \n",
      "A value is trying to be set on a copy of a slice from a DataFrame\n",
      "\n",
      "See the caveats in the documentation: https://pandas.pydata.org/pandas-docs/stable/user_guide/indexing.html#returning-a-view-versus-a-copy\n",
      "  eval.loc[id] = [aval1, aval2, aval3]\n",
      "C:\\Users\\nguye\\AppData\\Local\\Temp\\ipykernel_13228\\1113055196.py:5: SettingWithCopyWarning: \n",
      "A value is trying to be set on a copy of a slice from a DataFrame\n",
      "\n",
      "See the caveats in the documentation: https://pandas.pydata.org/pandas-docs/stable/user_guide/indexing.html#returning-a-view-versus-a-copy\n",
      "  eval.loc[id] = [aval1, aval2, aval3]\n",
      "C:\\Users\\nguye\\AppData\\Local\\Temp\\ipykernel_13228\\1113055196.py:5: SettingWithCopyWarning: \n",
      "A value is trying to be set on a copy of a slice from a DataFrame\n",
      "\n",
      "See the caveats in the documentation: https://pandas.pydata.org/pandas-docs/stable/user_guide/indexing.html#returning-a-view-versus-a-copy\n",
      "  eval.loc[id] = [aval1, aval2, aval3]\n",
      "C:\\Users\\nguye\\AppData\\Local\\Temp\\ipykernel_13228\\1113055196.py:5: SettingWithCopyWarning: \n",
      "A value is trying to be set on a copy of a slice from a DataFrame\n",
      "\n",
      "See the caveats in the documentation: https://pandas.pydata.org/pandas-docs/stable/user_guide/indexing.html#returning-a-view-versus-a-copy\n",
      "  eval.loc[id] = [aval1, aval2, aval3]\n",
      "C:\\Users\\nguye\\AppData\\Local\\Temp\\ipykernel_13228\\1113055196.py:5: SettingWithCopyWarning: \n",
      "A value is trying to be set on a copy of a slice from a DataFrame\n",
      "\n",
      "See the caveats in the documentation: https://pandas.pydata.org/pandas-docs/stable/user_guide/indexing.html#returning-a-view-versus-a-copy\n",
      "  eval.loc[id] = [aval1, aval2, aval3]\n",
      "C:\\Users\\nguye\\AppData\\Local\\Temp\\ipykernel_13228\\1113055196.py:5: SettingWithCopyWarning: \n",
      "A value is trying to be set on a copy of a slice from a DataFrame\n",
      "\n",
      "See the caveats in the documentation: https://pandas.pydata.org/pandas-docs/stable/user_guide/indexing.html#returning-a-view-versus-a-copy\n",
      "  eval.loc[id] = [aval1, aval2, aval3]\n",
      "C:\\Users\\nguye\\AppData\\Local\\Temp\\ipykernel_13228\\1113055196.py:5: SettingWithCopyWarning: \n",
      "A value is trying to be set on a copy of a slice from a DataFrame\n",
      "\n",
      "See the caveats in the documentation: https://pandas.pydata.org/pandas-docs/stable/user_guide/indexing.html#returning-a-view-versus-a-copy\n",
      "  eval.loc[id] = [aval1, aval2, aval3]\n",
      "C:\\Users\\nguye\\AppData\\Local\\Temp\\ipykernel_13228\\1113055196.py:5: SettingWithCopyWarning: \n",
      "A value is trying to be set on a copy of a slice from a DataFrame\n",
      "\n",
      "See the caveats in the documentation: https://pandas.pydata.org/pandas-docs/stable/user_guide/indexing.html#returning-a-view-versus-a-copy\n",
      "  eval.loc[id] = [aval1, aval2, aval3]\n"
     ]
    },
    {
     "ename": "ValueError",
     "evalue": "invalid literal for int() with base 10: '='",
     "output_type": "error",
     "traceback": [
      "\u001b[1;31m---------------------------------------------------------------------------\u001b[0m",
      "\u001b[1;31mValueError\u001b[0m                                Traceback (most recent call last)",
      "\u001b[1;32md:\\OneDrive - Industrial University of HoChiMinh City\\WORKBASE\\Project-rsna-breast-cancer-detection\\Notebook_code\\Analys_static.ipynb Cell 11\u001b[0m in \u001b[0;36m<cell line: 2>\u001b[1;34m()\u001b[0m\n\u001b[0;32m      <a href='vscode-notebook-cell:/d%3A/OneDrive%20-%20Industrial%20University%20of%20HoChiMinh%20City/WORKBASE/Project-rsna-breast-cancer-detection/Notebook_code/Analys_static.ipynb#X53sZmlsZQ%3D%3D?line=1'>2</a>\u001b[0m \u001b[39mfor\u001b[39;00m path \u001b[39min\u001b[39;00m ls[\u001b[39m648\u001b[39m:]:\n\u001b[0;32m      <a href='vscode-notebook-cell:/d%3A/OneDrive%20-%20Industrial%20University%20of%20HoChiMinh%20City/WORKBASE/Project-rsna-breast-cancer-detection/Notebook_code/Analys_static.ipynb#X53sZmlsZQ%3D%3D?line=2'>3</a>\u001b[0m     name \u001b[39m=\u001b[39m os\u001b[39m.\u001b[39mpath\u001b[39m.\u001b[39mbasename(path)\u001b[39m.\u001b[39msplit(\u001b[39m'\u001b[39m\u001b[39m.\u001b[39m\u001b[39m'\u001b[39m)[\u001b[39m0\u001b[39m]    \n\u001b[1;32m----> <a href='vscode-notebook-cell:/d%3A/OneDrive%20-%20Industrial%20University%20of%20HoChiMinh%20City/WORKBASE/Project-rsna-breast-cancer-detection/Notebook_code/Analys_static.ipynb#X53sZmlsZQ%3D%3D?line=3'>4</a>\u001b[0m     aval1, aval2, aval3 \u001b[39m=\u001b[39m \u001b[39mmap\u001b[39m(\u001b[39mint\u001b[39m, \u001b[39minput\u001b[39m()\u001b[39m.\u001b[39msplit())\n\u001b[0;32m      <a href='vscode-notebook-cell:/d%3A/OneDrive%20-%20Industrial%20University%20of%20HoChiMinh%20City/WORKBASE/Project-rsna-breast-cancer-detection/Notebook_code/Analys_static.ipynb#X53sZmlsZQ%3D%3D?line=4'>5</a>\u001b[0m     \u001b[39meval\u001b[39m\u001b[39m.\u001b[39mloc[\u001b[39mid\u001b[39m] \u001b[39m=\u001b[39m [aval1, aval2, aval3]\n\u001b[0;32m      <a href='vscode-notebook-cell:/d%3A/OneDrive%20-%20Industrial%20University%20of%20HoChiMinh%20City/WORKBASE/Project-rsna-breast-cancer-detection/Notebook_code/Analys_static.ipynb#X53sZmlsZQ%3D%3D?line=5'>6</a>\u001b[0m     \u001b[39mid\u001b[39m\u001b[39m+\u001b[39m\u001b[39m=\u001b[39m\u001b[39m1\u001b[39m\n",
      "\u001b[1;31mValueError\u001b[0m: invalid literal for int() with base 10: '='"
     ]
    }
   ],
   "source": [
    "id = 648\n",
    "for path in ls[648:]:\n",
    "    name = os.path.basename(path).split('.')[0]    \n",
    "    aval1, aval2, aval3 = map(int, input().split())\n",
    "    eval.loc[id] = [aval1, aval2, aval3]\n",
    "    id+=1"
   ]
  },
  {
   "cell_type": "code",
   "execution_count": 52,
   "metadata": {},
   "outputs": [],
   "source": [
    "eval = eval.reset_index()"
   ]
  },
  {
   "cell_type": "code",
   "execution_count": 53,
   "metadata": {},
   "outputs": [],
   "source": [
    "# eval = eval.reset_index()"
   ]
  },
  {
   "cell_type": "code",
   "execution_count": 55,
   "metadata": {},
   "outputs": [
    {
     "data": {
      "text/html": [
       "<div>\n",
       "<style scoped>\n",
       "    .dataframe tbody tr th:only-of-type {\n",
       "        vertical-align: middle;\n",
       "    }\n",
       "\n",
       "    .dataframe tbody tr th {\n",
       "        vertical-align: top;\n",
       "    }\n",
       "\n",
       "    .dataframe thead th {\n",
       "        text-align: right;\n",
       "    }\n",
       "</style>\n",
       "<table border=\"1\" class=\"dataframe\">\n",
       "  <thead>\n",
       "    <tr style=\"text-align: right;\">\n",
       "      <th></th>\n",
       "      <th>connectedComponents</th>\n",
       "      <th>contour</th>\n",
       "      <th>foryou</th>\n",
       "    </tr>\n",
       "  </thead>\n",
       "  <tbody>\n",
       "    <tr>\n",
       "      <th>0</th>\n",
       "      <td>3</td>\n",
       "      <td>3</td>\n",
       "      <td>3</td>\n",
       "    </tr>\n",
       "    <tr>\n",
       "      <th>1</th>\n",
       "      <td>2</td>\n",
       "      <td>2</td>\n",
       "      <td>3</td>\n",
       "    </tr>\n",
       "    <tr>\n",
       "      <th>2</th>\n",
       "      <td>2</td>\n",
       "      <td>2</td>\n",
       "      <td>3</td>\n",
       "    </tr>\n",
       "    <tr>\n",
       "      <th>3</th>\n",
       "      <td>2</td>\n",
       "      <td>2</td>\n",
       "      <td>3</td>\n",
       "    </tr>\n",
       "    <tr>\n",
       "      <th>4</th>\n",
       "      <td>3</td>\n",
       "      <td>3</td>\n",
       "      <td>3</td>\n",
       "    </tr>\n",
       "    <tr>\n",
       "      <th>...</th>\n",
       "      <td>...</td>\n",
       "      <td>...</td>\n",
       "      <td>...</td>\n",
       "    </tr>\n",
       "    <tr>\n",
       "      <th>667</th>\n",
       "      <td>3</td>\n",
       "      <td>3</td>\n",
       "      <td>3</td>\n",
       "    </tr>\n",
       "    <tr>\n",
       "      <th>668</th>\n",
       "      <td>2</td>\n",
       "      <td>2</td>\n",
       "      <td>3</td>\n",
       "    </tr>\n",
       "    <tr>\n",
       "      <th>669</th>\n",
       "      <td>2</td>\n",
       "      <td>2</td>\n",
       "      <td>3</td>\n",
       "    </tr>\n",
       "    <tr>\n",
       "      <th>670</th>\n",
       "      <td>3</td>\n",
       "      <td>3</td>\n",
       "      <td>3</td>\n",
       "    </tr>\n",
       "    <tr>\n",
       "      <th>671</th>\n",
       "      <td>3</td>\n",
       "      <td>3</td>\n",
       "      <td>3</td>\n",
       "    </tr>\n",
       "  </tbody>\n",
       "</table>\n",
       "<p>672 rows × 3 columns</p>\n",
       "</div>"
      ],
      "text/plain": [
       "     connectedComponents  contour  foryou\n",
       "0                      3        3       3\n",
       "1                      2        2       3\n",
       "2                      2        2       3\n",
       "3                      2        2       3\n",
       "4                      3        3       3\n",
       "..                   ...      ...     ...\n",
       "667                    3        3       3\n",
       "668                    2        2       3\n",
       "669                    2        2       3\n",
       "670                    3        3       3\n",
       "671                    3        3       3\n",
       "\n",
       "[672 rows x 3 columns]"
      ]
     },
     "execution_count": 55,
     "metadata": {},
     "output_type": "execute_result"
    }
   ],
   "source": [
    "eval = eval[['connectedComponents', 'contour', 'foryou']]\n",
    "eval"
   ]
  },
  {
   "cell_type": "code",
   "execution_count": 57,
   "metadata": {},
   "outputs": [
    {
     "data": {
      "text/plain": [
       "2    296\n",
       "3    234\n",
       "1    142\n",
       "Name: connectedComponents, dtype: int64"
      ]
     },
     "execution_count": 57,
     "metadata": {},
     "output_type": "execute_result"
    }
   ],
   "source": [
    "eval.connectedComponents.value_counts()"
   ]
  },
  {
   "cell_type": "code",
   "execution_count": 68,
   "metadata": {},
   "outputs": [],
   "source": [
    "# data_connectedComponents = pd.DataFrame(columns=[\"eval\", \"quantity\", \"method\"])\n",
    "# data_contour = pd.DataFrame(columns=[\"eval\", \"quantity\", \"method\"])\n",
    "data_main = pd.DataFrame(columns=[\"eval\", \"quantity\", \"method\"])"
   ]
  },
  {
   "cell_type": "code",
   "execution_count": 69,
   "metadata": {},
   "outputs": [],
   "source": [
    "connectedComponents =  eval.connectedComponents.value_counts()\n",
    "contour =  eval.contour.value_counts()\n",
    "foryou =  eval.foryou.value_counts()"
   ]
  },
  {
   "cell_type": "code",
   "execution_count": 70,
   "metadata": {},
   "outputs": [],
   "source": [
    "id = 0\n",
    "for i in range(1, 4):\n",
    "    data_main.loc[id] = [i, connectedComponents[i], \"connectedComponents\"]\n",
    "    data_main.loc[id+1] = [i, contour[i], \"contour\"]\n",
    "    data_main.loc[id+2] = [i, foryou[i], \"foryou\"]\n",
    "    id+=3"
   ]
  },
  {
   "cell_type": "code",
   "execution_count": 9,
   "metadata": {},
   "outputs": [
    {
     "name": "stdout",
     "output_type": "stream",
     "text": [
      "21.13095238095238\n",
      "20.238095238095237\n",
      "20.238095238095237\n",
      "34.672619047619044\n",
      "44.047619047619044\n",
      "58.92857142857143\n",
      "34.82142857142857\n",
      "34.82142857142857\n",
      "45.089285714285715\n",
      "45.089285714285715\n",
      "34.672619047619044\n",
      "34.672619047619044\n",
      "11.607142857142858\n",
      "85.56547619047619\n",
      "85.56547619047619\n"
     ]
    },
    {
     "ename": "KeyboardInterrupt",
     "evalue": "Interrupted by user",
     "output_type": "error",
     "traceback": [
      "\u001b[1;31m---------------------------------------------------------------------------\u001b[0m",
      "\u001b[1;31mKeyboardInterrupt\u001b[0m                         Traceback (most recent call last)",
      "\u001b[1;32md:\\OneDrive - Industrial University of HoChiMinh City\\WORKBASE\\Project-rsna-breast-cancer-detection\\Notebook_code\\Analys_static.ipynb Cell 19\u001b[0m in \u001b[0;36m<cell line: 3>\u001b[1;34m()\u001b[0m\n\u001b[0;32m      <a href='vscode-notebook-cell:/d%3A/OneDrive%20-%20Industrial%20University%20of%20HoChiMinh%20City/WORKBASE/Project-rsna-breast-cancer-detection/Notebook_code/Analys_static.ipynb#Y104sZmlsZQ%3D%3D?line=1'>2</a>\u001b[0m     \u001b[39mreturn\u001b[39;00m (n)\u001b[39m/\u001b[39m\u001b[39m672\u001b[39m \u001b[39m*\u001b[39m\u001b[39m100\u001b[39m\n\u001b[0;32m      <a href='vscode-notebook-cell:/d%3A/OneDrive%20-%20Industrial%20University%20of%20HoChiMinh%20City/WORKBASE/Project-rsna-breast-cancer-detection/Notebook_code/Analys_static.ipynb#Y104sZmlsZQ%3D%3D?line=2'>3</a>\u001b[0m \u001b[39mwhile\u001b[39;00m \u001b[39mTrue\u001b[39;00m:\n\u001b[1;32m----> <a href='vscode-notebook-cell:/d%3A/OneDrive%20-%20Industrial%20University%20of%20HoChiMinh%20City/WORKBASE/Project-rsna-breast-cancer-detection/Notebook_code/Analys_static.ipynb#Y104sZmlsZQ%3D%3D?line=3'>4</a>\u001b[0m     \u001b[39mprint\u001b[39m(percent(\u001b[39mint\u001b[39m(\u001b[39minput\u001b[39;49m())))\n",
      "File \u001b[1;32mc:\\Users\\nguye\\AppData\\Local\\Programs\\Python\\Python310\\lib\\site-packages\\ipykernel\\kernelbase.py:1161\u001b[0m, in \u001b[0;36mKernel.raw_input\u001b[1;34m(self, prompt)\u001b[0m\n\u001b[0;32m   1157\u001b[0m \u001b[39mif\u001b[39;00m \u001b[39mnot\u001b[39;00m \u001b[39mself\u001b[39m\u001b[39m.\u001b[39m_allow_stdin:\n\u001b[0;32m   1158\u001b[0m     \u001b[39mraise\u001b[39;00m StdinNotImplementedError(\n\u001b[0;32m   1159\u001b[0m         \u001b[39m\"\u001b[39m\u001b[39mraw_input was called, but this frontend does not support input requests.\u001b[39m\u001b[39m\"\u001b[39m\n\u001b[0;32m   1160\u001b[0m     )\n\u001b[1;32m-> 1161\u001b[0m \u001b[39mreturn\u001b[39;00m \u001b[39mself\u001b[39;49m\u001b[39m.\u001b[39;49m_input_request(\n\u001b[0;32m   1162\u001b[0m     \u001b[39mstr\u001b[39;49m(prompt),\n\u001b[0;32m   1163\u001b[0m     \u001b[39mself\u001b[39;49m\u001b[39m.\u001b[39;49m_parent_ident[\u001b[39m\"\u001b[39;49m\u001b[39mshell\u001b[39;49m\u001b[39m\"\u001b[39;49m],\n\u001b[0;32m   1164\u001b[0m     \u001b[39mself\u001b[39;49m\u001b[39m.\u001b[39;49mget_parent(\u001b[39m\"\u001b[39;49m\u001b[39mshell\u001b[39;49m\u001b[39m\"\u001b[39;49m),\n\u001b[0;32m   1165\u001b[0m     password\u001b[39m=\u001b[39;49m\u001b[39mFalse\u001b[39;49;00m,\n\u001b[0;32m   1166\u001b[0m )\n",
      "File \u001b[1;32mc:\\Users\\nguye\\AppData\\Local\\Programs\\Python\\Python310\\lib\\site-packages\\ipykernel\\kernelbase.py:1205\u001b[0m, in \u001b[0;36mKernel._input_request\u001b[1;34m(self, prompt, ident, parent, password)\u001b[0m\n\u001b[0;32m   1202\u001b[0m             \u001b[39mbreak\u001b[39;00m\n\u001b[0;32m   1203\u001b[0m \u001b[39mexcept\u001b[39;00m \u001b[39mKeyboardInterrupt\u001b[39;00m:\n\u001b[0;32m   1204\u001b[0m     \u001b[39m# re-raise KeyboardInterrupt, to truncate traceback\u001b[39;00m\n\u001b[1;32m-> 1205\u001b[0m     \u001b[39mraise\u001b[39;00m \u001b[39mKeyboardInterrupt\u001b[39;00m(\u001b[39m\"\u001b[39m\u001b[39mInterrupted by user\u001b[39m\u001b[39m\"\u001b[39m) \u001b[39mfrom\u001b[39;00m \u001b[39mNone\u001b[39m\n\u001b[0;32m   1206\u001b[0m \u001b[39mexcept\u001b[39;00m \u001b[39mException\u001b[39;00m:\n\u001b[0;32m   1207\u001b[0m     \u001b[39mself\u001b[39m\u001b[39m.\u001b[39mlog\u001b[39m.\u001b[39mwarning(\u001b[39m\"\u001b[39m\u001b[39mInvalid Message:\u001b[39m\u001b[39m\"\u001b[39m, exc_info\u001b[39m=\u001b[39m\u001b[39mTrue\u001b[39;00m)\n",
      "\u001b[1;31mKeyboardInterrupt\u001b[0m: Interrupted by user"
     ]
    }
   ],
   "source": [
    "def percent(n):\n",
    "    return (n)/672 *100\n",
    "while True:\n",
    "    print(percent(int(input())))"
   ]
  },
  {
   "cell_type": "code",
   "execution_count": 13,
   "metadata": {},
   "outputs": [
    {
     "data": {
      "text/plain": [
       "85.7"
      ]
     },
     "execution_count": 13,
     "metadata": {},
     "output_type": "execute_result"
    }
   ],
   "source": [
    "100 -(2.7 + 11.6 )"
   ]
  },
  {
   "cell_type": "code",
   "execution_count": 2,
   "metadata": {},
   "outputs": [
    {
     "ename": "NameError",
     "evalue": "name 'data_main' is not defined",
     "output_type": "error",
     "traceback": [
      "\u001b[1;31m---------------------------------------------------------------------------\u001b[0m",
      "\u001b[1;31mNameError\u001b[0m                                 Traceback (most recent call last)",
      "\u001b[1;32md:\\OneDrive - Industrial University of HoChiMinh City\\WORKBASE\\Project-rsna-breast-cancer-detection\\Notebook_code\\Analys_static.ipynb Cell 21\u001b[0m in \u001b[0;36m<cell line: 4>\u001b[1;34m()\u001b[0m\n\u001b[0;32m      <a href='vscode-notebook-cell:/d%3A/OneDrive%20-%20Industrial%20University%20of%20HoChiMinh%20City/WORKBASE/Project-rsna-breast-cancer-detection/Notebook_code/Analys_static.ipynb#X64sZmlsZQ%3D%3D?line=1'>2</a>\u001b[0m \u001b[39mimport\u001b[39;00m \u001b[39mplotly\u001b[39;00m\u001b[39m.\u001b[39;00m\u001b[39mexpress\u001b[39;00m \u001b[39mas\u001b[39;00m \u001b[39mpx\u001b[39;00m\n\u001b[0;32m      <a href='vscode-notebook-cell:/d%3A/OneDrive%20-%20Industrial%20University%20of%20HoChiMinh%20City/WORKBASE/Project-rsna-breast-cancer-detection/Notebook_code/Analys_static.ipynb#X64sZmlsZQ%3D%3D?line=2'>3</a>\u001b[0m \u001b[39mimport\u001b[39;00m \u001b[39mplotly\u001b[39;00m\u001b[39m.\u001b[39;00m\u001b[39mio\u001b[39;00m \u001b[39mas\u001b[39;00m \u001b[39mpio\u001b[39;00m\n\u001b[1;32m----> <a href='vscode-notebook-cell:/d%3A/OneDrive%20-%20Industrial%20University%20of%20HoChiMinh%20City/WORKBASE/Project-rsna-breast-cancer-detection/Notebook_code/Analys_static.ipynb#X64sZmlsZQ%3D%3D?line=3'>4</a>\u001b[0m fig \u001b[39m=\u001b[39m px\u001b[39m.\u001b[39mbar(data_main, x\u001b[39m=\u001b[39m\u001b[39m\"\u001b[39m\u001b[39meval\u001b[39m\u001b[39m\"\u001b[39m, y\u001b[39m=\u001b[39m\u001b[39m\"\u001b[39m\u001b[39mquantity\u001b[39m\u001b[39m\"\u001b[39m, color\u001b[39m=\u001b[39m\u001b[39m'\u001b[39m\u001b[39mmethod\u001b[39m\u001b[39m'\u001b[39m, text\u001b[39m=\u001b[39m\u001b[39m\"\u001b[39m\u001b[39mquantity\u001b[39m\u001b[39m\"\u001b[39m)\n\u001b[0;32m      <a href='vscode-notebook-cell:/d%3A/OneDrive%20-%20Industrial%20University%20of%20HoChiMinh%20City/WORKBASE/Project-rsna-breast-cancer-detection/Notebook_code/Analys_static.ipynb#X64sZmlsZQ%3D%3D?line=4'>5</a>\u001b[0m fig\u001b[39m.\u001b[39mshow()\n\u001b[0;32m      <a href='vscode-notebook-cell:/d%3A/OneDrive%20-%20Industrial%20University%20of%20HoChiMinh%20City/WORKBASE/Project-rsna-breast-cancer-detection/Notebook_code/Analys_static.ipynb#X64sZmlsZQ%3D%3D?line=5'>6</a>\u001b[0m fig\u001b[39m.\u001b[39mwrite_image(\u001b[39m'\u001b[39m\u001b[39mbieu_ti_le.png\u001b[39m\u001b[39m'\u001b[39m)\n",
      "\u001b[1;31mNameError\u001b[0m: name 'data_main' is not defined"
     ]
    }
   ],
   "source": [
    "### Visualization\n",
    "import plotly.express as px\n",
    "import plotly.io as pio\n",
    "fig = px.bar(data_main, x=\"eval\", y=\"quantity\", color='method', text=\"quantity\")\n",
    "fig.show()\n",
    "fig.write_image('bieu_ti_le.png')"
   ]
  },
  {
   "cell_type": "code",
   "execution_count": 1,
   "metadata": {},
   "outputs": [
    {
     "ename": "NameError",
     "evalue": "name 'animals' is not defined",
     "output_type": "error",
     "traceback": [
      "\u001b[1;31m---------------------------------------------------------------------------\u001b[0m",
      "\u001b[1;31mNameError\u001b[0m                                 Traceback (most recent call last)",
      "\u001b[1;32md:\\OneDrive - Industrial University of HoChiMinh City\\WORKBASE\\Project-rsna-breast-cancer-detection\\Notebook_code\\Analys_static.ipynb Cell 22\u001b[0m in \u001b[0;36m<cell line: 2>\u001b[1;34m()\u001b[0m\n\u001b[0;32m      <a href='vscode-notebook-cell:/d%3A/OneDrive%20-%20Industrial%20University%20of%20HoChiMinh%20City/WORKBASE/Project-rsna-breast-cancer-detection/Notebook_code/Analys_static.ipynb#X66sZmlsZQ%3D%3D?line=0'>1</a>\u001b[0m \u001b[39mimport\u001b[39;00m \u001b[39mplotly\u001b[39;00m\u001b[39m.\u001b[39;00m\u001b[39mgraph_objects\u001b[39;00m \u001b[39mas\u001b[39;00m \u001b[39mgo\u001b[39;00m\n\u001b[0;32m      <a href='vscode-notebook-cell:/d%3A/OneDrive%20-%20Industrial%20University%20of%20HoChiMinh%20City/WORKBASE/Project-rsna-breast-cancer-detection/Notebook_code/Analys_static.ipynb#X66sZmlsZQ%3D%3D?line=1'>2</a>\u001b[0m fig \u001b[39m=\u001b[39m go\u001b[39m.\u001b[39mFigure(data\u001b[39m=\u001b[39m[\n\u001b[0;32m      <a href='vscode-notebook-cell:/d%3A/OneDrive%20-%20Industrial%20University%20of%20HoChiMinh%20City/WORKBASE/Project-rsna-breast-cancer-detection/Notebook_code/Analys_static.ipynb#X66sZmlsZQ%3D%3D?line=2'>3</a>\u001b[0m     go\u001b[39m.\u001b[39mBar(name\u001b[39m=\u001b[39m\u001b[39m'\u001b[39m\u001b[39mconnectedComponents\u001b[39m\u001b[39m'\u001b[39m, x\u001b[39m=\u001b[39m[\u001b[39m1\u001b[39m, \u001b[39m2\u001b[39m, \u001b[39m3\u001b[39m], y\u001b[39m=\u001b[39m[\u001b[39m20\u001b[39m, \u001b[39m14\u001b[39m, \u001b[39m23\u001b[39m]),\n\u001b[1;32m----> <a href='vscode-notebook-cell:/d%3A/OneDrive%20-%20Industrial%20University%20of%20HoChiMinh%20City/WORKBASE/Project-rsna-breast-cancer-detection/Notebook_code/Analys_static.ipynb#X66sZmlsZQ%3D%3D?line=3'>4</a>\u001b[0m     go\u001b[39m.\u001b[39mBar(name\u001b[39m=\u001b[39m\u001b[39m'\u001b[39m\u001b[39mLA Zoo\u001b[39m\u001b[39m'\u001b[39m, x\u001b[39m=\u001b[39manimals, y\u001b[39m=\u001b[39m[\u001b[39m12\u001b[39m, \u001b[39m18\u001b[39m, \u001b[39m29\u001b[39m])\n\u001b[0;32m      <a href='vscode-notebook-cell:/d%3A/OneDrive%20-%20Industrial%20University%20of%20HoChiMinh%20City/WORKBASE/Project-rsna-breast-cancer-detection/Notebook_code/Analys_static.ipynb#X66sZmlsZQ%3D%3D?line=4'>5</a>\u001b[0m ])\n\u001b[0;32m      <a href='vscode-notebook-cell:/d%3A/OneDrive%20-%20Industrial%20University%20of%20HoChiMinh%20City/WORKBASE/Project-rsna-breast-cancer-detection/Notebook_code/Analys_static.ipynb#X66sZmlsZQ%3D%3D?line=5'>6</a>\u001b[0m \u001b[39m# Change the bar mode\u001b[39;00m\n\u001b[0;32m      <a href='vscode-notebook-cell:/d%3A/OneDrive%20-%20Industrial%20University%20of%20HoChiMinh%20City/WORKBASE/Project-rsna-breast-cancer-detection/Notebook_code/Analys_static.ipynb#X66sZmlsZQ%3D%3D?line=6'>7</a>\u001b[0m fig\u001b[39m.\u001b[39mupdate_layout(barmode\u001b[39m=\u001b[39m\u001b[39m'\u001b[39m\u001b[39mgroup\u001b[39m\u001b[39m'\u001b[39m)\n",
      "\u001b[1;31mNameError\u001b[0m: name 'animals' is not defined"
     ]
    }
   ],
   "source": [
    "import plotly.graph_objects as go\n",
    "fig = go.Figure(data=[\n",
    "    go.Bar(name='connectedComponents', x=[1, 2, 3], y=[20, 14, 23]),\n",
    "    go.Bar(name='LA Zoo', x=animals, y=[12, 18, 29])\n",
    "])\n",
    "# Change the bar mode\n",
    "fig.update_layout(barmode='group')\n",
    "fig.show()"
   ]
  },
  {
   "cell_type": "code",
   "execution_count": null,
   "metadata": {},
   "outputs": [],
   "source": []
  }
 ],
 "metadata": {
  "kernelspec": {
   "display_name": "Python 3",
   "language": "python",
   "name": "python3"
  },
  "language_info": {
   "codemirror_mode": {
    "name": "ipython",
    "version": 3
   },
   "file_extension": ".py",
   "mimetype": "text/x-python",
   "name": "python",
   "nbconvert_exporter": "python",
   "pygments_lexer": "ipython3",
   "version": "3.10.4"
  },
  "orig_nbformat": 4
 },
 "nbformat": 4,
 "nbformat_minor": 2
}
