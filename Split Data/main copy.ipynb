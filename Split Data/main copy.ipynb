{
 "cells": [
  {
   "cell_type": "code",
   "execution_count": 1,
   "metadata": {},
   "outputs": [],
   "source": [
    "import cv2\n",
    "from PIL import Image, ImageOps\n",
    "import argparse\n",
    "import os\n",
    "import glob\n",
    "import matplotlib.pyplot as plt\n",
    "import multiprocessing as mp\n",
    "from joblib import Parallel, delayed\n",
    "import pydicom\n",
    "import time\n",
    "import numpy as np\n",
    "import torch\n",
    "import random\n",
    "import pandas as pd\n",
    "from pydicom.pixel_data_handlers import apply_windowing\n",
    "import imageio\n",
    "import time\n",
    "import shutil"
   ]
  },
  {
   "cell_type": "code",
   "execution_count": null,
   "metadata": {},
   "outputs": [],
   "source": [
    "img = cv2.imread"
   ]
  },
  {
   "cell_type": "code",
   "execution_count": null,
   "metadata": {},
   "outputs": [],
   "source": [
    "import pydicom\n",
    "\n",
    "dcm = pydicom.dcmread('path/to/dicom/file.dcm')\n",
    "width = dcm.Rows\n",
    "height = dcm.Columns\n",
    "img = dcm.pixel_array\n"
   ]
  },
  {
   "attachments": {},
   "cell_type": "markdown",
   "metadata": {},
   "source": [
    "## 3 CLASS"
   ]
  },
  {
   "cell_type": "code",
   "execution_count": 3,
   "metadata": {},
   "outputs": [],
   "source": [
    "mias = pd.read_csv(\"E:/WORKBASE/Project-rsna-breast-cancer-detection/DATA_STANDARD/CSV 3 CLASS/Mias.csv\", index_col='Unnamed: 0')"
   ]
  },
  {
   "cell_type": "code",
   "execution_count": 4,
   "metadata": {},
   "outputs": [],
   "source": [
    "ddsm = pd.read_csv(\"E:\\WORKBASE\\Project-rsna-breast-cancer-detection\\DATA_STANDARD\\CSV 3 CLASS\\meta_ddsm.csv\", index_col='Unnamed: 0')"
   ]
  },
  {
   "cell_type": "code",
   "execution_count": 5,
   "metadata": {},
   "outputs": [],
   "source": [
    "cdd = pd.read_csv(\"E:\\WORKBASE\\Project-rsna-breast-cancer-detection\\DATA_STANDARD\\CSV 3 CLASS\\meta_cdd.csv\", index_col='Unnamed: 0')"
   ]
  },
  {
   "cell_type": "code",
   "execution_count": 38,
   "metadata": {},
   "outputs": [
    {
     "data": {
      "text/plain": [
       "'D:/OneDrive - Industrial University of HoChiMinh City/WORKBASE/Project-rsna-breast-cancer-detection/TheChineseMammographyDatabase/TheChineseMammographyDatabase/CMMD/D1-0001/07-18-2010-NA-NA-79377/1.000000-NA-70244\\\\1-1.dcm'"
      ]
     },
     "execution_count": 38,
     "metadata": {},
     "output_type": "execute_result"
    }
   ],
   "source": [
    "cmmd = pd.read_csv(\"E:/WORKBASE/Project-rsna-breast-cancer-detection/TheChineseMammographyDatabase/TheChineseMammographyDatabase/meta_main.csv\", index_col='Unnamed: 0')\n",
    "cmmd.path[0]"
   ]
  },
  {
   "cell_type": "code",
   "execution_count": 7,
   "metadata": {},
   "outputs": [],
   "source": [
    "cmmd.path = cmmd.path.apply(lambda x: x.replace('D:/OneDrive - Industrial University of HoChiMinh City', 'E:'))"
   ]
  },
  {
   "cell_type": "code",
   "execution_count": 40,
   "metadata": {},
   "outputs": [
    {
     "data": {
      "text/plain": [
       "cancer\n",
       "1    2633\n",
       "0    1108\n",
       "Name: count, dtype: int64"
      ]
     },
     "execution_count": 40,
     "metadata": {},
     "output_type": "execute_result"
    }
   ],
   "source": [
    "cmmd.cancer.value_counts()"
   ]
  },
  {
   "cell_type": "code",
   "execution_count": 8,
   "metadata": {},
   "outputs": [],
   "source": [
    "cmmd.image_id = cmmd.image_id.apply(lambda x: x.replace('_', '-'))"
   ]
  },
  {
   "cell_type": "code",
   "execution_count": 9,
   "metadata": {},
   "outputs": [
    {
     "data": {
      "text/html": [
       "<div>\n",
       "<style scoped>\n",
       "    .dataframe tbody tr th:only-of-type {\n",
       "        vertical-align: middle;\n",
       "    }\n",
       "\n",
       "    .dataframe tbody tr th {\n",
       "        vertical-align: top;\n",
       "    }\n",
       "\n",
       "    .dataframe thead th {\n",
       "        text-align: right;\n",
       "    }\n",
       "</style>\n",
       "<table border=\"1\" class=\"dataframe\">\n",
       "  <thead>\n",
       "    <tr style=\"text-align: right;\">\n",
       "      <th></th>\n",
       "      <th>index</th>\n",
       "      <th>patient_id</th>\n",
       "      <th>image_id</th>\n",
       "      <th>laterality</th>\n",
       "      <th>cancer</th>\n",
       "      <th>path</th>\n",
       "      <th>view</th>\n",
       "    </tr>\n",
       "  </thead>\n",
       "  <tbody>\n",
       "    <tr>\n",
       "      <th>0</th>\n",
       "      <td>0</td>\n",
       "      <td>D1-0001</td>\n",
       "      <td>D1-0001-1-1</td>\n",
       "      <td>R</td>\n",
       "      <td>0</td>\n",
       "      <td>E:/WORKBASE/Project-rsna-breast-cancer-detecti...</td>\n",
       "      <td>MLO</td>\n",
       "    </tr>\n",
       "    <tr>\n",
       "      <th>1</th>\n",
       "      <td>1</td>\n",
       "      <td>D1-0001</td>\n",
       "      <td>D1-0001-1-2</td>\n",
       "      <td>R</td>\n",
       "      <td>0</td>\n",
       "      <td>E:/WORKBASE/Project-rsna-breast-cancer-detecti...</td>\n",
       "      <td>CC</td>\n",
       "    </tr>\n",
       "    <tr>\n",
       "      <th>2</th>\n",
       "      <td>2</td>\n",
       "      <td>D1-0002</td>\n",
       "      <td>D1-0002-1-1</td>\n",
       "      <td>L</td>\n",
       "      <td>0</td>\n",
       "      <td>E:/WORKBASE/Project-rsna-breast-cancer-detecti...</td>\n",
       "      <td>MLO</td>\n",
       "    </tr>\n",
       "    <tr>\n",
       "      <th>3</th>\n",
       "      <td>3</td>\n",
       "      <td>D1-0002</td>\n",
       "      <td>D1-0002-1-2</td>\n",
       "      <td>L</td>\n",
       "      <td>0</td>\n",
       "      <td>E:/WORKBASE/Project-rsna-breast-cancer-detecti...</td>\n",
       "      <td>CC</td>\n",
       "    </tr>\n",
       "    <tr>\n",
       "      <th>4</th>\n",
       "      <td>4</td>\n",
       "      <td>D1-0003</td>\n",
       "      <td>D1-0003-1-1</td>\n",
       "      <td>L</td>\n",
       "      <td>0</td>\n",
       "      <td>E:/WORKBASE/Project-rsna-breast-cancer-detecti...</td>\n",
       "      <td>MLO</td>\n",
       "    </tr>\n",
       "    <tr>\n",
       "      <th>...</th>\n",
       "      <td>...</td>\n",
       "      <td>...</td>\n",
       "      <td>...</td>\n",
       "      <td>...</td>\n",
       "      <td>...</td>\n",
       "      <td>...</td>\n",
       "      <td>...</td>\n",
       "    </tr>\n",
       "    <tr>\n",
       "      <th>3736</th>\n",
       "      <td>3736</td>\n",
       "      <td>D2-0747</td>\n",
       "      <td>D2-0747-1-4</td>\n",
       "      <td>R</td>\n",
       "      <td>1</td>\n",
       "      <td>E:/WORKBASE/Project-rsna-breast-cancer-detecti...</td>\n",
       "      <td>CC</td>\n",
       "    </tr>\n",
       "    <tr>\n",
       "      <th>3737</th>\n",
       "      <td>3737</td>\n",
       "      <td>D2-0748</td>\n",
       "      <td>D2-0748-1-3</td>\n",
       "      <td>R</td>\n",
       "      <td>1</td>\n",
       "      <td>E:/WORKBASE/Project-rsna-breast-cancer-detecti...</td>\n",
       "      <td>MLO</td>\n",
       "    </tr>\n",
       "    <tr>\n",
       "      <th>3738</th>\n",
       "      <td>3738</td>\n",
       "      <td>D2-0748</td>\n",
       "      <td>D2-0748-1-4</td>\n",
       "      <td>R</td>\n",
       "      <td>1</td>\n",
       "      <td>E:/WORKBASE/Project-rsna-breast-cancer-detecti...</td>\n",
       "      <td>CC</td>\n",
       "    </tr>\n",
       "    <tr>\n",
       "      <th>3739</th>\n",
       "      <td>3739</td>\n",
       "      <td>D2-0749</td>\n",
       "      <td>D2-0749-1-1</td>\n",
       "      <td>L</td>\n",
       "      <td>1</td>\n",
       "      <td>E:/WORKBASE/Project-rsna-breast-cancer-detecti...</td>\n",
       "      <td>MLO</td>\n",
       "    </tr>\n",
       "    <tr>\n",
       "      <th>3740</th>\n",
       "      <td>3740</td>\n",
       "      <td>D2-0749</td>\n",
       "      <td>D2-0749-1-2</td>\n",
       "      <td>L</td>\n",
       "      <td>1</td>\n",
       "      <td>E:/WORKBASE/Project-rsna-breast-cancer-detecti...</td>\n",
       "      <td>CC</td>\n",
       "    </tr>\n",
       "  </tbody>\n",
       "</table>\n",
       "<p>3741 rows × 7 columns</p>\n",
       "</div>"
      ],
      "text/plain": [
       "      index patient_id     image_id laterality  cancer   \n",
       "0         0    D1-0001  D1-0001-1-1          R       0  \\\n",
       "1         1    D1-0001  D1-0001-1-2          R       0   \n",
       "2         2    D1-0002  D1-0002-1-1          L       0   \n",
       "3         3    D1-0002  D1-0002-1-2          L       0   \n",
       "4         4    D1-0003  D1-0003-1-1          L       0   \n",
       "...     ...        ...          ...        ...     ...   \n",
       "3736   3736    D2-0747  D2-0747-1-4          R       1   \n",
       "3737   3737    D2-0748  D2-0748-1-3          R       1   \n",
       "3738   3738    D2-0748  D2-0748-1-4          R       1   \n",
       "3739   3739    D2-0749  D2-0749-1-1          L       1   \n",
       "3740   3740    D2-0749  D2-0749-1-2          L       1   \n",
       "\n",
       "                                                   path view  \n",
       "0     E:/WORKBASE/Project-rsna-breast-cancer-detecti...  MLO  \n",
       "1     E:/WORKBASE/Project-rsna-breast-cancer-detecti...   CC  \n",
       "2     E:/WORKBASE/Project-rsna-breast-cancer-detecti...  MLO  \n",
       "3     E:/WORKBASE/Project-rsna-breast-cancer-detecti...   CC  \n",
       "4     E:/WORKBASE/Project-rsna-breast-cancer-detecti...  MLO  \n",
       "...                                                 ...  ...  \n",
       "3736  E:/WORKBASE/Project-rsna-breast-cancer-detecti...   CC  \n",
       "3737  E:/WORKBASE/Project-rsna-breast-cancer-detecti...  MLO  \n",
       "3738  E:/WORKBASE/Project-rsna-breast-cancer-detecti...   CC  \n",
       "3739  E:/WORKBASE/Project-rsna-breast-cancer-detecti...  MLO  \n",
       "3740  E:/WORKBASE/Project-rsna-breast-cancer-detecti...   CC  \n",
       "\n",
       "[3741 rows x 7 columns]"
      ]
     },
     "execution_count": 9,
     "metadata": {},
     "output_type": "execute_result"
    }
   ],
   "source": [
    "cmmd"
   ]
  },
  {
   "cell_type": "code",
   "execution_count": 10,
   "metadata": {},
   "outputs": [],
   "source": [
    "rsna = pd.read_csv(\"E:\\WORKBASE\\Project-rsna-breast-cancer-detection\\DATA_STANDARD\\RSNA.csv\", index_col='Unnamed: 0')"
   ]
  },
  {
   "attachments": {},
   "cell_type": "markdown",
   "metadata": {},
   "source": [
    "> MOVE IMAGE MISTASK"
   ]
  },
  {
   "cell_type": "code",
   "execution_count": 11,
   "metadata": {},
   "outputs": [],
   "source": [
    "from remove_image_views import *\n"
   ]
  },
  {
   "cell_type": "code",
   "execution_count": 25,
   "metadata": {},
   "outputs": [],
   "source": [
    "mv_cmmd = move_image(cmmd, path='E:/WORKBASE/Project-rsna-breast-cancer-detection/DATA_STANDARD/Croped_CMMD')\n",
    "mv_cmmd.my_method(cmmd.index)\n",
    "# mv_cmmd.process_move(0)"
   ]
  },
  {
   "cell_type": "code",
   "execution_count": null,
   "metadata": {},
   "outputs": [],
   "source": [
    "mv_rsna = move_image(rsna, path='E:/WORKBASE/Project-rsna-breast-cancer-detection/DATA_STANDARD/Croped_RSNA')\n",
    "mv_rsna.my_method(rsna.index)\n",
    "# mv_cmmd.process_move(0)"
   ]
  },
  {
   "cell_type": "code",
   "execution_count": 104,
   "metadata": {},
   "outputs": [],
   "source": [
    "def procees_dcm(path):\n",
    "    \n",
    "    dicom = pydicom.dcmread(path)\n",
    "    # try : \n",
    "    img = dicom.pixel_array\n",
    "    # img = apply_windowing(img, dicom)\n",
    "    img = (img - img.min()) / (img.max() - img.min())\n",
    "\n",
    "    if dicom.PhotometricInterpretation == \"MONOCHROME1\":  \n",
    "        img = 1 - img\n",
    "    image = np.uint8(img * 255)\n",
    "\n",
    "    return image"
   ]
  },
  {
   "cell_type": "code",
   "execution_count": 108,
   "metadata": {},
   "outputs": [],
   "source": [
    "for id in cmmd.index:\n",
    "    par = cmmd.patient_id[id]\n",
    "    lat = cmmd.laterality[id]\n",
    "    view = cmmd.view[id]\n",
    "    file_name = f\"E:/WORKBASE/Project-rsna-breast-cancer-detection/DATA_STANDARD/Croped_CMMD/{cmmd.view[id]}_{cmmd.image_id[id]}.png\"\n",
    "    if os.path.exists(file_name) ==False:\n",
    "        imageio.imwrite(f'E:/WORKBASE/Project-rsna-breast-cancer-detection/DATA_STANDARD/Croped_CMMD/{view}_{cmmd.image_id[id]}.png', procees_dcm(cmmd.path[id]))"
   ]
  },
  {
   "attachments": {},
   "cell_type": "markdown",
   "metadata": {},
   "source": [
    "> ADD PATH"
   ]
  },
  {
   "cell_type": "code",
   "execution_count": 12,
   "metadata": {},
   "outputs": [],
   "source": [
    "mias['Path'] = mias.image_id.apply(lambda x: f'Data_image/Mias/{x}.png')"
   ]
  },
  {
   "cell_type": "code",
   "execution_count": 13,
   "metadata": {},
   "outputs": [],
   "source": [
    "ddsm['Path'] = ddsm.apply(lambda row: f'Data_image/{row[\"patient_id\"]}/{row[\"view\"]}/{row[\"laterality\"]}/{row[\"view\"]}_{row[\"laterality\"]}_{row[\"image_id\"]}.png', axis=1)"
   ]
  },
  {
   "cell_type": "code",
   "execution_count": 14,
   "metadata": {},
   "outputs": [],
   "source": [
    "cdd['Path'] = cdd.apply(lambda row: f'Data_image/{row[\"patient_id\"]}/{row[\"view\"]}/{row[\"laterality\"]}/{row[\"view\"]}_{row[\"laterality\"]}_{row[\"image_id\"]}.png', axis=1)"
   ]
  },
  {
   "cell_type": "code",
   "execution_count": 15,
   "metadata": {},
   "outputs": [],
   "source": [
    "rsna['Path'] = rsna.apply(lambda row: f'Data_image/{row[\"patient_id\"]}/{row[\"view\"]}/{row[\"laterality\"]}/{row[\"view\"]}_{row[\"laterality\"]}_{row[\"image_id\"]}.png', axis=1)"
   ]
  },
  {
   "cell_type": "code",
   "execution_count": 16,
   "metadata": {},
   "outputs": [],
   "source": [
    "cmmd['Path'] = cmmd.apply(lambda row: f'Data_image/{row[\"patient_id\"]}/{row[\"view\"]}/{row[\"laterality\"]}/{row[\"view\"]}_{row[\"laterality\"]}_{row[\"image_id\"]}.png', axis=1)"
   ]
  },
  {
   "attachments": {},
   "cell_type": "markdown",
   "metadata": {},
   "source": [
    "> ADD TYPE DATA"
   ]
  },
  {
   "cell_type": "code",
   "execution_count": 17,
   "metadata": {},
   "outputs": [],
   "source": [
    "mias['Type'] = mias.image_id.apply(lambda x: 'Mias')\n",
    "ddsm['Type'] = ddsm.image_id.apply(lambda x: 'ddsm')\n",
    "cdd['Type'] = cdd.image_id.apply(lambda x: 'cdd')\n",
    "rsna['Type'] = rsna.image_id.apply(lambda x: 'rsna')\n",
    "cmmd['Type'] = cmmd.image_id.apply(lambda x: 'cmmd')"
   ]
  },
  {
   "cell_type": "code",
   "execution_count": 18,
   "metadata": {},
   "outputs": [],
   "source": [
    "def fix(data):\n",
    "    dc = {0: 0, 1: 0, 2: 1}\n",
    "    if 'status' in data.columns:\n",
    "        data.status = data.status.apply(lambda x: dc[x])\n",
    "    else:\n",
    "        data = data.rename(columns = {'cancer':'status'})\n",
    "    return data\n",
    "mias = fix(mias)\n",
    "cmmd = fix(cmmd)\n",
    "ddsm = fix(ddsm)\n",
    "rsna = fix(rsna)\n",
    "cdd = fix(cdd)"
   ]
  },
  {
   "attachments": {},
   "cell_type": "markdown",
   "metadata": {},
   "source": [
    "> Format data"
   ]
  },
  {
   "cell_type": "code",
   "execution_count": 19,
   "metadata": {},
   "outputs": [],
   "source": [
    "mias = mias[['image_id', 'Path', 'Type', 'status']]\n",
    "cdd = cdd[['image_id', 'Path', 'Type', 'status']]\n",
    "ddsm = ddsm[['image_id', 'Path', 'Type', 'status']]\n",
    "rsna = rsna[['image_id', 'Path', 'Type', 'status']]\n",
    "cmmd = cmmd[['image_id', 'Path', 'Type', 'status']]"
   ]
  },
  {
   "attachments": {},
   "cell_type": "markdown",
   "metadata": {},
   "source": [
    "> Split data"
   ]
  },
  {
   "cell_type": "code",
   "execution_count": 20,
   "metadata": {},
   "outputs": [
    {
     "name": "stdout",
     "output_type": "stream",
     "text": [
      "Size Mias 322\n",
      "Size cdd 1066\n",
      "Size ddsm 7808\n",
      "Size rsna 49968\n",
      "Size cmmd 3741\n"
     ]
    }
   ],
   "source": [
    "print(f'Size Mias {len(mias)}')\n",
    "print(f'Size cdd {len(cdd)}')\n",
    "print(f'Size ddsm {len(ddsm)}')\n",
    "print(f'Size rsna {len(rsna)}')\n",
    "print(f'Size cmmd {len(cmmd)}')"
   ]
  },
  {
   "cell_type": "code",
   "execution_count": 21,
   "metadata": {},
   "outputs": [
    {
     "name": "stdout",
     "output_type": "stream",
     "text": [
      "Detail mias status\n",
      "0    270\n",
      "1     52\n",
      "Name: count, dtype: int64\n",
      "Detail cdd status\n",
      "0    702\n",
      "1    364\n",
      "Name: count, dtype: int64\n",
      "Detail ddsm status\n",
      "0    5092\n",
      "1    2716\n",
      "Name: count, dtype: int64\n",
      "Detail rsna status\n",
      "0    48932\n",
      "1     1036\n",
      "Name: count, dtype: int64\n",
      "Detail cmmd status\n",
      "1    2633\n",
      "0    1108\n",
      "Name: count, dtype: int64\n"
     ]
    }
   ],
   "source": [
    "print(f'Detail mias {mias.status.value_counts()}')\n",
    "print(f'Detail cdd {cdd.status.value_counts()}')\n",
    "print(f'Detail ddsm {ddsm.status.value_counts()}')\n",
    "print(f'Detail rsna {rsna.status.value_counts()}')\n",
    "print(f'Detail cmmd {cmmd.status.value_counts()}')"
   ]
  },
  {
   "cell_type": "code",
   "execution_count": 26,
   "metadata": {},
   "outputs": [
    {
     "data": {
      "text/plain": [
       "103.60000000000001"
      ]
     },
     "execution_count": 26,
     "metadata": {},
     "output_type": "execute_result"
    }
   ],
   "source": [
    "1036*0.1"
   ]
  },
  {
   "cell_type": "code",
   "execution_count": 27,
   "metadata": {},
   "outputs": [
    {
     "data": {
      "text/plain": [
       "110.80000000000001"
      ]
     },
     "execution_count": 27,
     "metadata": {},
     "output_type": "execute_result"
    }
   ],
   "source": [
    "1108*0.1"
   ]
  },
  {
   "attachments": {},
   "cell_type": "markdown",
   "metadata": {},
   "source": [
    "TEST"
   ]
  },
  {
   "cell_type": "code",
   "execution_count": 22,
   "metadata": {},
   "outputs": [],
   "source": [
    "def get10(data, ts1, ts2):\n",
    "    d0 = data[data.status==0].sample(ts1)\n",
    "    d1 = data[data.status==1].sample(ts2)\n",
    "    # d2 = data[data.status==2].sample(ts3)\n",
    "    return pd.concat([d0, d1]).sample(frac=1).reset_index(drop=True)\n",
    "def concatdata(list_data):\n",
    "    list_idimage = []\n",
    "    for data, name,  ts1, ts2 in list_data:\n",
    "        # if len(meta) == 0:\n",
    "        meta = get10(data, ts1, ts2)\n",
    "        list_idimage = list_idimage + list(meta.image_id)\n",
    "        meta.to_csv(f'E:/WORKBASE/Project-rsna-breast-cancer-detection/META_DATA/2CLASS/Test_{name}.csv')\n",
    "    return list_idimage "
   ]
  },
  {
   "cell_type": "code",
   "execution_count": 23,
   "metadata": {},
   "outputs": [],
   "source": [
    "list_idimage = concatdata(\n",
    "    [(mias, 'mias', 20, 10), \n",
    "     (ddsm, 'ddsm', 271*2, 271), \n",
    "     (cdd, 'cdd', 2*36, 36), \n",
    "     (rsna, 'rsna', 2*103, 103), \n",
    "     (cmmd, 'cmmd', 2*110, 110)])"
   ]
  },
  {
   "cell_type": "code",
   "execution_count": 27,
   "metadata": {},
   "outputs": [],
   "source": [
    "from sklearn.model_selection import KFold\n",
    "import random"
   ]
  },
  {
   "cell_type": "code",
   "execution_count": 32,
   "metadata": {},
   "outputs": [],
   "source": [
    "def process_split_rsna(meta, name_data = \"RONG\"):\n",
    "    meta = meta.reset_index()\n",
    "    meta = meta[~meta.image_id.isin(list_idimage)]\n",
    "    meta = meta[['image_id'\t,'Path'\t,'Type',\t'status']]\n",
    "    # Lặp lại huấn luyện và đánh giá trên các phần được chia\n",
    "    kf = KFold(n_splits=5, shuffle=True, random_state=42)\n",
    "    nocancer_data = meta[meta.status == 0].reset_index()\n",
    "    cancer_data = meta[meta.status ==1].reset_index()\n",
    "\n",
    "    # Lặp lại huấn luyện và đánh giá trên các phần được chia\n",
    "    remain = list(nocancer_data.index)\n",
    "    sums = 0\n",
    "    for id, (train_index, val_index) in enumerate(kf.split(cancer_data)):\n",
    "        # Tạo dữ liệu huấn luyện và dữ liệu đánh giá\n",
    "        os.makedirs(f'E:/WORKBASE/Project-rsna-breast-cancer-detection/META_DATA/2CLASS/{name_data}/{id}-fold')\n",
    "        train_index = list(train_index)\n",
    "        val_index = list(val_index)\n",
    "        plus = 0\n",
    "        if name_data == 'RSNA':\n",
    "            plus = 1000\n",
    "        id_list_train = random.sample(remain, k=len(train_index) + plus)\n",
    "\n",
    "        train_data = cancer_data.iloc[train_index]\n",
    "        train_data = pd.concat([train_data, nocancer_data.iloc[id_list_train]]).sample(frac=1).reset_index(drop=True)\n",
    "        remain = set(remain) - set(id_list_train)\n",
    "        # print(train_data.status.value_counts())\n",
    "        \n",
    "        id_list_val = random.sample(remain, k=len(val_index))\n",
    "\n",
    "        val_data = cancer_data.iloc[val_index]\n",
    "        val_data = pd.concat([val_data, nocancer_data.iloc[id_list_val]]).sample(frac=1).reset_index(drop=True)\n",
    "        remain = set(remain) - set(id_list_val)\n",
    "        # print(val_data.status.value_counts())\n",
    "        train_data.to_csv(f'E:/WORKBASE/Project-rsna-breast-cancer-detection/META_DATA/2CLASS/{name_data}/{id}-fold/train.csv')\n",
    "        val_data.to_csv(f'E:/WORKBASE/Project-rsna-breast-cancer-detection/META_DATA/2CLASS/{name_data}/{id}-fold/val.csv')\n",
    "        ## description\n",
    "        with open(f'E:/WORKBASE/Project-rsna-breast-cancer-detection/META_DATA/2CLASS/{name_data}/{id}-fold/description.txt', 'a') as f:\n",
    "            f.writelines(f'Size of train: {len(train_data)} \\n\\n Size of val: {len(val_data)} \\n\\n Number of per dataset: \\n {train_data.Type.value_counts()}\\n\\n Status of set train: \\n{train_data.status.value_counts()}\\n\\n Status of set val: \\n{val_data.status.value_counts()}')\n",
    "        print(len(train_data), len(val_data))\n",
    "        print(train_data.Type.value_counts())\n",
    "        print(train_data.status.value_counts())\n",
    "        print('++++++++++++++++++')"
   ]
  },
  {
   "cell_type": "code",
   "execution_count": 34,
   "metadata": {},
   "outputs": [],
   "source": [
    "def process_split(meta, name_data = \"RONG\"):\n",
    "    meta = meta.reset_index()\n",
    "    meta = meta[~meta.image_id.isin(list_idimage)]\n",
    "    meta = meta[['image_id'\t,'Path'\t,'Type',\t'status']]\n",
    "    # Lặp lại huấn luyện và đánh giá trên các phần được chia\n",
    "    kf = KFold(n_splits=5, shuffle=True, random_state=42)\n",
    "    for id, (train_index, val_index) in enumerate(kf.split(meta)):\n",
    "        # Tạo dữ liệu huấn luyện và dữ liệu đánh giá\n",
    "        os.makedirs(f'E:/WORKBASE/Project-rsna-breast-cancer-detection/META_DATA/2CLASS/{name_data}/{id}-fold')\n",
    "        \n",
    "        train_data = meta.iloc[train_index]\n",
    "        val_data = meta.iloc[val_index]\n",
    "        train_data.to_csv(f'E:/WORKBASE/Project-rsna-breast-cancer-detection/META_DATA/2CLASS/{name_data}/{id}-fold/train.csv')\n",
    "        val_data.to_csv(f'E:/WORKBASE/Project-rsna-breast-cancer-detection/META_DATA/2CLASS/{name_data}/{id}-fold/val.csv')\n",
    "        ## description\n",
    "        with open(f'E:/WORKBASE/Project-rsna-breast-cancer-detection/META_DATA/2CLASS/{name_data}/{id}-fold/description.txt', 'a') as f:\n",
    "            f.writelines(f'Size of train: {len(train_data)} \\n\\n Size of val: {len(val_data)} \\n\\n Number of per dataset: \\n {train_data.Type.value_counts()}\\n\\n Status of set train: \\n{train_data.status.value_counts()}')\n",
    "        print(len(train_data), len(val_data))\n",
    "        print(train_data.Type.value_counts())\n",
    "        print(train_data.status.value_counts())\n",
    "        print('++++++++++++++++++')"
   ]
  },
  {
   "cell_type": "code",
   "execution_count": null,
   "metadata": {},
   "outputs": [],
   "source": []
  },
  {
   "cell_type": "code",
   "execution_count": 37,
   "metadata": {},
   "outputs": [
    {
     "data": {
      "text/plain": [
       "status\n",
       "1    2633\n",
       "0    1108\n",
       "Name: count, dtype: int64"
      ]
     },
     "execution_count": 37,
     "metadata": {},
     "output_type": "execute_result"
    }
   ],
   "source": [
    "cmmd.status.value_counts()"
   ]
  },
  {
   "cell_type": "code",
   "execution_count": 42,
   "metadata": {},
   "outputs": [
    {
     "name": "stdout",
     "output_type": "stream",
     "text": [
      "759 190\n",
      "Type\n",
      "cdd    759\n",
      "Name: count, dtype: int64\n",
      "status\n",
      "0    502\n",
      "1    257\n",
      "Name: count, dtype: int64\n",
      "++++++++++++++++++\n",
      "759 190\n",
      "Type\n",
      "cdd    759\n",
      "Name: count, dtype: int64\n",
      "status\n",
      "0    500\n",
      "1    259\n",
      "Name: count, dtype: int64\n",
      "++++++++++++++++++\n",
      "759 190\n",
      "Type\n",
      "cdd    759\n",
      "Name: count, dtype: int64\n",
      "status\n",
      "0    494\n",
      "1    265\n",
      "Name: count, dtype: int64\n",
      "++++++++++++++++++\n",
      "759 190\n",
      "Type\n",
      "cdd    759\n",
      "Name: count, dtype: int64\n",
      "status\n",
      "0    505\n",
      "1    254\n",
      "Name: count, dtype: int64\n",
      "++++++++++++++++++\n",
      "760 189\n",
      "Type\n",
      "cdd    760\n",
      "Name: count, dtype: int64\n",
      "status\n",
      "0    499\n",
      "1    261\n",
      "Name: count, dtype: int64\n",
      "++++++++++++++++++\n"
     ]
    }
   ],
   "source": [
    "process_split(cdd,'CDD')"
   ]
  },
  {
   "cell_type": "code",
   "execution_count": 41,
   "metadata": {},
   "outputs": [
    {
     "name": "stdout",
     "output_type": "stream",
     "text": [
      "233 59\n",
      "Type\n",
      "Mias    233\n",
      "Name: count, dtype: int64\n",
      "status\n",
      "0    200\n",
      "1     33\n",
      "Name: count, dtype: int64\n",
      "++++++++++++++++++\n",
      "233 59\n",
      "Type\n",
      "Mias    233\n",
      "Name: count, dtype: int64\n",
      "status\n",
      "0    201\n",
      "1     32\n",
      "Name: count, dtype: int64\n",
      "++++++++++++++++++\n",
      "234 58\n",
      "Type\n",
      "Mias    234\n",
      "Name: count, dtype: int64\n",
      "status\n",
      "0    198\n",
      "1     36\n",
      "Name: count, dtype: int64\n",
      "++++++++++++++++++\n",
      "234 58\n",
      "Type\n",
      "Mias    234\n",
      "Name: count, dtype: int64\n",
      "status\n",
      "0    203\n",
      "1     31\n",
      "Name: count, dtype: int64\n",
      "++++++++++++++++++\n",
      "234 58\n",
      "Type\n",
      "Mias    234\n",
      "Name: count, dtype: int64\n",
      "status\n",
      "0    198\n",
      "1     36\n",
      "Name: count, dtype: int64\n",
      "++++++++++++++++++\n"
     ]
    }
   ],
   "source": [
    "process_split(mias,'MIAS')"
   ]
  },
  {
   "cell_type": "code",
   "execution_count": 36,
   "metadata": {},
   "outputs": [
    {
     "name": "stdout",
     "output_type": "stream",
     "text": [
      "2728 683\n",
      "Type\n",
      "cmmd    2728\n",
      "Name: count, dtype: int64\n",
      "status\n",
      "1    2013\n",
      "0     715\n",
      "Name: count, dtype: int64\n",
      "++++++++++++++++++\n",
      "2729 682\n",
      "Type\n",
      "cmmd    2729\n",
      "Name: count, dtype: int64\n",
      "status\n",
      "1    2012\n",
      "0     717\n",
      "Name: count, dtype: int64\n",
      "++++++++++++++++++\n",
      "2729 682\n",
      "Type\n",
      "cmmd    2729\n",
      "Name: count, dtype: int64\n",
      "status\n",
      "1    2014\n",
      "0     715\n",
      "Name: count, dtype: int64\n",
      "++++++++++++++++++\n",
      "2729 682\n",
      "Type\n",
      "cmmd    2729\n",
      "Name: count, dtype: int64\n",
      "status\n",
      "1    2033\n",
      "0     696\n",
      "Name: count, dtype: int64\n",
      "++++++++++++++++++\n",
      "2729 682\n",
      "Type\n",
      "cmmd    2729\n",
      "Name: count, dtype: int64\n",
      "status\n",
      "1    2020\n",
      "0     709\n",
      "Name: count, dtype: int64\n",
      "++++++++++++++++++\n"
     ]
    }
   ],
   "source": [
    "process_split(cmmd,'CMMD')"
   ]
  },
  {
   "cell_type": "code",
   "execution_count": 35,
   "metadata": {},
   "outputs": [
    {
     "name": "stdout",
     "output_type": "stream",
     "text": [
      "5596 1399\n",
      "Type\n",
      "ddsm    5596\n",
      "Name: count, dtype: int64\n",
      "status\n",
      "0    3619\n",
      "1    1977\n",
      "Name: count, dtype: int64\n",
      "++++++++++++++++++\n",
      "5596 1399\n",
      "Type\n",
      "ddsm    5596\n",
      "Name: count, dtype: int64\n",
      "status\n",
      "0    3636\n",
      "1    1960\n",
      "Name: count, dtype: int64\n",
      "++++++++++++++++++\n",
      "5596 1399\n",
      "Type\n",
      "ddsm    5596\n",
      "Name: count, dtype: int64\n",
      "status\n",
      "0    3649\n",
      "1    1947\n",
      "Name: count, dtype: int64\n",
      "++++++++++++++++++\n",
      "5596 1399\n",
      "Type\n",
      "ddsm    5596\n",
      "Name: count, dtype: int64\n",
      "status\n",
      "0    3638\n",
      "1    1958\n",
      "Name: count, dtype: int64\n",
      "++++++++++++++++++\n",
      "5596 1399\n",
      "Type\n",
      "ddsm    5596\n",
      "Name: count, dtype: int64\n",
      "status\n",
      "0    3658\n",
      "1    1938\n",
      "Name: count, dtype: int64\n",
      "++++++++++++++++++\n"
     ]
    }
   ],
   "source": [
    "process_split(ddsm,'DDSM')"
   ]
  },
  {
   "cell_type": "code",
   "execution_count": 29,
   "metadata": {},
   "outputs": [
    {
     "name": "stdout",
     "output_type": "stream",
     "text": [
      "2492 374\n",
      "Type\n",
      "rsna    2492\n",
      "Name: count, dtype: int64\n",
      "status\n",
      "0    1746\n",
      "1     746\n",
      "Name: count, dtype: int64\n",
      "++++++++++++++++++\n",
      "2492 374\n",
      "Type\n",
      "rsna    2492\n",
      "Name: count, dtype: int64\n",
      "status\n",
      "0    1746\n",
      "1     746\n",
      "Name: count, dtype: int64\n",
      "++++++++++++++++++\n",
      "2492 374\n",
      "Type\n",
      "rsna    2492\n",
      "Name: count, dtype: int64\n",
      "status\n",
      "0    1746\n",
      "1     746\n",
      "Name: count, dtype: int64\n",
      "++++++++++++++++++\n",
      "2494 372\n",
      "Type\n",
      "rsna    2494\n",
      "Name: count, dtype: int64\n",
      "status\n",
      "0    1747\n",
      "1     747\n",
      "Name: count, dtype: int64\n",
      "++++++++++++++++++\n",
      "2494 372\n",
      "Type\n",
      "rsna    2494\n",
      "Name: count, dtype: int64\n",
      "status\n",
      "0    1747\n",
      "1     747\n",
      "Name: count, dtype: int64\n",
      "++++++++++++++++++\n"
     ]
    },
    {
     "name": "stderr",
     "output_type": "stream",
     "text": [
      "C:\\Users\\nguye\\AppData\\Local\\Temp\\ipykernel_20556\\1156713600.py:28: DeprecationWarning: Sampling from a set deprecated\n",
      "since Python 3.9 and will be removed in a subsequent version.\n",
      "  id_list_val = random.sample(remain, k=len(val_index))\n",
      "C:\\Users\\nguye\\AppData\\Local\\Temp\\ipykernel_20556\\1156713600.py:21: DeprecationWarning: Sampling from a set deprecated\n",
      "since Python 3.9 and will be removed in a subsequent version.\n",
      "  id_list_train = random.sample(remain, k=len(train_index) + plus)\n",
      "C:\\Users\\nguye\\AppData\\Local\\Temp\\ipykernel_20556\\1156713600.py:28: DeprecationWarning: Sampling from a set deprecated\n",
      "since Python 3.9 and will be removed in a subsequent version.\n",
      "  id_list_val = random.sample(remain, k=len(val_index))\n",
      "C:\\Users\\nguye\\AppData\\Local\\Temp\\ipykernel_20556\\1156713600.py:21: DeprecationWarning: Sampling from a set deprecated\n",
      "since Python 3.9 and will be removed in a subsequent version.\n",
      "  id_list_train = random.sample(remain, k=len(train_index) + plus)\n",
      "C:\\Users\\nguye\\AppData\\Local\\Temp\\ipykernel_20556\\1156713600.py:28: DeprecationWarning: Sampling from a set deprecated\n",
      "since Python 3.9 and will be removed in a subsequent version.\n",
      "  id_list_val = random.sample(remain, k=len(val_index))\n",
      "C:\\Users\\nguye\\AppData\\Local\\Temp\\ipykernel_20556\\1156713600.py:21: DeprecationWarning: Sampling from a set deprecated\n",
      "since Python 3.9 and will be removed in a subsequent version.\n",
      "  id_list_train = random.sample(remain, k=len(train_index) + plus)\n",
      "C:\\Users\\nguye\\AppData\\Local\\Temp\\ipykernel_20556\\1156713600.py:28: DeprecationWarning: Sampling from a set deprecated\n",
      "since Python 3.9 and will be removed in a subsequent version.\n",
      "  id_list_val = random.sample(remain, k=len(val_index))\n",
      "C:\\Users\\nguye\\AppData\\Local\\Temp\\ipykernel_20556\\1156713600.py:21: DeprecationWarning: Sampling from a set deprecated\n",
      "since Python 3.9 and will be removed in a subsequent version.\n",
      "  id_list_train = random.sample(remain, k=len(train_index) + plus)\n",
      "C:\\Users\\nguye\\AppData\\Local\\Temp\\ipykernel_20556\\1156713600.py:28: DeprecationWarning: Sampling from a set deprecated\n",
      "since Python 3.9 and will be removed in a subsequent version.\n",
      "  id_list_val = random.sample(remain, k=len(val_index))\n"
     ]
    }
   ],
   "source": [
    "process_split_rsna(rsna,'RSNA')"
   ]
  },
  {
   "cell_type": "code",
   "execution_count": 32,
   "metadata": {},
   "outputs": [
    {
     "data": {
      "text/html": [
       "<div>\n",
       "<style scoped>\n",
       "    .dataframe tbody tr th:only-of-type {\n",
       "        vertical-align: middle;\n",
       "    }\n",
       "\n",
       "    .dataframe tbody tr th {\n",
       "        vertical-align: top;\n",
       "    }\n",
       "\n",
       "    .dataframe thead th {\n",
       "        text-align: right;\n",
       "    }\n",
       "</style>\n",
       "<table border=\"1\" class=\"dataframe\">\n",
       "  <thead>\n",
       "    <tr style=\"text-align: right;\">\n",
       "      <th></th>\n",
       "      <th>image_id</th>\n",
       "      <th>Path</th>\n",
       "      <th>Type</th>\n",
       "      <th>status</th>\n",
       "    </tr>\n",
       "  </thead>\n",
       "  <tbody>\n",
       "    <tr>\n",
       "      <th>0</th>\n",
       "      <td>1505346563</td>\n",
       "      <td>Data_image/18790/CC/L/CC_L_1505346563.png</td>\n",
       "      <td>rsna</td>\n",
       "      <td>0</td>\n",
       "    </tr>\n",
       "    <tr>\n",
       "      <th>1</th>\n",
       "      <td>4174DDSM</td>\n",
       "      <td>Data_image/1728DDSM/CC/R/CC_R_4174DDSM.png</td>\n",
       "      <td>ddsm</td>\n",
       "      <td>1</td>\n",
       "    </tr>\n",
       "    <tr>\n",
       "      <th>2</th>\n",
       "      <td>1988072350</td>\n",
       "      <td>Data_image/47985/MLO/R/MLO_R_1988072350.png</td>\n",
       "      <td>rsna</td>\n",
       "      <td>0</td>\n",
       "    </tr>\n",
       "    <tr>\n",
       "      <th>3</th>\n",
       "      <td>1523041670</td>\n",
       "      <td>Data_image/36847/MLO/L/MLO_L_1523041670.png</td>\n",
       "      <td>rsna</td>\n",
       "      <td>0</td>\n",
       "    </tr>\n",
       "    <tr>\n",
       "      <th>4</th>\n",
       "      <td>629070079</td>\n",
       "      <td>Data_image/42886/MLO/L/MLO_L_629070079.png</td>\n",
       "      <td>rsna</td>\n",
       "      <td>0</td>\n",
       "    </tr>\n",
       "    <tr>\n",
       "      <th>...</th>\n",
       "      <td>...</td>\n",
       "      <td>...</td>\n",
       "      <td>...</td>\n",
       "      <td>...</td>\n",
       "    </tr>\n",
       "    <tr>\n",
       "      <th>62900</th>\n",
       "      <td>D1-0664-1-1</td>\n",
       "      <td>Data_image/D1-0664/MLO/R/MLO_R_D1-0664-1-1.png</td>\n",
       "      <td>cmmd</td>\n",
       "      <td>1</td>\n",
       "    </tr>\n",
       "    <tr>\n",
       "      <th>62901</th>\n",
       "      <td>2919DDSM</td>\n",
       "      <td>Data_image/0068DDSM/MLO/R/MLO_R_2919DDSM.png</td>\n",
       "      <td>ddsm</td>\n",
       "      <td>1</td>\n",
       "    </tr>\n",
       "    <tr>\n",
       "      <th>62902</th>\n",
       "      <td>1545282521</td>\n",
       "      <td>Data_image/20066/MLO/L/MLO_L_1545282521.png</td>\n",
       "      <td>rsna</td>\n",
       "      <td>0</td>\n",
       "    </tr>\n",
       "    <tr>\n",
       "      <th>62903</th>\n",
       "      <td>2087599778</td>\n",
       "      <td>Data_image/28916/MLO/R/MLO_R_2087599778.png</td>\n",
       "      <td>rsna</td>\n",
       "      <td>0</td>\n",
       "    </tr>\n",
       "    <tr>\n",
       "      <th>62904</th>\n",
       "      <td>1120894682</td>\n",
       "      <td>Data_image/28374/MLO/L/MLO_L_1120894682.png</td>\n",
       "      <td>rsna</td>\n",
       "      <td>0</td>\n",
       "    </tr>\n",
       "  </tbody>\n",
       "</table>\n",
       "<p>61301 rows × 4 columns</p>\n",
       "</div>"
      ],
      "text/plain": [
       "          image_id                                            Path  Type   \n",
       "0       1505346563       Data_image/18790/CC/L/CC_L_1505346563.png  rsna  \\\n",
       "1         4174DDSM      Data_image/1728DDSM/CC/R/CC_R_4174DDSM.png  ddsm   \n",
       "2       1988072350     Data_image/47985/MLO/R/MLO_R_1988072350.png  rsna   \n",
       "3       1523041670     Data_image/36847/MLO/L/MLO_L_1523041670.png  rsna   \n",
       "4        629070079      Data_image/42886/MLO/L/MLO_L_629070079.png  rsna   \n",
       "...            ...                                             ...   ...   \n",
       "62900  D1-0664-1-1  Data_image/D1-0664/MLO/R/MLO_R_D1-0664-1-1.png  cmmd   \n",
       "62901     2919DDSM    Data_image/0068DDSM/MLO/R/MLO_R_2919DDSM.png  ddsm   \n",
       "62902   1545282521     Data_image/20066/MLO/L/MLO_L_1545282521.png  rsna   \n",
       "62903   2087599778     Data_image/28916/MLO/R/MLO_R_2087599778.png  rsna   \n",
       "62904   1120894682     Data_image/28374/MLO/L/MLO_L_1120894682.png  rsna   \n",
       "\n",
       "       status  \n",
       "0           0  \n",
       "1           1  \n",
       "2           0  \n",
       "3           0  \n",
       "4           0  \n",
       "...       ...  \n",
       "62900       1  \n",
       "62901       1  \n",
       "62902       0  \n",
       "62903       0  \n",
       "62904       0  \n",
       "\n",
       "[61301 rows x 4 columns]"
      ]
     },
     "execution_count": 32,
     "metadata": {},
     "output_type": "execute_result"
    }
   ],
   "source": [
    "meta = pd.concat([mias, ddsm, cdd, rsna, cmmd]).sample(frac=1).reset_index(drop=True)\n",
    "meta = meta[~meta.image_id.isin(list_idimage)]\n",
    "meta"
   ]
  },
  {
   "cell_type": "code",
   "execution_count": 84,
   "metadata": {},
   "outputs": [],
   "source": [
    "from sklearn.model_selection import KFold\n",
    "import random"
   ]
  },
  {
   "cell_type": "code",
   "execution_count": 132,
   "metadata": {},
   "outputs": [],
   "source": [
    "meta = meta.reset_index()"
   ]
  },
  {
   "cell_type": "code",
   "execution_count": 133,
   "metadata": {},
   "outputs": [],
   "source": [
    "meta = meta[['image_id'\t,'Path'\t,'Type',\t'status']]"
   ]
  },
  {
   "cell_type": "code",
   "execution_count": 134,
   "metadata": {},
   "outputs": [
    {
     "data": {
      "text/plain": [
       "status\n",
       "0    55038\n",
       "1     6263\n",
       "Name: count, dtype: int64"
      ]
     },
     "execution_count": 134,
     "metadata": {},
     "output_type": "execute_result"
    }
   ],
   "source": [
    "meta.status.value_counts()"
   ]
  },
  {
   "cell_type": "code",
   "execution_count": 144,
   "metadata": {},
   "outputs": [
    {
     "name": "stderr",
     "output_type": "stream",
     "text": [
      "C:\\Users\\nguye\\AppData\\Local\\Temp\\ipykernel_2576\\2194692045.py:21: DeprecationWarning: Sampling from a set deprecated\n",
      "since Python 3.9 and will be removed in a subsequent version.\n",
      "  id_list_val = random.sample(remain, k=len(val_index) + 100)\n",
      "C:\\Users\\nguye\\AppData\\Local\\Temp\\ipykernel_2576\\2194692045.py:14: DeprecationWarning: Sampling from a set deprecated\n",
      "since Python 3.9 and will be removed in a subsequent version.\n",
      "  id_list_train = random.sample(remain, k=len(train_index) + 1000)\n",
      "C:\\Users\\nguye\\AppData\\Local\\Temp\\ipykernel_2576\\2194692045.py:21: DeprecationWarning: Sampling from a set deprecated\n",
      "since Python 3.9 and will be removed in a subsequent version.\n",
      "  id_list_val = random.sample(remain, k=len(val_index) + 100)\n",
      "C:\\Users\\nguye\\AppData\\Local\\Temp\\ipykernel_2576\\2194692045.py:14: DeprecationWarning: Sampling from a set deprecated\n",
      "since Python 3.9 and will be removed in a subsequent version.\n",
      "  id_list_train = random.sample(remain, k=len(train_index) + 1000)\n",
      "C:\\Users\\nguye\\AppData\\Local\\Temp\\ipykernel_2576\\2194692045.py:21: DeprecationWarning: Sampling from a set deprecated\n",
      "since Python 3.9 and will be removed in a subsequent version.\n",
      "  id_list_val = random.sample(remain, k=len(val_index) + 100)\n",
      "C:\\Users\\nguye\\AppData\\Local\\Temp\\ipykernel_2576\\2194692045.py:14: DeprecationWarning: Sampling from a set deprecated\n",
      "since Python 3.9 and will be removed in a subsequent version.\n",
      "  id_list_train = random.sample(remain, k=len(train_index) + 1000)\n",
      "C:\\Users\\nguye\\AppData\\Local\\Temp\\ipykernel_2576\\2194692045.py:21: DeprecationWarning: Sampling from a set deprecated\n",
      "since Python 3.9 and will be removed in a subsequent version.\n",
      "  id_list_val = random.sample(remain, k=len(val_index) + 100)\n"
     ]
    },
    {
     "name": "stdout",
     "output_type": "stream",
     "text": [
      "11020 2606\n",
      "Type\n",
      "rsna    6073\n",
      "ddsm    2452\n",
      "cmmd    2112\n",
      "cdd      323\n",
      "Mias      60\n",
      "Name: count, dtype: int64\n",
      "status\n",
      "0    6010\n",
      "1    5010\n",
      "Name: count, dtype: int64\n",
      "++++++++++++++++++\n",
      "11020 2606\n",
      "Type\n",
      "rsna    6057\n",
      "ddsm    2485\n",
      "cmmd    2083\n",
      "cdd      338\n",
      "Mias      57\n",
      "Name: count, dtype: int64\n",
      "status\n",
      "0    6010\n",
      "1    5010\n",
      "Name: count, dtype: int64\n",
      "++++++++++++++++++\n",
      "11020 2606\n",
      "Type\n",
      "rsna    6064\n",
      "ddsm    2442\n",
      "cmmd    2133\n",
      "cdd      312\n",
      "Mias      69\n",
      "Name: count, dtype: int64\n",
      "status\n",
      "0    6010\n",
      "1    5010\n",
      "Name: count, dtype: int64\n",
      "++++++++++++++++++\n",
      "11022 2604\n",
      "Type\n",
      "rsna    6044\n",
      "ddsm    2495\n",
      "cmmd    2107\n",
      "cdd      312\n",
      "Mias      64\n",
      "Name: count, dtype: int64\n",
      "status\n",
      "0    6011\n",
      "1    5011\n",
      "Name: count, dtype: int64\n",
      "++++++++++++++++++\n",
      "11022 2604\n",
      "Type\n",
      "rsna    6076\n",
      "ddsm    2408\n",
      "cmmd    2148\n",
      "cdd      326\n",
      "Mias      64\n",
      "Name: count, dtype: int64\n",
      "status\n",
      "0    6011\n",
      "1    5011\n",
      "Name: count, dtype: int64\n",
      "++++++++++++++++++\n"
     ]
    },
    {
     "name": "stderr",
     "output_type": "stream",
     "text": [
      "C:\\Users\\nguye\\AppData\\Local\\Temp\\ipykernel_2576\\2194692045.py:14: DeprecationWarning: Sampling from a set deprecated\n",
      "since Python 3.9 and will be removed in a subsequent version.\n",
      "  id_list_train = random.sample(remain, k=len(train_index) + 1000)\n",
      "C:\\Users\\nguye\\AppData\\Local\\Temp\\ipykernel_2576\\2194692045.py:21: DeprecationWarning: Sampling from a set deprecated\n",
      "since Python 3.9 and will be removed in a subsequent version.\n",
      "  id_list_val = random.sample(remain, k=len(val_index) + 100)\n"
     ]
    }
   ],
   "source": [
    "kf = KFold(n_splits=5, shuffle=True, random_state=42)\n",
    "nocancer_data = meta[meta.status == 0].reset_index()\n",
    "cancer_data = meta[meta.status ==1].reset_index()\n",
    "\n",
    "# Lặp lại huấn luyện và đánh giá trên các phần được chia\n",
    "remain = list(nocancer_data.index)\n",
    "sums = 0\n",
    "for id, (train_index, val_index) in enumerate(kf.split(cancer_data)):\n",
    "    # Tạo dữ liệu huấn luyện và dữ liệu đánh giá\n",
    "    os.makedirs(f'E:/WORKBASE/Project-rsna-breast-cancer-detection/META_DATA/2CLASS/{id}-fold')\n",
    "    train_index = list(train_index)\n",
    "    val_index = list(val_index)\n",
    "    \n",
    "    id_list_train = random.sample(remain, k=len(train_index) + 1000)\n",
    "\n",
    "    train_data = cancer_data.iloc[train_index]\n",
    "    train_data = pd.concat([train_data, nocancer_data.iloc[id_list_train]]).sample(frac=1).reset_index(drop=True)\n",
    "    remain = set(remain) - set(id_list_train)\n",
    "    # print(train_data.status.value_counts())\n",
    "    \n",
    "    id_list_val = random.sample(remain, k=len(val_index) + 100)\n",
    "\n",
    "    val_data = cancer_data.iloc[val_index]\n",
    "    val_data = pd.concat([val_data, nocancer_data.iloc[id_list_val]]).sample(frac=1).reset_index(drop=True)\n",
    "    remain = set(remain) - set(id_list_val)\n",
    "    \n",
    " \n",
    "    # print(val_data.status.value_counts())\n",
    "    train_data.to_csv(f'E:/WORKBASE/Project-rsna-breast-cancer-detection/META_DATA/2CLASS/{id}-fold/train.csv')\n",
    "    val_data.to_csv(f'E:/WORKBASE/Project-rsna-breast-cancer-detection/META_DATA/2CLASS/{id}-fold/val.csv')\n",
    "    ## description\n",
    "    with open(f'E:/WORKBASE/Project-rsna-breast-cancer-detection/META_DATA/2CLASS/{id}-fold/description.txt', 'a') as f:\n",
    "        f.writelines(f'Size of train: {len(train_data)} \\n\\n Size of val: {len(val_data)} \\n\\n Number of per dataset: \\n {train_data.Type.value_counts()}\\n\\n Status of set train: \\n{train_data.status.value_counts()}\\n\\n Status of set val: \\n{val_data.status.value_counts()}')\n",
    "    print(len(train_data), len(val_data))\n",
    "    print(train_data.Type.value_counts())\n",
    "    print(train_data.status.value_counts())\n",
    "    print('++++++++++++++++++')"
   ]
  },
  {
   "cell_type": "code",
   "execution_count": 107,
   "metadata": {},
   "outputs": [
    {
     "name": "stdout",
     "output_type": "stream",
     "text": [
      "38453\n",
      "23973\n",
      "55774\n"
     ]
    },
    {
     "ename": "IndexError",
     "evalue": "single positional indexer is out-of-bounds",
     "output_type": "error",
     "traceback": [
      "\u001b[1;31m---------------------------------------------------------------------------\u001b[0m",
      "\u001b[1;31mIndexError\u001b[0m                                Traceback (most recent call last)",
      "Cell \u001b[1;32mIn[107], line 3\u001b[0m\n\u001b[0;32m      1\u001b[0m \u001b[39mfor\u001b[39;00m i \u001b[39min\u001b[39;00m id_list_train:\n\u001b[0;32m      2\u001b[0m     \u001b[39mprint\u001b[39m(i)\n\u001b[1;32m----> 3\u001b[0m     s \u001b[39m=\u001b[39m nocancer_data\u001b[39m.\u001b[39;49miloc[i]\n",
      "File \u001b[1;32mc:\\Users\\nguye\\AppData\\Local\\Programs\\Python\\Python310\\lib\\site-packages\\pandas\\core\\indexing.py:1103\u001b[0m, in \u001b[0;36m_LocationIndexer.__getitem__\u001b[1;34m(self, key)\u001b[0m\n\u001b[0;32m   1100\u001b[0m axis \u001b[39m=\u001b[39m \u001b[39mself\u001b[39m\u001b[39m.\u001b[39maxis \u001b[39mor\u001b[39;00m \u001b[39m0\u001b[39m\n\u001b[0;32m   1102\u001b[0m maybe_callable \u001b[39m=\u001b[39m com\u001b[39m.\u001b[39mapply_if_callable(key, \u001b[39mself\u001b[39m\u001b[39m.\u001b[39mobj)\n\u001b[1;32m-> 1103\u001b[0m \u001b[39mreturn\u001b[39;00m \u001b[39mself\u001b[39;49m\u001b[39m.\u001b[39;49m_getitem_axis(maybe_callable, axis\u001b[39m=\u001b[39;49maxis)\n",
      "File \u001b[1;32mc:\\Users\\nguye\\AppData\\Local\\Programs\\Python\\Python310\\lib\\site-packages\\pandas\\core\\indexing.py:1656\u001b[0m, in \u001b[0;36m_iLocIndexer._getitem_axis\u001b[1;34m(self, key, axis)\u001b[0m\n\u001b[0;32m   1653\u001b[0m     \u001b[39mraise\u001b[39;00m \u001b[39mTypeError\u001b[39;00m(\u001b[39m\"\u001b[39m\u001b[39mCannot index by location index with a non-integer key\u001b[39m\u001b[39m\"\u001b[39m)\n\u001b[0;32m   1655\u001b[0m \u001b[39m# validate the location\u001b[39;00m\n\u001b[1;32m-> 1656\u001b[0m \u001b[39mself\u001b[39;49m\u001b[39m.\u001b[39;49m_validate_integer(key, axis)\n\u001b[0;32m   1658\u001b[0m \u001b[39mreturn\u001b[39;00m \u001b[39mself\u001b[39m\u001b[39m.\u001b[39mobj\u001b[39m.\u001b[39m_ixs(key, axis\u001b[39m=\u001b[39maxis)\n",
      "File \u001b[1;32mc:\\Users\\nguye\\AppData\\Local\\Programs\\Python\\Python310\\lib\\site-packages\\pandas\\core\\indexing.py:1589\u001b[0m, in \u001b[0;36m_iLocIndexer._validate_integer\u001b[1;34m(self, key, axis)\u001b[0m\n\u001b[0;32m   1587\u001b[0m len_axis \u001b[39m=\u001b[39m \u001b[39mlen\u001b[39m(\u001b[39mself\u001b[39m\u001b[39m.\u001b[39mobj\u001b[39m.\u001b[39m_get_axis(axis))\n\u001b[0;32m   1588\u001b[0m \u001b[39mif\u001b[39;00m key \u001b[39m>\u001b[39m\u001b[39m=\u001b[39m len_axis \u001b[39mor\u001b[39;00m key \u001b[39m<\u001b[39m \u001b[39m-\u001b[39mlen_axis:\n\u001b[1;32m-> 1589\u001b[0m     \u001b[39mraise\u001b[39;00m \u001b[39mIndexError\u001b[39;00m(\u001b[39m\"\u001b[39m\u001b[39msingle positional indexer is out-of-bounds\u001b[39m\u001b[39m\"\u001b[39m)\n",
      "\u001b[1;31mIndexError\u001b[0m: single positional indexer is out-of-bounds"
     ]
    }
   ],
   "source": [
    "for i in id_list_train:\n",
    "    print(i)\n",
    "    s = nocancer_data.iloc[i]"
   ]
  },
  {
   "cell_type": "code",
   "execution_count": 110,
   "metadata": {},
   "outputs": [
    {
     "ename": "IndexError",
     "evalue": "single positional indexer is out-of-bounds",
     "output_type": "error",
     "traceback": [
      "\u001b[1;31m---------------------------------------------------------------------------\u001b[0m",
      "\u001b[1;31mIndexError\u001b[0m                                Traceback (most recent call last)",
      "Cell \u001b[1;32mIn[110], line 1\u001b[0m\n\u001b[1;32m----> 1\u001b[0m nocancer_data\u001b[39m.\u001b[39;49miloc[\u001b[39m55774\u001b[39;49m]\n",
      "File \u001b[1;32mc:\\Users\\nguye\\AppData\\Local\\Programs\\Python\\Python310\\lib\\site-packages\\pandas\\core\\indexing.py:1103\u001b[0m, in \u001b[0;36m_LocationIndexer.__getitem__\u001b[1;34m(self, key)\u001b[0m\n\u001b[0;32m   1100\u001b[0m axis \u001b[39m=\u001b[39m \u001b[39mself\u001b[39m\u001b[39m.\u001b[39maxis \u001b[39mor\u001b[39;00m \u001b[39m0\u001b[39m\n\u001b[0;32m   1102\u001b[0m maybe_callable \u001b[39m=\u001b[39m com\u001b[39m.\u001b[39mapply_if_callable(key, \u001b[39mself\u001b[39m\u001b[39m.\u001b[39mobj)\n\u001b[1;32m-> 1103\u001b[0m \u001b[39mreturn\u001b[39;00m \u001b[39mself\u001b[39;49m\u001b[39m.\u001b[39;49m_getitem_axis(maybe_callable, axis\u001b[39m=\u001b[39;49maxis)\n",
      "File \u001b[1;32mc:\\Users\\nguye\\AppData\\Local\\Programs\\Python\\Python310\\lib\\site-packages\\pandas\\core\\indexing.py:1656\u001b[0m, in \u001b[0;36m_iLocIndexer._getitem_axis\u001b[1;34m(self, key, axis)\u001b[0m\n\u001b[0;32m   1653\u001b[0m     \u001b[39mraise\u001b[39;00m \u001b[39mTypeError\u001b[39;00m(\u001b[39m\"\u001b[39m\u001b[39mCannot index by location index with a non-integer key\u001b[39m\u001b[39m\"\u001b[39m)\n\u001b[0;32m   1655\u001b[0m \u001b[39m# validate the location\u001b[39;00m\n\u001b[1;32m-> 1656\u001b[0m \u001b[39mself\u001b[39;49m\u001b[39m.\u001b[39;49m_validate_integer(key, axis)\n\u001b[0;32m   1658\u001b[0m \u001b[39mreturn\u001b[39;00m \u001b[39mself\u001b[39m\u001b[39m.\u001b[39mobj\u001b[39m.\u001b[39m_ixs(key, axis\u001b[39m=\u001b[39maxis)\n",
      "File \u001b[1;32mc:\\Users\\nguye\\AppData\\Local\\Programs\\Python\\Python310\\lib\\site-packages\\pandas\\core\\indexing.py:1589\u001b[0m, in \u001b[0;36m_iLocIndexer._validate_integer\u001b[1;34m(self, key, axis)\u001b[0m\n\u001b[0;32m   1587\u001b[0m len_axis \u001b[39m=\u001b[39m \u001b[39mlen\u001b[39m(\u001b[39mself\u001b[39m\u001b[39m.\u001b[39mobj\u001b[39m.\u001b[39m_get_axis(axis))\n\u001b[0;32m   1588\u001b[0m \u001b[39mif\u001b[39;00m key \u001b[39m>\u001b[39m\u001b[39m=\u001b[39m len_axis \u001b[39mor\u001b[39;00m key \u001b[39m<\u001b[39m \u001b[39m-\u001b[39mlen_axis:\n\u001b[1;32m-> 1589\u001b[0m     \u001b[39mraise\u001b[39;00m \u001b[39mIndexError\u001b[39;00m(\u001b[39m\"\u001b[39m\u001b[39msingle positional indexer is out-of-bounds\u001b[39m\u001b[39m\"\u001b[39m)\n",
      "\u001b[1;31mIndexError\u001b[0m: single positional indexer is out-of-bounds"
     ]
    }
   ],
   "source": [
    "nocancer_data.iloc[55774]"
   ]
  },
  {
   "cell_type": "code",
   "execution_count": 112,
   "metadata": {},
   "outputs": [],
   "source": [
    "nocancer_data = nocancer_data[['image_id'\t,'Path'\t,'Type'\t,'status']]"
   ]
  },
  {
   "cell_type": "code",
   "execution_count": 115,
   "metadata": {},
   "outputs": [
    {
     "ename": "IndexError",
     "evalue": "single positional indexer is out-of-bounds",
     "output_type": "error",
     "traceback": [
      "\u001b[1;31m---------------------------------------------------------------------------\u001b[0m",
      "\u001b[1;31mIndexError\u001b[0m                                Traceback (most recent call last)",
      "Cell \u001b[1;32mIn[115], line 1\u001b[0m\n\u001b[1;32m----> 1\u001b[0m nocancer_data\u001b[39m.\u001b[39;49miloc[\u001b[39m55774\u001b[39;49m]\n",
      "File \u001b[1;32mc:\\Users\\nguye\\AppData\\Local\\Programs\\Python\\Python310\\lib\\site-packages\\pandas\\core\\indexing.py:1103\u001b[0m, in \u001b[0;36m_LocationIndexer.__getitem__\u001b[1;34m(self, key)\u001b[0m\n\u001b[0;32m   1100\u001b[0m axis \u001b[39m=\u001b[39m \u001b[39mself\u001b[39m\u001b[39m.\u001b[39maxis \u001b[39mor\u001b[39;00m \u001b[39m0\u001b[39m\n\u001b[0;32m   1102\u001b[0m maybe_callable \u001b[39m=\u001b[39m com\u001b[39m.\u001b[39mapply_if_callable(key, \u001b[39mself\u001b[39m\u001b[39m.\u001b[39mobj)\n\u001b[1;32m-> 1103\u001b[0m \u001b[39mreturn\u001b[39;00m \u001b[39mself\u001b[39;49m\u001b[39m.\u001b[39;49m_getitem_axis(maybe_callable, axis\u001b[39m=\u001b[39;49maxis)\n",
      "File \u001b[1;32mc:\\Users\\nguye\\AppData\\Local\\Programs\\Python\\Python310\\lib\\site-packages\\pandas\\core\\indexing.py:1656\u001b[0m, in \u001b[0;36m_iLocIndexer._getitem_axis\u001b[1;34m(self, key, axis)\u001b[0m\n\u001b[0;32m   1653\u001b[0m     \u001b[39mraise\u001b[39;00m \u001b[39mTypeError\u001b[39;00m(\u001b[39m\"\u001b[39m\u001b[39mCannot index by location index with a non-integer key\u001b[39m\u001b[39m\"\u001b[39m)\n\u001b[0;32m   1655\u001b[0m \u001b[39m# validate the location\u001b[39;00m\n\u001b[1;32m-> 1656\u001b[0m \u001b[39mself\u001b[39;49m\u001b[39m.\u001b[39;49m_validate_integer(key, axis)\n\u001b[0;32m   1658\u001b[0m \u001b[39mreturn\u001b[39;00m \u001b[39mself\u001b[39m\u001b[39m.\u001b[39mobj\u001b[39m.\u001b[39m_ixs(key, axis\u001b[39m=\u001b[39maxis)\n",
      "File \u001b[1;32mc:\\Users\\nguye\\AppData\\Local\\Programs\\Python\\Python310\\lib\\site-packages\\pandas\\core\\indexing.py:1589\u001b[0m, in \u001b[0;36m_iLocIndexer._validate_integer\u001b[1;34m(self, key, axis)\u001b[0m\n\u001b[0;32m   1587\u001b[0m len_axis \u001b[39m=\u001b[39m \u001b[39mlen\u001b[39m(\u001b[39mself\u001b[39m\u001b[39m.\u001b[39mobj\u001b[39m.\u001b[39m_get_axis(axis))\n\u001b[0;32m   1588\u001b[0m \u001b[39mif\u001b[39;00m key \u001b[39m>\u001b[39m\u001b[39m=\u001b[39m len_axis \u001b[39mor\u001b[39;00m key \u001b[39m<\u001b[39m \u001b[39m-\u001b[39mlen_axis:\n\u001b[1;32m-> 1589\u001b[0m     \u001b[39mraise\u001b[39;00m \u001b[39mIndexError\u001b[39;00m(\u001b[39m\"\u001b[39m\u001b[39msingle positional indexer is out-of-bounds\u001b[39m\u001b[39m\"\u001b[39m)\n",
      "\u001b[1;31mIndexError\u001b[0m: single positional indexer is out-of-bounds"
     ]
    }
   ],
   "source": [
    "nocancer_data.iloc[55774]"
   ]
  },
  {
   "cell_type": "code",
   "execution_count": 116,
   "metadata": {},
   "outputs": [
    {
     "data": {
      "text/plain": [
       "Index([    0,     2,     3,     4,     5,     6,     7,     8,     9,    10,\n",
       "       ...\n",
       "       61289, 61290, 61291, 61292, 61293, 61294, 61295, 61298, 61299, 61300],\n",
       "      dtype='int64', length=55038)"
      ]
     },
     "execution_count": 116,
     "metadata": {},
     "output_type": "execute_result"
    }
   ],
   "source": [
    "nocancer_data.index"
   ]
  },
  {
   "cell_type": "code",
   "execution_count": 79,
   "metadata": {},
   "outputs": [
    {
     "data": {
      "text/html": [
       "<div>\n",
       "<style scoped>\n",
       "    .dataframe tbody tr th:only-of-type {\n",
       "        vertical-align: middle;\n",
       "    }\n",
       "\n",
       "    .dataframe tbody tr th {\n",
       "        vertical-align: top;\n",
       "    }\n",
       "\n",
       "    .dataframe thead th {\n",
       "        text-align: right;\n",
       "    }\n",
       "</style>\n",
       "<table border=\"1\" class=\"dataframe\">\n",
       "  <thead>\n",
       "    <tr style=\"text-align: right;\">\n",
       "      <th></th>\n",
       "      <th>Unnamed: 0</th>\n",
       "      <th>index</th>\n",
       "      <th>image_id</th>\n",
       "      <th>Path</th>\n",
       "      <th>Type</th>\n",
       "      <th>status</th>\n",
       "    </tr>\n",
       "  </thead>\n",
       "  <tbody>\n",
       "    <tr>\n",
       "      <th>1</th>\n",
       "      <td>1</td>\n",
       "      <td>1</td>\n",
       "      <td>4174DDSM</td>\n",
       "      <td>Data_image/1728DDSM/CC/R/CC_R_4174DDSM.png</td>\n",
       "      <td>ddsm</td>\n",
       "      <td>1</td>\n",
       "    </tr>\n",
       "    <tr>\n",
       "      <th>18</th>\n",
       "      <td>24</td>\n",
       "      <td>26</td>\n",
       "      <td>D1-1135-1-2</td>\n",
       "      <td>Data_image/D1-1135/CC/R/CC_R_D1-1135-1-2.png</td>\n",
       "      <td>cmmd</td>\n",
       "      <td>1</td>\n",
       "    </tr>\n",
       "    <tr>\n",
       "      <th>20</th>\n",
       "      <td>26</td>\n",
       "      <td>28</td>\n",
       "      <td>3497DDSM</td>\n",
       "      <td>Data_image/0219DDSM/MLO/L/MLO_L_3497DDSM.png</td>\n",
       "      <td>ddsm</td>\n",
       "      <td>1</td>\n",
       "    </tr>\n",
       "    <tr>\n",
       "      <th>23</th>\n",
       "      <td>30</td>\n",
       "      <td>32</td>\n",
       "      <td>D2-0709-1-2</td>\n",
       "      <td>Data_image/D2-0709/CC/L/CC_L_D2-0709-1-2.png</td>\n",
       "      <td>cmmd</td>\n",
       "      <td>1</td>\n",
       "    </tr>\n",
       "    <tr>\n",
       "      <th>32</th>\n",
       "      <td>43</td>\n",
       "      <td>45</td>\n",
       "      <td>D1-1721-1-1</td>\n",
       "      <td>Data_image/D1-1721/MLO/L/MLO_L_D1-1721-1-1.png</td>\n",
       "      <td>cmmd</td>\n",
       "      <td>1</td>\n",
       "    </tr>\n",
       "    <tr>\n",
       "      <th>...</th>\n",
       "      <td>...</td>\n",
       "      <td>...</td>\n",
       "      <td>...</td>\n",
       "      <td>...</td>\n",
       "      <td>...</td>\n",
       "      <td>...</td>\n",
       "    </tr>\n",
       "    <tr>\n",
       "      <th>4983</th>\n",
       "      <td>6227</td>\n",
       "      <td>6407</td>\n",
       "      <td>mdb249</td>\n",
       "      <td>Data_image/Mias/mdb249.png</td>\n",
       "      <td>Mias</td>\n",
       "      <td>1</td>\n",
       "    </tr>\n",
       "    <tr>\n",
       "      <th>4986</th>\n",
       "      <td>6231</td>\n",
       "      <td>6411</td>\n",
       "      <td>P266-R-DM-CC</td>\n",
       "      <td>Data_image/266CDD/CC/R/CC_R_P266-R-DM-CC.png</td>\n",
       "      <td>cdd</td>\n",
       "      <td>1</td>\n",
       "    </tr>\n",
       "    <tr>\n",
       "      <th>4999</th>\n",
       "      <td>6250</td>\n",
       "      <td>6431</td>\n",
       "      <td>D1-0428-1-1</td>\n",
       "      <td>Data_image/D1-0428/MLO/L/MLO_L_D1-0428-1-1.png</td>\n",
       "      <td>cmmd</td>\n",
       "      <td>1</td>\n",
       "    </tr>\n",
       "    <tr>\n",
       "      <th>5002</th>\n",
       "      <td>6253</td>\n",
       "      <td>6434</td>\n",
       "      <td>1982155258</td>\n",
       "      <td>Data_image/26664/MLO/R/MLO_R_1982155258.png</td>\n",
       "      <td>rsna</td>\n",
       "      <td>1</td>\n",
       "    </tr>\n",
       "    <tr>\n",
       "      <th>5008</th>\n",
       "      <td>6260</td>\n",
       "      <td>6441</td>\n",
       "      <td>2041771555</td>\n",
       "      <td>Data_image/35847/CC/R/CC_R_2041771555.png</td>\n",
       "      <td>rsna</td>\n",
       "      <td>1</td>\n",
       "    </tr>\n",
       "  </tbody>\n",
       "</table>\n",
       "<p>504 rows × 6 columns</p>\n",
       "</div>"
      ],
      "text/plain": [
       "      Unnamed: 0  index      image_id   \n",
       "1              1      1      4174DDSM  \\\n",
       "18            24     26   D1-1135-1-2   \n",
       "20            26     28      3497DDSM   \n",
       "23            30     32   D2-0709-1-2   \n",
       "32            43     45   D1-1721-1-1   \n",
       "...          ...    ...           ...   \n",
       "4983        6227   6407        mdb249   \n",
       "4986        6231   6411  P266-R-DM-CC   \n",
       "4999        6250   6431   D1-0428-1-1   \n",
       "5002        6253   6434    1982155258   \n",
       "5008        6260   6441    2041771555   \n",
       "\n",
       "                                                Path  Type  status  \n",
       "1         Data_image/1728DDSM/CC/R/CC_R_4174DDSM.png  ddsm       1  \n",
       "18      Data_image/D1-1135/CC/R/CC_R_D1-1135-1-2.png  cmmd       1  \n",
       "20      Data_image/0219DDSM/MLO/L/MLO_L_3497DDSM.png  ddsm       1  \n",
       "23      Data_image/D2-0709/CC/L/CC_L_D2-0709-1-2.png  cmmd       1  \n",
       "32    Data_image/D1-1721/MLO/L/MLO_L_D1-1721-1-1.png  cmmd       1  \n",
       "...                                              ...   ...     ...  \n",
       "4983                      Data_image/Mias/mdb249.png  Mias       1  \n",
       "4986    Data_image/266CDD/CC/R/CC_R_P266-R-DM-CC.png   cdd       1  \n",
       "4999  Data_image/D1-0428/MLO/L/MLO_L_D1-0428-1-1.png  cmmd       1  \n",
       "5002     Data_image/26664/MLO/R/MLO_R_1982155258.png  rsna       1  \n",
       "5008       Data_image/35847/CC/R/CC_R_2041771555.png  rsna       1  \n",
       "\n",
       "[504 rows x 6 columns]"
      ]
     },
     "execution_count": 79,
     "metadata": {},
     "output_type": "execute_result"
    }
   ],
   "source": [
    "df = pd.read_csv(r\"E:\\WORKBASE\\Project-rsna-breast-cancer-detection\\META_DATA\\2CLASS\\0-fold\\train.csv\")\n",
    "df[df.status == 1]"
   ]
  },
  {
   "cell_type": "code",
   "execution_count": 93,
   "metadata": {},
   "outputs": [
    {
     "data": {
      "text/plain": [
       "status\n",
       "1    6263\n",
       "Name: count, dtype: int64"
      ]
     },
     "execution_count": 93,
     "metadata": {},
     "output_type": "execute_result"
    }
   ],
   "source": [
    "meta.iloc[cancer_data.index].status.value_counts()"
   ]
  },
  {
   "cell_type": "code",
   "execution_count": 39,
   "metadata": {},
   "outputs": [
    {
     "data": {
      "text/plain": [
       "11005"
      ]
     },
     "execution_count": 39,
     "metadata": {},
     "output_type": "execute_result"
    }
   ],
   "source": [
    "len(balanced_nocancer_data)"
   ]
  },
  {
   "attachments": {},
   "cell_type": "markdown",
   "metadata": {},
   "source": [
    "## 2 CLASS"
   ]
  },
  {
   "attachments": {},
   "cell_type": "markdown",
   "metadata": {},
   "source": [
    "We have 5 dataset: DDSM, RSNA, CMMD, CDD, Mias\n",
    "+ So we will collect status 0, 1 --> 0 and 2 --> 1"
   ]
  },
  {
   "cell_type": "code",
   "execution_count": 61,
   "metadata": {},
   "outputs": [
    {
     "data": {
      "text/html": [
       "<div>\n",
       "<style scoped>\n",
       "    .dataframe tbody tr th:only-of-type {\n",
       "        vertical-align: middle;\n",
       "    }\n",
       "\n",
       "    .dataframe tbody tr th {\n",
       "        vertical-align: top;\n",
       "    }\n",
       "\n",
       "    .dataframe thead th {\n",
       "        text-align: right;\n",
       "    }\n",
       "</style>\n",
       "<table border=\"1\" class=\"dataframe\">\n",
       "  <thead>\n",
       "    <tr style=\"text-align: right;\">\n",
       "      <th></th>\n",
       "      <th>image_id</th>\n",
       "      <th>Path</th>\n",
       "      <th>Type</th>\n",
       "      <th>status</th>\n",
       "    </tr>\n",
       "  </thead>\n",
       "  <tbody>\n",
       "    <tr>\n",
       "      <th>0</th>\n",
       "      <td>mdb001</td>\n",
       "      <td>Data_image/Mias/mdb001.png</td>\n",
       "      <td>Mias</td>\n",
       "      <td>1</td>\n",
       "    </tr>\n",
       "    <tr>\n",
       "      <th>1</th>\n",
       "      <td>mdb002</td>\n",
       "      <td>Data_image/Mias/mdb002.png</td>\n",
       "      <td>Mias</td>\n",
       "      <td>1</td>\n",
       "    </tr>\n",
       "    <tr>\n",
       "      <th>2</th>\n",
       "      <td>mdb003</td>\n",
       "      <td>Data_image/Mias/mdb003.png</td>\n",
       "      <td>Mias</td>\n",
       "      <td>0</td>\n",
       "    </tr>\n",
       "    <tr>\n",
       "      <th>3</th>\n",
       "      <td>mdb004</td>\n",
       "      <td>Data_image/Mias/mdb004.png</td>\n",
       "      <td>Mias</td>\n",
       "      <td>0</td>\n",
       "    </tr>\n",
       "    <tr>\n",
       "      <th>4</th>\n",
       "      <td>mdb005</td>\n",
       "      <td>Data_image/Mias/mdb005.png</td>\n",
       "      <td>Mias</td>\n",
       "      <td>1</td>\n",
       "    </tr>\n",
       "    <tr>\n",
       "      <th>...</th>\n",
       "      <td>...</td>\n",
       "      <td>...</td>\n",
       "      <td>...</td>\n",
       "      <td>...</td>\n",
       "    </tr>\n",
       "    <tr>\n",
       "      <th>317</th>\n",
       "      <td>mdb318</td>\n",
       "      <td>Data_image/Mias/mdb318.png</td>\n",
       "      <td>Mias</td>\n",
       "      <td>0</td>\n",
       "    </tr>\n",
       "    <tr>\n",
       "      <th>318</th>\n",
       "      <td>mdb319</td>\n",
       "      <td>Data_image/Mias/mdb319.png</td>\n",
       "      <td>Mias</td>\n",
       "      <td>0</td>\n",
       "    </tr>\n",
       "    <tr>\n",
       "      <th>319</th>\n",
       "      <td>mdb320</td>\n",
       "      <td>Data_image/Mias/mdb320.png</td>\n",
       "      <td>Mias</td>\n",
       "      <td>0</td>\n",
       "    </tr>\n",
       "    <tr>\n",
       "      <th>320</th>\n",
       "      <td>mdb321</td>\n",
       "      <td>Data_image/Mias/mdb321.png</td>\n",
       "      <td>Mias</td>\n",
       "      <td>0</td>\n",
       "    </tr>\n",
       "    <tr>\n",
       "      <th>321</th>\n",
       "      <td>mdb322</td>\n",
       "      <td>Data_image/Mias/mdb322.png</td>\n",
       "      <td>Mias</td>\n",
       "      <td>0</td>\n",
       "    </tr>\n",
       "  </tbody>\n",
       "</table>\n",
       "<p>322 rows × 4 columns</p>\n",
       "</div>"
      ],
      "text/plain": [
       "    image_id                        Path  Type  status\n",
       "0     mdb001  Data_image/Mias/mdb001.png  Mias       1\n",
       "1     mdb002  Data_image/Mias/mdb002.png  Mias       1\n",
       "2     mdb003  Data_image/Mias/mdb003.png  Mias       0\n",
       "3     mdb004  Data_image/Mias/mdb004.png  Mias       0\n",
       "4     mdb005  Data_image/Mias/mdb005.png  Mias       1\n",
       "..       ...                         ...   ...     ...\n",
       "317   mdb318  Data_image/Mias/mdb318.png  Mias       0\n",
       "318   mdb319  Data_image/Mias/mdb319.png  Mias       0\n",
       "319   mdb320  Data_image/Mias/mdb320.png  Mias       0\n",
       "320   mdb321  Data_image/Mias/mdb321.png  Mias       0\n",
       "321   mdb322  Data_image/Mias/mdb322.png  Mias       0\n",
       "\n",
       "[322 rows x 4 columns]"
      ]
     },
     "execution_count": 61,
     "metadata": {},
     "output_type": "execute_result"
    }
   ],
   "source": [
    "mias"
   ]
  },
  {
   "cell_type": "code",
   "execution_count": 62,
   "metadata": {},
   "outputs": [
    {
     "data": {
      "text/html": [
       "<div>\n",
       "<style scoped>\n",
       "    .dataframe tbody tr th:only-of-type {\n",
       "        vertical-align: middle;\n",
       "    }\n",
       "\n",
       "    .dataframe tbody tr th {\n",
       "        vertical-align: top;\n",
       "    }\n",
       "\n",
       "    .dataframe thead th {\n",
       "        text-align: right;\n",
       "    }\n",
       "</style>\n",
       "<table border=\"1\" class=\"dataframe\">\n",
       "  <thead>\n",
       "    <tr style=\"text-align: right;\">\n",
       "      <th></th>\n",
       "      <th>image_id</th>\n",
       "      <th>Path</th>\n",
       "      <th>Type</th>\n",
       "      <th>status</th>\n",
       "    </tr>\n",
       "  </thead>\n",
       "  <tbody>\n",
       "    <tr>\n",
       "      <th>0</th>\n",
       "      <td>0DDSM</td>\n",
       "      <td>Data_image/0029DDSM/CC/L/CC_L_0DDSM.png</td>\n",
       "      <td>ddsm</td>\n",
       "      <td>1</td>\n",
       "    </tr>\n",
       "    <tr>\n",
       "      <th>1</th>\n",
       "      <td>1DDSM</td>\n",
       "      <td>Data_image/0029DDSM/MLO/L/MLO_L_1DDSM.png</td>\n",
       "      <td>ddsm</td>\n",
       "      <td>1</td>\n",
       "    </tr>\n",
       "    <tr>\n",
       "      <th>2</th>\n",
       "      <td>2DDSM</td>\n",
       "      <td>Data_image/0029DDSM/CC/R/CC_R_2DDSM.png</td>\n",
       "      <td>ddsm</td>\n",
       "      <td>1</td>\n",
       "    </tr>\n",
       "    <tr>\n",
       "      <th>3</th>\n",
       "      <td>3DDSM</td>\n",
       "      <td>Data_image/0029DDSM/MLO/R/MLO_R_3DDSM.png</td>\n",
       "      <td>ddsm</td>\n",
       "      <td>1</td>\n",
       "    </tr>\n",
       "    <tr>\n",
       "      <th>4</th>\n",
       "      <td>4DDSM</td>\n",
       "      <td>Data_image/0033DDSM/CC/L/CC_L_4DDSM.png</td>\n",
       "      <td>ddsm</td>\n",
       "      <td>1</td>\n",
       "    </tr>\n",
       "    <tr>\n",
       "      <th>...</th>\n",
       "      <td>...</td>\n",
       "      <td>...</td>\n",
       "      <td>...</td>\n",
       "      <td>...</td>\n",
       "    </tr>\n",
       "    <tr>\n",
       "      <th>7803</th>\n",
       "      <td>7803DDSM</td>\n",
       "      <td>Data_image/4607DDSM/MLO/R/MLO_R_7803DDSM.png</td>\n",
       "      <td>ddsm</td>\n",
       "      <td>0</td>\n",
       "    </tr>\n",
       "    <tr>\n",
       "      <th>7804</th>\n",
       "      <td>7804DDSM</td>\n",
       "      <td>Data_image/4608DDSM/CC/L/CC_L_7804DDSM.png</td>\n",
       "      <td>ddsm</td>\n",
       "      <td>0</td>\n",
       "    </tr>\n",
       "    <tr>\n",
       "      <th>7805</th>\n",
       "      <td>7805DDSM</td>\n",
       "      <td>Data_image/4608DDSM/MLO/L/MLO_L_7805DDSM.png</td>\n",
       "      <td>ddsm</td>\n",
       "      <td>0</td>\n",
       "    </tr>\n",
       "    <tr>\n",
       "      <th>7806</th>\n",
       "      <td>7806DDSM</td>\n",
       "      <td>Data_image/4608DDSM/CC/R/CC_R_7806DDSM.png</td>\n",
       "      <td>ddsm</td>\n",
       "      <td>0</td>\n",
       "    </tr>\n",
       "    <tr>\n",
       "      <th>7807</th>\n",
       "      <td>7807DDSM</td>\n",
       "      <td>Data_image/4608DDSM/MLO/R/MLO_R_7807DDSM.png</td>\n",
       "      <td>ddsm</td>\n",
       "      <td>0</td>\n",
       "    </tr>\n",
       "  </tbody>\n",
       "</table>\n",
       "<p>7808 rows × 4 columns</p>\n",
       "</div>"
      ],
      "text/plain": [
       "      image_id                                          Path  Type  status\n",
       "0        0DDSM       Data_image/0029DDSM/CC/L/CC_L_0DDSM.png  ddsm       1\n",
       "1        1DDSM     Data_image/0029DDSM/MLO/L/MLO_L_1DDSM.png  ddsm       1\n",
       "2        2DDSM       Data_image/0029DDSM/CC/R/CC_R_2DDSM.png  ddsm       1\n",
       "3        3DDSM     Data_image/0029DDSM/MLO/R/MLO_R_3DDSM.png  ddsm       1\n",
       "4        4DDSM       Data_image/0033DDSM/CC/L/CC_L_4DDSM.png  ddsm       1\n",
       "...        ...                                           ...   ...     ...\n",
       "7803  7803DDSM  Data_image/4607DDSM/MLO/R/MLO_R_7803DDSM.png  ddsm       0\n",
       "7804  7804DDSM    Data_image/4608DDSM/CC/L/CC_L_7804DDSM.png  ddsm       0\n",
       "7805  7805DDSM  Data_image/4608DDSM/MLO/L/MLO_L_7805DDSM.png  ddsm       0\n",
       "7806  7806DDSM    Data_image/4608DDSM/CC/R/CC_R_7806DDSM.png  ddsm       0\n",
       "7807  7807DDSM  Data_image/4608DDSM/MLO/R/MLO_R_7807DDSM.png  ddsm       0\n",
       "\n",
       "[7808 rows x 4 columns]"
      ]
     },
     "execution_count": 62,
     "metadata": {},
     "output_type": "execute_result"
    }
   ],
   "source": [
    "ddsm"
   ]
  },
  {
   "cell_type": "code",
   "execution_count": 63,
   "metadata": {},
   "outputs": [
    {
     "data": {
      "text/html": [
       "<div>\n",
       "<style scoped>\n",
       "    .dataframe tbody tr th:only-of-type {\n",
       "        vertical-align: middle;\n",
       "    }\n",
       "\n",
       "    .dataframe tbody tr th {\n",
       "        vertical-align: top;\n",
       "    }\n",
       "\n",
       "    .dataframe thead th {\n",
       "        text-align: right;\n",
       "    }\n",
       "</style>\n",
       "<table border=\"1\" class=\"dataframe\">\n",
       "  <thead>\n",
       "    <tr style=\"text-align: right;\">\n",
       "      <th></th>\n",
       "      <th>image_id</th>\n",
       "      <th>Path</th>\n",
       "      <th>Type</th>\n",
       "      <th>status</th>\n",
       "    </tr>\n",
       "  </thead>\n",
       "  <tbody>\n",
       "    <tr>\n",
       "      <th>0</th>\n",
       "      <td>P1-L-DM-MLO</td>\n",
       "      <td>Data_image/1CDD/MLO/L/MLO_L_P1-L-DM-MLO.png</td>\n",
       "      <td>cdd</td>\n",
       "      <td>2</td>\n",
       "    </tr>\n",
       "    <tr>\n",
       "      <th>1</th>\n",
       "      <td>P2-R-DM-CC</td>\n",
       "      <td>Data_image/2CDD/CC/R/CC_R_P2-R-DM-CC.png</td>\n",
       "      <td>cdd</td>\n",
       "      <td>1</td>\n",
       "    </tr>\n",
       "    <tr>\n",
       "      <th>2</th>\n",
       "      <td>P2-R-DM-MLO</td>\n",
       "      <td>Data_image/2CDD/MLO/R/MLO_R_P2-R-DM-MLO.png</td>\n",
       "      <td>cdd</td>\n",
       "      <td>1</td>\n",
       "    </tr>\n",
       "    <tr>\n",
       "      <th>3</th>\n",
       "      <td>P2-L-DM-CC</td>\n",
       "      <td>Data_image/2CDD/CC/L/CC_L_P2-L-DM-CC.png</td>\n",
       "      <td>cdd</td>\n",
       "      <td>1</td>\n",
       "    </tr>\n",
       "    <tr>\n",
       "      <th>4</th>\n",
       "      <td>P2-L-DM-MLO</td>\n",
       "      <td>Data_image/2CDD/MLO/L/MLO_L_P2-L-DM-MLO.png</td>\n",
       "      <td>cdd</td>\n",
       "      <td>1</td>\n",
       "    </tr>\n",
       "    <tr>\n",
       "      <th>...</th>\n",
       "      <td>...</td>\n",
       "      <td>...</td>\n",
       "      <td>...</td>\n",
       "      <td>...</td>\n",
       "    </tr>\n",
       "    <tr>\n",
       "      <th>1061</th>\n",
       "      <td>P316-L-DM-MLO</td>\n",
       "      <td>Data_image/316CDD/MLO/L/MLO_L_P316-L-DM-MLO.png</td>\n",
       "      <td>cdd</td>\n",
       "      <td>2</td>\n",
       "    </tr>\n",
       "    <tr>\n",
       "      <th>1062</th>\n",
       "      <td>P319-R-DM-CC</td>\n",
       "      <td>Data_image/319CDD/CC/R/CC_R_P319-R-DM-CC.png</td>\n",
       "      <td>cdd</td>\n",
       "      <td>1</td>\n",
       "    </tr>\n",
       "    <tr>\n",
       "      <th>1063</th>\n",
       "      <td>P319-R-DM-MLO</td>\n",
       "      <td>Data_image/319CDD/MLO/R/MLO_R_P319-R-DM-MLO.png</td>\n",
       "      <td>cdd</td>\n",
       "      <td>1</td>\n",
       "    </tr>\n",
       "    <tr>\n",
       "      <th>1064</th>\n",
       "      <td>P325-R-DM-CC</td>\n",
       "      <td>Data_image/325CDD/CC/R/CC_R_P325-R-DM-CC.png</td>\n",
       "      <td>cdd</td>\n",
       "      <td>1</td>\n",
       "    </tr>\n",
       "    <tr>\n",
       "      <th>1065</th>\n",
       "      <td>P325-R-DM-MLO</td>\n",
       "      <td>Data_image/325CDD/MLO/R/MLO_R_P325-R-DM-MLO.png</td>\n",
       "      <td>cdd</td>\n",
       "      <td>1</td>\n",
       "    </tr>\n",
       "  </tbody>\n",
       "</table>\n",
       "<p>1066 rows × 4 columns</p>\n",
       "</div>"
      ],
      "text/plain": [
       "           image_id                                             Path Type   \n",
       "0       P1-L-DM-MLO      Data_image/1CDD/MLO/L/MLO_L_P1-L-DM-MLO.png  cdd  \\\n",
       "1        P2-R-DM-CC         Data_image/2CDD/CC/R/CC_R_P2-R-DM-CC.png  cdd   \n",
       "2       P2-R-DM-MLO      Data_image/2CDD/MLO/R/MLO_R_P2-R-DM-MLO.png  cdd   \n",
       "3        P2-L-DM-CC         Data_image/2CDD/CC/L/CC_L_P2-L-DM-CC.png  cdd   \n",
       "4       P2-L-DM-MLO      Data_image/2CDD/MLO/L/MLO_L_P2-L-DM-MLO.png  cdd   \n",
       "...             ...                                              ...  ...   \n",
       "1061  P316-L-DM-MLO  Data_image/316CDD/MLO/L/MLO_L_P316-L-DM-MLO.png  cdd   \n",
       "1062   P319-R-DM-CC     Data_image/319CDD/CC/R/CC_R_P319-R-DM-CC.png  cdd   \n",
       "1063  P319-R-DM-MLO  Data_image/319CDD/MLO/R/MLO_R_P319-R-DM-MLO.png  cdd   \n",
       "1064   P325-R-DM-CC     Data_image/325CDD/CC/R/CC_R_P325-R-DM-CC.png  cdd   \n",
       "1065  P325-R-DM-MLO  Data_image/325CDD/MLO/R/MLO_R_P325-R-DM-MLO.png  cdd   \n",
       "\n",
       "      status  \n",
       "0          2  \n",
       "1          1  \n",
       "2          1  \n",
       "3          1  \n",
       "4          1  \n",
       "...      ...  \n",
       "1061       2  \n",
       "1062       1  \n",
       "1063       1  \n",
       "1064       1  \n",
       "1065       1  \n",
       "\n",
       "[1066 rows x 4 columns]"
      ]
     },
     "execution_count": 63,
     "metadata": {},
     "output_type": "execute_result"
    }
   ],
   "source": [
    "cdd"
   ]
  },
  {
   "cell_type": "code",
   "execution_count": null,
   "metadata": {},
   "outputs": [],
   "source": []
  }
 ],
 "metadata": {
  "kernelspec": {
   "display_name": "Python 3",
   "language": "python",
   "name": "python3"
  },
  "language_info": {
   "codemirror_mode": {
    "name": "ipython",
    "version": 3
   },
   "file_extension": ".py",
   "mimetype": "text/x-python",
   "name": "python",
   "nbconvert_exporter": "python",
   "pygments_lexer": "ipython3",
   "version": "3.10.4"
  },
  "orig_nbformat": 4
 },
 "nbformat": 4,
 "nbformat_minor": 2
}
