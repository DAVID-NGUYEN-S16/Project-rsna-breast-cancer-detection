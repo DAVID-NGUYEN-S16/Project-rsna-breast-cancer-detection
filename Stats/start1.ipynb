{
 "cells": [
  {
   "attachments": {},
   "cell_type": "markdown",
   "metadata": {},
   "source": [
    "## Analysis number of partient has pair of image L of MLO, CC equal {0, 1}, {1, 0}"
   ]
  },
  {
   "cell_type": "code",
   "execution_count": 1,
   "metadata": {},
   "outputs": [],
   "source": [
    "import cv2\n",
    "from PIL import Image, ImageOps\n",
    "import argparse\n",
    "import os\n",
    "import glob\n",
    "import matplotlib.pyplot as plt\n",
    "import multiprocessing as mp\n",
    "from joblib import Parallel, delayed\n",
    "import pydicom\n",
    "import time\n",
    "import numpy as np\n",
    "import torch\n",
    "import random\n",
    "import pandas as pd\n",
    "from pydicom.pixel_data_handlers import apply_windowing\n",
    "import imageio\n",
    "import time\n",
    "import shutil"
   ]
  },
  {
   "cell_type": "markdown",
   "metadata": {},
   "source": [
    "### Thống kê lại số lượng trường hợp 0 - 1, 1 - 0 trên đầu người và số lượng trên "
   ]
  },
  {
   "cell_type": "code",
   "execution_count": 2,
   "metadata": {},
   "outputs": [],
   "source": [
    "meta = pd.read_csv(r'D:\\OneDrive - Industrial University of HoChiMinh City\\WORKBASE\\Project-rsna-breast-cancer-detection\\Data_main\\CSV_MAIN\\meta_data.csv')\n",
    "meta = meta.drop('Unnamed: 0', axis=1)"
   ]
  },
  {
   "cell_type": "code",
   "execution_count": 3,
   "metadata": {},
   "outputs": [
    {
     "data": {
      "text/html": [
       "<div>\n",
       "<style scoped>\n",
       "    .dataframe tbody tr th:only-of-type {\n",
       "        vertical-align: middle;\n",
       "    }\n",
       "\n",
       "    .dataframe tbody tr th {\n",
       "        vertical-align: top;\n",
       "    }\n",
       "\n",
       "    .dataframe thead th {\n",
       "        text-align: right;\n",
       "    }\n",
       "</style>\n",
       "<table border=\"1\" class=\"dataframe\">\n",
       "  <thead>\n",
       "    <tr style=\"text-align: right;\">\n",
       "      <th></th>\n",
       "      <th>patient_id</th>\n",
       "      <th>image_id</th>\n",
       "      <th>view</th>\n",
       "      <th>laterality</th>\n",
       "      <th>age</th>\n",
       "      <th>cancer</th>\n",
       "    </tr>\n",
       "  </thead>\n",
       "  <tbody>\n",
       "    <tr>\n",
       "      <th>0</th>\n",
       "      <td>10006</td>\n",
       "      <td>1874946579</td>\n",
       "      <td>CC</td>\n",
       "      <td>R</td>\n",
       "      <td>61.0</td>\n",
       "      <td>0</td>\n",
       "    </tr>\n",
       "    <tr>\n",
       "      <th>1</th>\n",
       "      <td>10006</td>\n",
       "      <td>1864590858</td>\n",
       "      <td>MLO</td>\n",
       "      <td>R</td>\n",
       "      <td>61.0</td>\n",
       "      <td>0</td>\n",
       "    </tr>\n",
       "    <tr>\n",
       "      <th>2</th>\n",
       "      <td>10006</td>\n",
       "      <td>462822612</td>\n",
       "      <td>CC</td>\n",
       "      <td>L</td>\n",
       "      <td>61.0</td>\n",
       "      <td>0</td>\n",
       "    </tr>\n",
       "    <tr>\n",
       "      <th>3</th>\n",
       "      <td>10006</td>\n",
       "      <td>1459541791</td>\n",
       "      <td>MLO</td>\n",
       "      <td>L</td>\n",
       "      <td>61.0</td>\n",
       "      <td>0</td>\n",
       "    </tr>\n",
       "    <tr>\n",
       "      <th>4</th>\n",
       "      <td>10011</td>\n",
       "      <td>541722628</td>\n",
       "      <td>CC</td>\n",
       "      <td>R</td>\n",
       "      <td>55.0</td>\n",
       "      <td>0</td>\n",
       "    </tr>\n",
       "  </tbody>\n",
       "</table>\n",
       "</div>"
      ],
      "text/plain": [
       "  patient_id    image_id view laterality   age  cancer\n",
       "0      10006  1874946579   CC          R  61.0       0\n",
       "1      10006  1864590858  MLO          R  61.0       0\n",
       "2      10006   462822612   CC          L  61.0       0\n",
       "3      10006  1459541791  MLO          L  61.0       0\n",
       "4      10011   541722628   CC          R  55.0       0"
      ]
     },
     "execution_count": 3,
     "metadata": {},
     "output_type": "execute_result"
    }
   ],
   "source": [
    "meta.head(5)"
   ]
  },
  {
   "cell_type": "code",
   "execution_count": 4,
   "metadata": {},
   "outputs": [
    {
     "name": "stdout",
     "output_type": "stream",
     "text": [
      "Total image = 55560\n"
     ]
    }
   ],
   "source": [
    "print(f\"Total image = {len(meta)}\")"
   ]
  },
  {
   "cell_type": "code",
   "execution_count": 5,
   "metadata": {},
   "outputs": [
    {
     "name": "stdout",
     "output_type": "stream",
     "text": [
      "Total partient id is 13507\n"
     ]
    }
   ],
   "source": [
    "print(f'Total partient id is {len(meta.patient_id.unique())}')"
   ]
  },
  {
   "cell_type": "code",
   "execution_count": 6,
   "metadata": {},
   "outputs": [
    {
     "name": "stdout",
     "output_type": "stream",
     "text": [
      "Quantity partient has cancer: 2088\n"
     ]
    }
   ],
   "source": [
    "quanity_cancer = len(meta[meta.cancer == 1].patient_id.unique())\n",
    "print(f'Quantity partient has cancer: {quanity_cancer}')"
   ]
  },
  {
   "cell_type": "code",
   "execution_count": 7,
   "metadata": {},
   "outputs": [
    {
     "name": "stdout",
     "output_type": "stream",
     "text": [
      "Quantity error feature age:80\n"
     ]
    }
   ],
   "source": [
    "print(f\"Quantity error feature age:{len(meta[meta.age == 0])}\")"
   ]
  },
  {
   "cell_type": "code",
   "execution_count": 8,
   "metadata": {},
   "outputs": [
    {
     "data": {
      "text/html": [
       "<div>\n",
       "<style scoped>\n",
       "    .dataframe tbody tr th:only-of-type {\n",
       "        vertical-align: middle;\n",
       "    }\n",
       "\n",
       "    .dataframe tbody tr th {\n",
       "        vertical-align: top;\n",
       "    }\n",
       "\n",
       "    .dataframe thead th {\n",
       "        text-align: right;\n",
       "    }\n",
       "</style>\n",
       "<table border=\"1\" class=\"dataframe\">\n",
       "  <thead>\n",
       "    <tr style=\"text-align: right;\">\n",
       "      <th></th>\n",
       "      <th>patient_id</th>\n",
       "      <th>image_id</th>\n",
       "      <th>view</th>\n",
       "      <th>laterality</th>\n",
       "      <th>age</th>\n",
       "      <th>cancer</th>\n",
       "    </tr>\n",
       "  </thead>\n",
       "  <tbody>\n",
       "    <tr>\n",
       "      <th>80</th>\n",
       "      <td>10130</td>\n",
       "      <td>1165309236</td>\n",
       "      <td>CC</td>\n",
       "      <td>R</td>\n",
       "      <td>71.0</td>\n",
       "      <td>0</td>\n",
       "    </tr>\n",
       "    <tr>\n",
       "      <th>81</th>\n",
       "      <td>10130</td>\n",
       "      <td>2110820077</td>\n",
       "      <td>MLO</td>\n",
       "      <td>R</td>\n",
       "      <td>71.0</td>\n",
       "      <td>0</td>\n",
       "    </tr>\n",
       "    <tr>\n",
       "      <th>82</th>\n",
       "      <td>10130</td>\n",
       "      <td>613462606</td>\n",
       "      <td>CC</td>\n",
       "      <td>L</td>\n",
       "      <td>71.0</td>\n",
       "      <td>1</td>\n",
       "    </tr>\n",
       "    <tr>\n",
       "      <th>83</th>\n",
       "      <td>10130</td>\n",
       "      <td>388811999</td>\n",
       "      <td>MLO</td>\n",
       "      <td>L</td>\n",
       "      <td>71.0</td>\n",
       "      <td>1</td>\n",
       "    </tr>\n",
       "    <tr>\n",
       "      <th>84</th>\n",
       "      <td>10130</td>\n",
       "      <td>1360338805</td>\n",
       "      <td>CC</td>\n",
       "      <td>L</td>\n",
       "      <td>71.0</td>\n",
       "      <td>1</td>\n",
       "    </tr>\n",
       "    <tr>\n",
       "      <th>...</th>\n",
       "      <td>...</td>\n",
       "      <td>...</td>\n",
       "      <td>...</td>\n",
       "      <td>...</td>\n",
       "      <td>...</td>\n",
       "      <td>...</td>\n",
       "    </tr>\n",
       "    <tr>\n",
       "      <th>55555</th>\n",
       "      <td>323CDD</td>\n",
       "      <td>P323-L-DM-MLO</td>\n",
       "      <td>MLO</td>\n",
       "      <td>L</td>\n",
       "      <td>45.0</td>\n",
       "      <td>1</td>\n",
       "    </tr>\n",
       "    <tr>\n",
       "      <th>55556</th>\n",
       "      <td>326CDD</td>\n",
       "      <td>P326-R-DM-CC</td>\n",
       "      <td>CC</td>\n",
       "      <td>R</td>\n",
       "      <td>51.0</td>\n",
       "      <td>0</td>\n",
       "    </tr>\n",
       "    <tr>\n",
       "      <th>55557</th>\n",
       "      <td>326CDD</td>\n",
       "      <td>P326-R-DM-MLO</td>\n",
       "      <td>MLO</td>\n",
       "      <td>R</td>\n",
       "      <td>51.0</td>\n",
       "      <td>0</td>\n",
       "    </tr>\n",
       "    <tr>\n",
       "      <th>55558</th>\n",
       "      <td>326CDD</td>\n",
       "      <td>P326-L-DM-CC</td>\n",
       "      <td>CC</td>\n",
       "      <td>L</td>\n",
       "      <td>51.0</td>\n",
       "      <td>1</td>\n",
       "    </tr>\n",
       "    <tr>\n",
       "      <th>55559</th>\n",
       "      <td>326CDD</td>\n",
       "      <td>P326-L-DM-MLO</td>\n",
       "      <td>MLO</td>\n",
       "      <td>L</td>\n",
       "      <td>51.0</td>\n",
       "      <td>1</td>\n",
       "    </tr>\n",
       "  </tbody>\n",
       "</table>\n",
       "<p>7674 rows × 6 columns</p>\n",
       "</div>"
      ],
      "text/plain": [
       "      patient_id       image_id view laterality   age  cancer\n",
       "80         10130     1165309236   CC          R  71.0       0\n",
       "81         10130     2110820077  MLO          R  71.0       0\n",
       "82         10130      613462606   CC          L  71.0       1\n",
       "83         10130      388811999  MLO          L  71.0       1\n",
       "84         10130     1360338805   CC          L  71.0       1\n",
       "...          ...            ...  ...        ...   ...     ...\n",
       "55555     323CDD  P323-L-DM-MLO  MLO          L  45.0       1\n",
       "55556     326CDD   P326-R-DM-CC   CC          R  51.0       0\n",
       "55557     326CDD  P326-R-DM-MLO  MLO          R  51.0       0\n",
       "55558     326CDD   P326-L-DM-CC   CC          L  51.0       1\n",
       "55559     326CDD  P326-L-DM-MLO  MLO          L  51.0       1\n",
       "\n",
       "[7674 rows x 6 columns]"
      ]
     },
     "execution_count": 8,
     "metadata": {},
     "output_type": "execute_result"
    }
   ],
   "source": [
    "full_cancer = meta[meta.cancer == 1].patient_id\n",
    "potential_cancer = meta[meta.patient_id.isin(full_cancer)]\n",
    "potential_cancer"
   ]
  },
  {
   "cell_type": "code",
   "execution_count": 9,
   "metadata": {},
   "outputs": [
    {
     "data": {
      "text/plain": [
       "patient_id                        laterality  image_id                          view  cancer\n",
       "01c3c13f0b852aed00b5147c21d0e649  L           03b3656c726cbe0d79c86a25d4296559  CC    1         1\n",
       "                                              81bf78c982ca444852fa95af7d96429c  MLO   1         1\n",
       "                                  R           40a196059322084cbce62642c216b215  MLO   0         1\n",
       "                                              8c7e6e033f0be620335d5287f9396838  CC    0         1\n",
       "0246c6050121c176d2e8fcf91f22f926  L           0dbc1663eceef924f0f339604af18364  MLO   1         1\n",
       "                                                                                               ..\n",
       "fe23c1647f7617ef219a0a0e07c9eec5  R           a2db9f0fb96f841c6e6da08821e51109  CC    0         1\n",
       "ff5c656fb6757b708d64d2ebdd33c421  L           11ae77d09d90780bb56ed52bcefb4272  CC    0         1\n",
       "                                              5c7c3eab43acdb5f4b8ba8b7cdfd5c27  MLO   0         1\n",
       "                                  R           4a06e41e38450e4c6e743b8e8da1ec60  MLO   1         1\n",
       "                                              6cab0db67458b7c2bf4afade630adee5  CC    1         1\n",
       "Length: 7674, dtype: int64"
      ]
     },
     "execution_count": 9,
     "metadata": {},
     "output_type": "execute_result"
    }
   ],
   "source": [
    "group_meta = potential_cancer.groupby((['patient_id', 'laterality','image_id', 'view','cancer'])).size()\n",
    "# group_meta = group_meta.to_frame()\n",
    "group_meta"
   ]
  },
  {
   "cell_type": "code",
   "execution_count": 10,
   "metadata": {},
   "outputs": [],
   "source": [
    "def check_cancer(par):\n",
    "    lat = potential_cancer[potential_cancer.patient_id == par].laterality\n",
    "    # print(lat)\n",
    "    for la in lat:\n",
    "        dic_lat = {'CC': 0, 'MLO': 0}\n",
    "        # print(la)\n",
    "        for infor in group_meta[par][la].index:\n",
    "            dic_lat[infor[-2]] |= infor[-1]\n",
    "        if dic_lat['CC'] == 1 and dic_lat['MLO'] == 1: return True\n",
    "    return False\n",
    "        "
   ]
  },
  {
   "cell_type": "code",
   "execution_count": 11,
   "metadata": {},
   "outputs": [],
   "source": [
    "number_of_cancer11 = 0\n",
    "number_of_cancer01 = 0"
   ]
  },
  {
   "cell_type": "code",
   "execution_count": 12,
   "metadata": {},
   "outputs": [],
   "source": [
    "number_of_cancerL = 0\n",
    "number_of_cancerR = 0"
   ]
  },
  {
   "cell_type": "code",
   "execution_count": 13,
   "metadata": {},
   "outputs": [],
   "source": [
    "for par in potential_cancer.patient_id.unique():\n",
    "    ## Find laterlity\n",
    "\n",
    "    if(check_cancer(par)): number_of_cancer11 +=1\n",
    "    else:  \n",
    "        number_of_cancer01+=1\n",
    "        nb_1 = potential_cancer[potential_cancer.patient_id == par]\n",
    "        nb_1 = nb_1[nb_1.cancer == 1].laterality   \n",
    "        for la in nb_1:\n",
    "            if la == 'R':\n",
    "                number_of_cancerR+=1\n",
    "            else:\n",
    "                number_of_cancerL+=1\n",
    "        "
   ]
  },
  {
   "cell_type": "code",
   "execution_count": 14,
   "metadata": {},
   "outputs": [
    {
     "data": {
      "text/html": [
       "<div>\n",
       "<style scoped>\n",
       "    .dataframe tbody tr th:only-of-type {\n",
       "        vertical-align: middle;\n",
       "    }\n",
       "\n",
       "    .dataframe tbody tr th {\n",
       "        vertical-align: top;\n",
       "    }\n",
       "\n",
       "    .dataframe thead th {\n",
       "        text-align: right;\n",
       "    }\n",
       "</style>\n",
       "<table border=\"1\" class=\"dataframe\">\n",
       "  <thead>\n",
       "    <tr style=\"text-align: right;\">\n",
       "      <th></th>\n",
       "      <th>patient_id</th>\n",
       "      <th>image_id</th>\n",
       "      <th>view</th>\n",
       "      <th>laterality</th>\n",
       "      <th>age</th>\n",
       "      <th>cancer</th>\n",
       "    </tr>\n",
       "  </thead>\n",
       "  <tbody>\n",
       "    <tr>\n",
       "      <th>0</th>\n",
       "      <td>10006</td>\n",
       "      <td>1874946579</td>\n",
       "      <td>CC</td>\n",
       "      <td>R</td>\n",
       "      <td>61.0</td>\n",
       "      <td>0</td>\n",
       "    </tr>\n",
       "    <tr>\n",
       "      <th>1</th>\n",
       "      <td>10006</td>\n",
       "      <td>1864590858</td>\n",
       "      <td>MLO</td>\n",
       "      <td>R</td>\n",
       "      <td>61.0</td>\n",
       "      <td>0</td>\n",
       "    </tr>\n",
       "    <tr>\n",
       "      <th>2</th>\n",
       "      <td>10006</td>\n",
       "      <td>462822612</td>\n",
       "      <td>CC</td>\n",
       "      <td>L</td>\n",
       "      <td>61.0</td>\n",
       "      <td>0</td>\n",
       "    </tr>\n",
       "    <tr>\n",
       "      <th>3</th>\n",
       "      <td>10006</td>\n",
       "      <td>1459541791</td>\n",
       "      <td>MLO</td>\n",
       "      <td>L</td>\n",
       "      <td>61.0</td>\n",
       "      <td>0</td>\n",
       "    </tr>\n",
       "    <tr>\n",
       "      <th>4</th>\n",
       "      <td>10011</td>\n",
       "      <td>541722628</td>\n",
       "      <td>CC</td>\n",
       "      <td>R</td>\n",
       "      <td>55.0</td>\n",
       "      <td>0</td>\n",
       "    </tr>\n",
       "    <tr>\n",
       "      <th>...</th>\n",
       "      <td>...</td>\n",
       "      <td>...</td>\n",
       "      <td>...</td>\n",
       "      <td>...</td>\n",
       "      <td>...</td>\n",
       "      <td>...</td>\n",
       "    </tr>\n",
       "    <tr>\n",
       "      <th>55555</th>\n",
       "      <td>323CDD</td>\n",
       "      <td>P323-L-DM-MLO</td>\n",
       "      <td>MLO</td>\n",
       "      <td>L</td>\n",
       "      <td>45.0</td>\n",
       "      <td>1</td>\n",
       "    </tr>\n",
       "    <tr>\n",
       "      <th>55556</th>\n",
       "      <td>326CDD</td>\n",
       "      <td>P326-R-DM-CC</td>\n",
       "      <td>CC</td>\n",
       "      <td>R</td>\n",
       "      <td>51.0</td>\n",
       "      <td>0</td>\n",
       "    </tr>\n",
       "    <tr>\n",
       "      <th>55557</th>\n",
       "      <td>326CDD</td>\n",
       "      <td>P326-R-DM-MLO</td>\n",
       "      <td>MLO</td>\n",
       "      <td>R</td>\n",
       "      <td>51.0</td>\n",
       "      <td>0</td>\n",
       "    </tr>\n",
       "    <tr>\n",
       "      <th>55558</th>\n",
       "      <td>326CDD</td>\n",
       "      <td>P326-L-DM-CC</td>\n",
       "      <td>CC</td>\n",
       "      <td>L</td>\n",
       "      <td>51.0</td>\n",
       "      <td>1</td>\n",
       "    </tr>\n",
       "    <tr>\n",
       "      <th>55559</th>\n",
       "      <td>326CDD</td>\n",
       "      <td>P326-L-DM-MLO</td>\n",
       "      <td>MLO</td>\n",
       "      <td>L</td>\n",
       "      <td>51.0</td>\n",
       "      <td>1</td>\n",
       "    </tr>\n",
       "  </tbody>\n",
       "</table>\n",
       "<p>55560 rows × 6 columns</p>\n",
       "</div>"
      ],
      "text/plain": [
       "      patient_id       image_id view laterality   age  cancer\n",
       "0          10006     1874946579   CC          R  61.0       0\n",
       "1          10006     1864590858  MLO          R  61.0       0\n",
       "2          10006      462822612   CC          L  61.0       0\n",
       "3          10006     1459541791  MLO          L  61.0       0\n",
       "4          10011      541722628   CC          R  55.0       0\n",
       "...          ...            ...  ...        ...   ...     ...\n",
       "55555     323CDD  P323-L-DM-MLO  MLO          L  45.0       1\n",
       "55556     326CDD   P326-R-DM-CC   CC          R  51.0       0\n",
       "55557     326CDD  P326-R-DM-MLO  MLO          R  51.0       0\n",
       "55558     326CDD   P326-L-DM-CC   CC          L  51.0       1\n",
       "55559     326CDD  P326-L-DM-MLO  MLO          L  51.0       1\n",
       "\n",
       "[55560 rows x 6 columns]"
      ]
     },
     "execution_count": 14,
     "metadata": {},
     "output_type": "execute_result"
    }
   ],
   "source": [
    "meta"
   ]
  },
  {
   "cell_type": "code",
   "execution_count": 15,
   "metadata": {},
   "outputs": [],
   "source": [
    "# Find image fake "
   ]
  },
  {
   "cell_type": "code",
   "execution_count": 16,
   "metadata": {},
   "outputs": [
    {
     "data": {
      "text/html": [
       "<div>\n",
       "<style scoped>\n",
       "    .dataframe tbody tr th:only-of-type {\n",
       "        vertical-align: middle;\n",
       "    }\n",
       "\n",
       "    .dataframe tbody tr th {\n",
       "        vertical-align: top;\n",
       "    }\n",
       "\n",
       "    .dataframe thead th {\n",
       "        text-align: right;\n",
       "    }\n",
       "</style>\n",
       "<table border=\"1\" class=\"dataframe\">\n",
       "  <thead>\n",
       "    <tr style=\"text-align: right;\">\n",
       "      <th></th>\n",
       "      <th>patient_id</th>\n",
       "      <th>image_id</th>\n",
       "      <th>view</th>\n",
       "      <th>laterality</th>\n",
       "      <th>age</th>\n",
       "      <th>cancer</th>\n",
       "    </tr>\n",
       "  </thead>\n",
       "  <tbody>\n",
       "    <tr>\n",
       "      <th>0</th>\n",
       "      <td>10006</td>\n",
       "      <td>1874946579</td>\n",
       "      <td>CC</td>\n",
       "      <td>R</td>\n",
       "      <td>61.0</td>\n",
       "      <td>0</td>\n",
       "    </tr>\n",
       "    <tr>\n",
       "      <th>1</th>\n",
       "      <td>10006</td>\n",
       "      <td>1864590858</td>\n",
       "      <td>MLO</td>\n",
       "      <td>R</td>\n",
       "      <td>61.0</td>\n",
       "      <td>0</td>\n",
       "    </tr>\n",
       "    <tr>\n",
       "      <th>2</th>\n",
       "      <td>10006</td>\n",
       "      <td>462822612</td>\n",
       "      <td>CC</td>\n",
       "      <td>L</td>\n",
       "      <td>61.0</td>\n",
       "      <td>0</td>\n",
       "    </tr>\n",
       "    <tr>\n",
       "      <th>3</th>\n",
       "      <td>10006</td>\n",
       "      <td>1459541791</td>\n",
       "      <td>MLO</td>\n",
       "      <td>L</td>\n",
       "      <td>61.0</td>\n",
       "      <td>0</td>\n",
       "    </tr>\n",
       "    <tr>\n",
       "      <th>4</th>\n",
       "      <td>10011</td>\n",
       "      <td>541722628</td>\n",
       "      <td>CC</td>\n",
       "      <td>R</td>\n",
       "      <td>55.0</td>\n",
       "      <td>0</td>\n",
       "    </tr>\n",
       "    <tr>\n",
       "      <th>...</th>\n",
       "      <td>...</td>\n",
       "      <td>...</td>\n",
       "      <td>...</td>\n",
       "      <td>...</td>\n",
       "      <td>...</td>\n",
       "      <td>...</td>\n",
       "    </tr>\n",
       "    <tr>\n",
       "      <th>55549</th>\n",
       "      <td>322CDD</td>\n",
       "      <td>P322-R-DM-MLO</td>\n",
       "      <td>MLO</td>\n",
       "      <td>R</td>\n",
       "      <td>76.0</td>\n",
       "      <td>0</td>\n",
       "    </tr>\n",
       "    <tr>\n",
       "      <th>55552</th>\n",
       "      <td>323CDD</td>\n",
       "      <td>P323-R-DM-CC</td>\n",
       "      <td>CC</td>\n",
       "      <td>R</td>\n",
       "      <td>45.0</td>\n",
       "      <td>0</td>\n",
       "    </tr>\n",
       "    <tr>\n",
       "      <th>55553</th>\n",
       "      <td>323CDD</td>\n",
       "      <td>P323-R-DM-MLO</td>\n",
       "      <td>MLO</td>\n",
       "      <td>R</td>\n",
       "      <td>45.0</td>\n",
       "      <td>0</td>\n",
       "    </tr>\n",
       "    <tr>\n",
       "      <th>55556</th>\n",
       "      <td>326CDD</td>\n",
       "      <td>P326-R-DM-CC</td>\n",
       "      <td>CC</td>\n",
       "      <td>R</td>\n",
       "      <td>51.0</td>\n",
       "      <td>0</td>\n",
       "    </tr>\n",
       "    <tr>\n",
       "      <th>55557</th>\n",
       "      <td>326CDD</td>\n",
       "      <td>P326-R-DM-MLO</td>\n",
       "      <td>MLO</td>\n",
       "      <td>R</td>\n",
       "      <td>51.0</td>\n",
       "      <td>0</td>\n",
       "    </tr>\n",
       "  </tbody>\n",
       "</table>\n",
       "<p>51214 rows × 6 columns</p>\n",
       "</div>"
      ],
      "text/plain": [
       "      patient_id       image_id view laterality   age  cancer\n",
       "0          10006     1874946579   CC          R  61.0       0\n",
       "1          10006     1864590858  MLO          R  61.0       0\n",
       "2          10006      462822612   CC          L  61.0       0\n",
       "3          10006     1459541791  MLO          L  61.0       0\n",
       "4          10011      541722628   CC          R  55.0       0\n",
       "...          ...            ...  ...        ...   ...     ...\n",
       "55549     322CDD  P322-R-DM-MLO  MLO          R  76.0       0\n",
       "55552     323CDD   P323-R-DM-CC   CC          R  45.0       0\n",
       "55553     323CDD  P323-R-DM-MLO  MLO          R  45.0       0\n",
       "55556     326CDD   P326-R-DM-CC   CC          R  51.0       0\n",
       "55557     326CDD  P326-R-DM-MLO  MLO          R  51.0       0\n",
       "\n",
       "[51214 rows x 6 columns]"
      ]
     },
     "execution_count": 16,
     "metadata": {},
     "output_type": "execute_result"
    }
   ],
   "source": [
    "full_nocancer = meta[meta.cancer == 0]\n",
    "full_nocancer"
   ]
  },
  {
   "cell_type": "code",
   "execution_count": 17,
   "metadata": {},
   "outputs": [],
   "source": [
    "cnt_fake = 0"
   ]
  },
  {
   "cell_type": "code",
   "execution_count": 18,
   "metadata": {},
   "outputs": [],
   "source": [
    "# Kiem  tra CC MLO "
   ]
  },
  {
   "cell_type": "code",
   "execution_count": 19,
   "metadata": {},
   "outputs": [],
   "source": [
    "img_del = []"
   ]
  },
  {
   "cell_type": "code",
   "execution_count": 20,
   "metadata": {},
   "outputs": [],
   "source": [
    "import os"
   ]
  },
  {
   "cell_type": "code",
   "execution_count": 21,
   "metadata": {},
   "outputs": [],
   "source": [
    "## DEL  image fake\n",
    "views = {'CC': 'MLO',\n",
    "         'MLO':'CC'\n",
    "         }\n",
    "for id_img in meta[meta.cancer == 1].image_id:\n",
    "    tmp = full_nocancer[full_nocancer.image_id == id_img]\n",
    "    if(len(tmp) ==1):\n",
    "        # print(tmp.view.iloc[0])\n",
    "        # # path1 = f'D:\\OneDrive - Industrial University of HoChiMinh City\\WORKBASE\\Project-rsna-breast-cancer-detection\\Data_main\\Dataset_LAT\\{tmp.patient_id.iloc[0]}\\{tmp.laterality.iloc[0]}\\{tmp.view.iloc[0]}\\{tmp.view.iloc[0]}_{tmp.laterality.iloc[0]}_{id_img}.png'\n",
    "        # # path2 = f'D:\\OneDrive - Industrial University of HoChiMinh City\\WORKBASE\\Project-rsna-breast-cancer-detection\\Data_main\\Dataset_LAT\\{tmp.patient_id.iloc[0]}\\{tmp.laterality.iloc[0]}\\{views[tmp.view.iloc[0]]}\\{views[tmp.view.iloc[0]]}_{tmp.laterality.iloc[0]}_{id_img}.png'\n",
    "        # # print(path1)\n",
    "        # # print(path2)\n",
    "        # # print(path1)\n",
    "        # # print(id_img)\n",
    "        # # if len(glob.glob('D:\\OneDrive - Industrial University of HoChiMinh City\\WORKBASE\\Project-rsna-breast-cancer-detection\\Data_main\\Dataset_LAT\\{tmp.patient_id.iloc[0]}\\{tmp.laterality.iloc[0]}\\{views[tmp.view.iloc[0]]}\\*.png')) ==0 or len(glob.glob('D:\\OneDrive - Industrial University of HoChiMinh City\\WORKBASE\\Project-rsna-breast-cancer-detection\\Data_main\\Dataset_LAT\\{tmp.patient_id.iloc[0]}\\{tmp.laterality.iloc[0]}\\{tmp.view.iloc[0]}\\{tmp.view.iloc[0]}_{tmp.laterality.iloc[0]}_{id_img}.png'))\n",
    "        # # os.remove(path1)\n",
    "        # # os.remove(path2)\n",
    "        \n",
    "        cnt_fake+=1\n",
    "        img_del.append(id_img)\n",
    "        # break"
   ]
  },
  {
   "cell_type": "code",
   "execution_count": 22,
   "metadata": {},
   "outputs": [
    {
     "data": {
      "text/plain": [
       "238"
      ]
     },
     "execution_count": 22,
     "metadata": {},
     "output_type": "execute_result"
    }
   ],
   "source": [
    "len(img_del)"
   ]
  },
  {
   "cell_type": "code",
   "execution_count": 23,
   "metadata": {},
   "outputs": [
    {
     "data": {
      "text/plain": [
       "55560"
      ]
     },
     "execution_count": 23,
     "metadata": {},
     "output_type": "execute_result"
    }
   ],
   "source": [
    "len(meta)"
   ]
  },
  {
   "cell_type": "code",
   "execution_count": 24,
   "metadata": {},
   "outputs": [],
   "source": [
    "meta.drop(meta[meta.image_id.isin(img_del)].index, inplace=True)"
   ]
  },
  {
   "cell_type": "code",
   "execution_count": 25,
   "metadata": {},
   "outputs": [
    {
     "data": {
      "text/plain": [
       "55084"
      ]
     },
     "execution_count": 25,
     "metadata": {},
     "output_type": "execute_result"
    }
   ],
   "source": [
    "len(meta)"
   ]
  },
  {
   "cell_type": "code",
   "execution_count": 27,
   "metadata": {},
   "outputs": [
    {
     "data": {
      "text/plain": [
       "55084"
      ]
     },
     "execution_count": 27,
     "metadata": {},
     "output_type": "execute_result"
    }
   ],
   "source": [
    "55560 - 238*2"
   ]
  },
  {
   "cell_type": "code",
   "execution_count": 29,
   "metadata": {},
   "outputs": [
    {
     "data": {
      "text/html": [
       "<div>\n",
       "<style scoped>\n",
       "    .dataframe tbody tr th:only-of-type {\n",
       "        vertical-align: middle;\n",
       "    }\n",
       "\n",
       "    .dataframe tbody tr th {\n",
       "        vertical-align: top;\n",
       "    }\n",
       "\n",
       "    .dataframe thead th {\n",
       "        text-align: right;\n",
       "    }\n",
       "</style>\n",
       "<table border=\"1\" class=\"dataframe\">\n",
       "  <thead>\n",
       "    <tr style=\"text-align: right;\">\n",
       "      <th></th>\n",
       "      <th>number_of_paient11</th>\n",
       "      <th>number_of_paient01</th>\n",
       "      <th>number_of_cancer_pair_img_L</th>\n",
       "      <th>number_of_cancer_pair_img_R</th>\n",
       "      <th>number_of_img_fake</th>\n",
       "      <th>number_of_cancer</th>\n",
       "    </tr>\n",
       "  </thead>\n",
       "  <tbody>\n",
       "    <tr>\n",
       "      <th>1</th>\n",
       "      <td>2053</td>\n",
       "      <td>35</td>\n",
       "      <td>21</td>\n",
       "      <td>14</td>\n",
       "      <td>238</td>\n",
       "      <td>4108</td>\n",
       "    </tr>\n",
       "  </tbody>\n",
       "</table>\n",
       "</div>"
      ],
      "text/plain": [
       "   number_of_paient11  number_of_paient01  number_of_cancer_pair_img_L  \\\n",
       "1                2053                  35                           21   \n",
       "\n",
       "   number_of_cancer_pair_img_R  number_of_img_fake  number_of_cancer  \n",
       "1                           14                 238              4108  "
      ]
     },
     "execution_count": 29,
     "metadata": {},
     "output_type": "execute_result"
    }
   ],
   "source": [
    "data = pd.DataFrame({\n",
    "    \n",
    "    'number_of_paient11': number_of_cancer11, \n",
    "    'number_of_paient01': number_of_cancer01,\n",
    "    'number_of_cancer_pair_img_L': number_of_cancerL,\n",
    "    'number_of_cancer_pair_img_R': number_of_cancerR,\n",
    "    'number_of_img_fake': cnt_fake,\n",
    "    'number_of_cancer': 4108\n",
    "    }, index=[1])\n",
    "data"
   ]
  },
  {
   "cell_type": "code",
   "execution_count": 28,
   "metadata": {},
   "outputs": [
    {
     "data": {
      "text/plain": [
       "4108"
      ]
     },
     "execution_count": 28,
     "metadata": {},
     "output_type": "execute_result"
    }
   ],
   "source": [
    "# Số lượng cancer còn lại\n",
    "len(meta[meta.cancer == 1])"
   ]
  },
  {
   "cell_type": "code",
   "execution_count": 30,
   "metadata": {},
   "outputs": [],
   "source": [
    "meta.to_csv(r'D:\\OneDrive - Industrial University of HoChiMinh City\\WORKBASE\\Project-rsna-breast-cancer-detection\\Data_main\\CSV_MAIN\\meta_data.csv')"
   ]
  },
  {
   "cell_type": "code",
   "execution_count": null,
   "metadata": {},
   "outputs": [],
   "source": []
  },
  {
   "attachments": {},
   "cell_type": "markdown",
   "metadata": {},
   "source": [
    "# Convert format new"
   ]
  },
  {
   "cell_type": "code",
   "execution_count": 31,
   "metadata": {},
   "outputs": [],
   "source": [
    "# !pip install -qU python-gdcm pydicom pylibjpeg\n",
    "# !pip install -U pylibjpeg-libjpeg -v\n",
    "# !pip install pylibjpeg pylibjpeg-libjpeg pylibjpeg-openjpeg\n",
    "# !pip install pydicom\n",
    "\n",
    "# import include nesscessaryz\n",
    "import cv2\n",
    "from PIL import Image, ImageOps\n",
    "import argparse\n",
    "import os\n",
    "import glob\n",
    "import matplotlib.pyplot as plt\n",
    "import multiprocessing as mp\n",
    "from joblib import Parallel, delayed\n",
    "import pydicom\n",
    "import time\n",
    "import numpy as np\n",
    "import torch\n",
    "import random\n",
    "import pandas as pd\n",
    "from pydicom.pixel_data_handlers import apply_windowing\n",
    "import imageio\n",
    "import time\n",
    "import shutil"
   ]
  },
  {
   "cell_type": "code",
   "execution_count": 32,
   "metadata": {},
   "outputs": [],
   "source": [
    "from remove_image import *"
   ]
  },
  {
   "cell_type": "code",
   "execution_count": 33,
   "metadata": {},
   "outputs": [
    {
     "data": {
      "text/plain": [
       "'R'"
      ]
     },
     "execution_count": 33,
     "metadata": {},
     "output_type": "execute_result"
    }
   ],
   "source": [
    "meta.laterality[0]"
   ]
  },
  {
   "cell_type": "code",
   "execution_count": 34,
   "metadata": {},
   "outputs": [],
   "source": [
    "with mp.Pool(12) as p:\n",
    "    p.map(process_move, list(range(len(meta))))"
   ]
  },
  {
   "cell_type": "code",
   "execution_count": 35,
   "metadata": {},
   "outputs": [],
   "source": [
    "# Thống kê số lượng"
   ]
  },
  {
   "cell_type": "code",
   "execution_count": 37,
   "metadata": {},
   "outputs": [],
   "source": [
    "from Evaluate import *"
   ]
  },
  {
   "cell_type": "code",
   "execution_count": 38,
   "metadata": {},
   "outputs": [],
   "source": [
    "eval = Evaluate(meta, 'Meta')"
   ]
  },
  {
   "cell_type": "code",
   "execution_count": 39,
   "metadata": {},
   "outputs": [
    {
     "name": "stdout",
     "output_type": "stream",
     "text": [
      "Dataset Meta \n",
      " Số lượng image: 55084 \n",
      " Số luong patient: 13476\n",
      "So luong CC và MLO\n",
      "CC     27542\n",
      "MLO    27542\n",
      "Name: view, dtype: int64\n",
      "So luong L và R\n",
      "view  laterality\n",
      "CC    L             13817\n",
      "      R             13725\n",
      "MLO   L             13817\n",
      "      R             13725\n",
      "dtype: int64\n",
      "So luong img cancer: 4108\n"
     ]
    }
   ],
   "source": [
    "eval.show()"
   ]
  },
  {
   "cell_type": "code",
   "execution_count": 40,
   "metadata": {},
   "outputs": [],
   "source": [
    "from sklearn.model_selection import train_test_split\n"
   ]
  },
  {
   "cell_type": "code",
   "execution_count": 46,
   "metadata": {},
   "outputs": [],
   "source": [
    "no_cancer_data = meta[meta.cancer == 0]\n",
    "cancer_data = meta[meta.cancer == 1]\n"
   ]
  },
  {
   "cell_type": "code",
   "execution_count": 47,
   "metadata": {},
   "outputs": [],
   "source": [
    "cancer_train, cancer_test_val = train_test_split(cancer_data, test_size=0.3, random_state=42)\n",
    "cancer_test, cancer_val = train_test_split(cancer_test_val, test_size=0.1, random_state=42)\n",
    "no_cancer_train, no_cancer_test_val = train_test_split(no_cancer_data, test_size=0.3, random_state=42)\n",
    "no_cancer_test, no_cancer_val = train_test_split(no_cancer_test_val,  test_size=0.1, random_state=42)"
   ]
  },
  {
   "cell_type": "code",
   "execution_count": 48,
   "metadata": {},
   "outputs": [],
   "source": [
    "train = pd.concat([cancer_train, no_cancer_train], axis=0).reset_index().drop('index', axis=1)\n",
    "test = pd.concat([cancer_test, no_cancer_test], axis=0).reset_index().drop('index', axis=1)\n",
    "val = pd.concat([cancer_val, no_cancer_val], axis=0).reset_index().drop('index', axis=1)"
   ]
  },
  {
   "cell_type": "code",
   "execution_count": 51,
   "metadata": {},
   "outputs": [
    {
     "data": {
      "text/plain": [
       "(38558, 14872, 1654)"
      ]
     },
     "execution_count": 51,
     "metadata": {},
     "output_type": "execute_result"
    }
   ],
   "source": [
    "len(train),len(test), len(val)"
   ]
  },
  {
   "cell_type": "code",
   "execution_count": 53,
   "metadata": {},
   "outputs": [],
   "source": [
    "train.to_csv(r'D:\\OneDrive - Industrial University of HoChiMinh City\\WORKBASE\\Project-rsna-breast-cancer-detection\\Data_main\\CSV_MAIN\\train.csv')\n"
   ]
  },
  {
   "cell_type": "code",
   "execution_count": 54,
   "metadata": {},
   "outputs": [],
   "source": [
    "test.to_csv(r'D:\\OneDrive - Industrial University of HoChiMinh City\\WORKBASE\\Project-rsna-breast-cancer-detection\\Data_main\\CSV_MAIN\\test.csv')\n"
   ]
  },
  {
   "cell_type": "code",
   "execution_count": null,
   "metadata": {},
   "outputs": [],
   "source": [
    "val.to_csv(r'D:\\OneDrive - Industrial University of HoChiMinh City\\WORKBASE\\Project-rsna-breast-cancer-detection\\Data_main\\CSV_MAIN\\val.csv')\n"
   ]
  },
  {
   "cell_type": "code",
   "execution_count": null,
   "metadata": {},
   "outputs": [],
   "source": []
  }
 ],
 "metadata": {
  "kernelspec": {
   "display_name": "Python 3",
   "language": "python",
   "name": "python3"
  },
  "language_info": {
   "codemirror_mode": {
    "name": "ipython",
    "version": 3
   },
   "file_extension": ".py",
   "mimetype": "text/x-python",
   "name": "python",
   "nbconvert_exporter": "python",
   "pygments_lexer": "ipython3",
   "version": "3.10.4"
  },
  "orig_nbformat": 4
 },
 "nbformat": 4,
 "nbformat_minor": 2
}
