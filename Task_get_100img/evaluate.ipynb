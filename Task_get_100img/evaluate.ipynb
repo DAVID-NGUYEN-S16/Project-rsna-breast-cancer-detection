{
 "cells": [
  {
   "cell_type": "code",
   "execution_count": 1,
   "metadata": {},
   "outputs": [],
   "source": [
    "# !pip install -qU python-gdcm pydicom pylibjpeg\n",
    "# !pip install -U pylibjpeg-libjpeg -v\n",
    "# !pip install pylibjpeg pylibjpeg-libjpeg pylibjpeg-openjpeg\n",
    "# !pip install pydicom\n",
    "\n",
    "# import include nesscessaryz\n",
    "import cv2\n",
    "from PIL import Image, ImageOps\n",
    "import argparse\n",
    "import os\n",
    "import glob\n",
    "import matplotlib.pyplot as plt\n",
    "import multiprocessing as mp\n",
    "from joblib import Parallel, delayed\n",
    "import pydicom\n",
    "import time\n",
    "import numpy as np\n",
    "import torch\n",
    "import random\n",
    "import pandas as pd\n",
    "from pydicom.pixel_data_handlers import apply_windowing\n",
    "import imageio\n",
    "import time\n",
    "import shutil"
   ]
  },
  {
   "cell_type": "code",
   "execution_count": 3,
   "metadata": {},
   "outputs": [],
   "source": [
    "## Đánh giá bộ RSNA"
   ]
  },
  {
   "cell_type": "code",
   "execution_count": 2,
   "metadata": {},
   "outputs": [],
   "source": [
    "rsna = pd.read_csv('E:\\WORKBASE\\Project-rsna-breast-cancer-detection\\DATA_STANDARD\\RSNA.csv')\n",
    "ddsm = pd.read_csv('E:\\WORKBASE\\Project-rsna-breast-cancer-detection\\DATA_STANDARD\\DDSM.csv')\n",
    "cmmd = pd.read_csv('E:\\WORKBASE\\Project-rsna-breast-cancer-detection\\DATA_STANDARD\\CMMD.csv')\n",
    "cdd = pd.read_csv('E:\\WORKBASE\\Project-rsna-breast-cancer-detection\\DATA_STANDARD\\cdd_cesm.csv')"
   ]
  },
  {
   "cell_type": "code",
   "execution_count": 3,
   "metadata": {},
   "outputs": [],
   "source": [
    "from Evaluate import *"
   ]
  },
  {
   "cell_type": "code",
   "execution_count": 5,
   "metadata": {},
   "outputs": [],
   "source": [
    "evrsna = Evaluate(rsna, 'RSNA')\n",
    "evddsm = Evaluate(ddsm, 'ddsm')\n",
    "evcdd = Evaluate(cdd, 'CDD-CESM')\n",
    "evcmmd = Evaluate(cmmd, 'CMMD')\n"
   ]
  },
  {
   "cell_type": "code",
   "execution_count": 6,
   "metadata": {},
   "outputs": [
    {
     "name": "stdout",
     "output_type": "stream",
     "text": [
      "Dataset RSNA \n",
      " Số lượng image: 49968 \n",
      " Số luong patient: 11913\n",
      "So luong CC và MLO\n",
      "view\n",
      "CC     24984\n",
      "MLO    24984\n",
      "Name: count, dtype: int64\n",
      "So luong L và R\n",
      "view  laterality\n",
      "CC    L             12478\n",
      "      R             12506\n",
      "MLO   L             12478\n",
      "      R             12506\n",
      "dtype: int64\n",
      "So luong img cancer: 1036\n"
     ]
    }
   ],
   "source": [
    "evrsna.show()"
   ]
  },
  {
   "cell_type": "code",
   "execution_count": 7,
   "metadata": {},
   "outputs": [
    {
     "name": "stdout",
     "output_type": "stream",
     "text": [
      "Dataset ddsm \n",
      " Số lượng image: 5124 \n",
      " Số luong patient: 1137\n",
      "So luong CC và MLO\n",
      "view\n",
      "CC     2562\n",
      "MLO    2562\n",
      "Name: count, dtype: int64\n",
      "So luong L và R\n",
      "view  laterality\n",
      "CC    L             1281\n",
      "      R             1281\n",
      "MLO   L             1281\n",
      "      R             1281\n",
      "dtype: int64\n",
      "So luong img cancer: 2716\n"
     ]
    }
   ],
   "source": [
    "evddsm.show()"
   ]
  },
  {
   "cell_type": "code",
   "execution_count": 8,
   "metadata": {},
   "outputs": [
    {
     "name": "stdout",
     "output_type": "stream",
     "text": [
      "Dataset CMMD \n",
      " Số lượng image: 3738 \n",
      " Số luong patient: 1772\n",
      "So luong CC và MLO\n",
      "view\n",
      "CC     1869\n",
      "MLO    1869\n",
      "Name: count, dtype: int64\n",
      "So luong L và R\n",
      "view  laterality\n",
      "CC    L             987\n",
      "      R             882\n",
      "MLO   L             987\n",
      "      R             882\n",
      "dtype: int64\n",
      "So luong img cancer: 2632\n"
     ]
    }
   ],
   "source": [
    "evcmmd.show()"
   ]
  },
  {
   "cell_type": "code",
   "execution_count": 9,
   "metadata": {},
   "outputs": [
    {
     "name": "stdout",
     "output_type": "stream",
     "text": [
      "Dataset CDD-CESM \n",
      " Số lượng image: 671 \n",
      " Số luong patient: 267\n",
      "So luong CC và MLO\n",
      "view\n",
      "MLO    336\n",
      "CC     335\n",
      "Name: count, dtype: int64\n",
      "So luong L và R\n",
      "view  laterality\n",
      "CC    L             175\n",
      "      R             160\n",
      "MLO   L             173\n",
      "      R             163\n",
      "dtype: int64\n",
      "So luong img cancer: 331\n"
     ]
    }
   ],
   "source": [
    "evcdd.show()"
   ]
  },
  {
   "cell_type": "code",
   "execution_count": 10,
   "metadata": {},
   "outputs": [
    {
     "data": {
      "text/plain": [
       "15089"
      ]
     },
     "execution_count": 10,
     "metadata": {},
     "output_type": "execute_result"
    }
   ],
   "source": [
    "len(rsna.patient_id.unique()) + len(ddsm.patient_id.unique()) + len(cmmd.patient_id.unique()) + len(cdd.patient_id.unique())"
   ]
  },
  {
   "cell_type": "markdown",
   "metadata": {},
   "source": []
  },
  {
   "cell_type": "code",
   "execution_count": 13,
   "metadata": {},
   "outputs": [
    {
     "data": {
      "text/plain": [
       "452"
      ]
     },
     "execution_count": 13,
     "metadata": {},
     "output_type": "execute_result"
    }
   ],
   "source": [
    "len(glob.glob('D:\\OneDrive - Industrial University of HoChiMinh City\\WORKBASE\\Project-rsna-breast-cancer-detection\\Meta_Image_origin\\Vindr\\*.png'))"
   ]
  },
  {
   "cell_type": "code",
   "execution_count": 14,
   "metadata": {},
   "outputs": [
    {
     "data": {
      "text/plain": [
       "49968"
      ]
     },
     "execution_count": 14,
     "metadata": {},
     "output_type": "execute_result"
    }
   ],
   "source": [
    "len(glob.glob('D:\\OneDrive - Industrial University of HoChiMinh City\\WORKBASE\\Project-rsna-breast-cancer-detection\\Meta_Image_origin\\RSNA\\*.png'))"
   ]
  },
  {
   "cell_type": "code",
   "execution_count": 15,
   "metadata": {},
   "outputs": [
    {
     "data": {
      "text/plain": [
       "2692"
      ]
     },
     "execution_count": 15,
     "metadata": {},
     "output_type": "execute_result"
    }
   ],
   "source": [
    "len(glob.glob('D:\\OneDrive - Industrial University of HoChiMinh City\\WORKBASE\\Project-rsna-breast-cancer-detection\\Meta_Image_origin\\CMMD\\*.png'))"
   ]
  },
  {
   "cell_type": "code",
   "execution_count": 16,
   "metadata": {},
   "outputs": [
    {
     "data": {
      "text/plain": [
       "638"
      ]
     },
     "execution_count": 16,
     "metadata": {},
     "output_type": "execute_result"
    }
   ],
   "source": [
    "len(glob.glob('D:\\OneDrive - Industrial University of HoChiMinh City\\WORKBASE\\Project-rsna-breast-cancer-detection\\Meta_Image_origin\\CDD-CESM\\*.png'))"
   ]
  },
  {
   "cell_type": "code",
   "execution_count": null,
   "metadata": {},
   "outputs": [],
   "source": []
  }
 ],
 "metadata": {
  "kernelspec": {
   "display_name": "Python 3",
   "language": "python",
   "name": "python3"
  },
  "language_info": {
   "codemirror_mode": {
    "name": "ipython",
    "version": 3
   },
   "file_extension": ".py",
   "mimetype": "text/x-python",
   "name": "python",
   "nbconvert_exporter": "python",
   "pygments_lexer": "ipython3",
   "version": "3.10.4"
  },
  "orig_nbformat": 4
 },
 "nbformat": 4,
 "nbformat_minor": 2
}
