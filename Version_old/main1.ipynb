{
 "cells": [
  {
   "cell_type": "code",
   "execution_count": 1,
   "metadata": {},
   "outputs": [],
   "source": [
    "import cv2\n",
    "from PIL import Image, ImageOps\n",
    "import argparse\n",
    "import os\n",
    "import glob\n",
    "import matplotlib.pyplot as plt\n",
    "import multiprocessing as mp\n",
    "from joblib import Parallel, delayed\n",
    "import pydicom\n",
    "import time\n",
    "import numpy as np\n",
    "import torch\n",
    "import random\n",
    "import pandas as pd\n",
    "from pydicom.pixel_data_handlers import apply_windowing\n",
    "import imageio\n",
    "import time\n",
    "import shutil"
   ]
  },
  {
   "attachments": {},
   "cell_type": "markdown",
   "metadata": {},
   "source": [
    "## Creative file meta"
   ]
  },
  {
   "cell_type": "code",
   "execution_count": 2,
   "metadata": {},
   "outputs": [],
   "source": [
    "rsna = pd.read_csv(r'D:\\OneDrive - Industrial University of HoChiMinh City\\WORKBASE\\Project-rsna-breast-cancer-detection\\DATA_STANDARD\\RSNA.csv')\n",
    "ddsm = pd.read_csv(r'D:\\OneDrive - Industrial University of HoChiMinh City\\WORKBASE\\Project-rsna-breast-cancer-detection\\DATA_STANDARD\\DDSM.csv')\n",
    "cmmd = pd.read_csv(r'D:\\OneDrive - Industrial University of HoChiMinh City\\WORKBASE\\Project-rsna-breast-cancer-detection\\DATA_STANDARD\\CMMD.csv')\n",
    "cdd = pd.read_csv(r'D:\\OneDrive - Industrial University of HoChiMinh City\\WORKBASE\\Project-rsna-breast-cancer-detection\\DATA_STANDARD\\cdd_cesm.csv')\n"
   ]
  },
  {
   "cell_type": "code",
   "execution_count": 3,
   "metadata": {},
   "outputs": [],
   "source": [
    "cdd = cdd[[\"patient_id\",\t\"image_id\"\t,\"view\",\t\"laterality\"\t,\t\"cancer\"]]\n",
    "cmmd = cmmd[[\"patient_id\",\t\"image_id\"\t,\"view\",\t\"laterality\"\t,\t\"cancer\"]]\n",
    "rsna = rsna[[\"patient_id\",\t\"image_id\"\t,\"view\",\t\"laterality\"\t,\t\"cancer\"]]\n",
    "ddsm = ddsm[[\"patient_id\",\t\"image_id\"\t,\"view\",\t\"laterality\"\t,\t\"cancer\"]]"
   ]
  },
  {
   "cell_type": "code",
   "execution_count": 4,
   "metadata": {},
   "outputs": [
    {
     "data": {
      "text/html": [
       "<div>\n",
       "<style scoped>\n",
       "    .dataframe tbody tr th:only-of-type {\n",
       "        vertical-align: middle;\n",
       "    }\n",
       "\n",
       "    .dataframe tbody tr th {\n",
       "        vertical-align: top;\n",
       "    }\n",
       "\n",
       "    .dataframe thead th {\n",
       "        text-align: right;\n",
       "    }\n",
       "</style>\n",
       "<table border=\"1\" class=\"dataframe\">\n",
       "  <thead>\n",
       "    <tr style=\"text-align: right;\">\n",
       "      <th></th>\n",
       "      <th>Unnamed: 0</th>\n",
       "      <th>patient_id</th>\n",
       "      <th>image_id</th>\n",
       "      <th>view</th>\n",
       "      <th>laterality</th>\n",
       "      <th>cancer</th>\n",
       "    </tr>\n",
       "  </thead>\n",
       "  <tbody>\n",
       "    <tr>\n",
       "      <th>0</th>\n",
       "      <td>0</td>\n",
       "      <td>10006</td>\n",
       "      <td>1874946579</td>\n",
       "      <td>CC</td>\n",
       "      <td>R</td>\n",
       "      <td>0</td>\n",
       "    </tr>\n",
       "    <tr>\n",
       "      <th>1</th>\n",
       "      <td>1</td>\n",
       "      <td>10006</td>\n",
       "      <td>1864590858</td>\n",
       "      <td>MLO</td>\n",
       "      <td>R</td>\n",
       "      <td>0</td>\n",
       "    </tr>\n",
       "    <tr>\n",
       "      <th>2</th>\n",
       "      <td>2</td>\n",
       "      <td>10006</td>\n",
       "      <td>462822612</td>\n",
       "      <td>CC</td>\n",
       "      <td>L</td>\n",
       "      <td>0</td>\n",
       "    </tr>\n",
       "    <tr>\n",
       "      <th>3</th>\n",
       "      <td>3</td>\n",
       "      <td>10006</td>\n",
       "      <td>1459541791</td>\n",
       "      <td>MLO</td>\n",
       "      <td>L</td>\n",
       "      <td>0</td>\n",
       "    </tr>\n",
       "    <tr>\n",
       "      <th>4</th>\n",
       "      <td>4</td>\n",
       "      <td>10011</td>\n",
       "      <td>541722628</td>\n",
       "      <td>CC</td>\n",
       "      <td>R</td>\n",
       "      <td>0</td>\n",
       "    </tr>\n",
       "    <tr>\n",
       "      <th>...</th>\n",
       "      <td>...</td>\n",
       "      <td>...</td>\n",
       "      <td>...</td>\n",
       "      <td>...</td>\n",
       "      <td>...</td>\n",
       "      <td>...</td>\n",
       "    </tr>\n",
       "    <tr>\n",
       "      <th>53745</th>\n",
       "      <td>53745</td>\n",
       "      <td>D2-0747</td>\n",
       "      <td>D2-0747-1-3</td>\n",
       "      <td>MLO</td>\n",
       "      <td>R</td>\n",
       "      <td>1</td>\n",
       "    </tr>\n",
       "    <tr>\n",
       "      <th>53746</th>\n",
       "      <td>53746</td>\n",
       "      <td>D2-0748</td>\n",
       "      <td>D2-0748-1-4</td>\n",
       "      <td>CC</td>\n",
       "      <td>R</td>\n",
       "      <td>1</td>\n",
       "    </tr>\n",
       "    <tr>\n",
       "      <th>53747</th>\n",
       "      <td>53747</td>\n",
       "      <td>D2-0748</td>\n",
       "      <td>D2-0748-1-3</td>\n",
       "      <td>MLO</td>\n",
       "      <td>R</td>\n",
       "      <td>1</td>\n",
       "    </tr>\n",
       "    <tr>\n",
       "      <th>53748</th>\n",
       "      <td>53748</td>\n",
       "      <td>D2-0749</td>\n",
       "      <td>D2-0749-1-2</td>\n",
       "      <td>CC</td>\n",
       "      <td>L</td>\n",
       "      <td>1</td>\n",
       "    </tr>\n",
       "    <tr>\n",
       "      <th>53749</th>\n",
       "      <td>53749</td>\n",
       "      <td>D2-0749</td>\n",
       "      <td>D2-0749-1-1</td>\n",
       "      <td>MLO</td>\n",
       "      <td>L</td>\n",
       "      <td>1</td>\n",
       "    </tr>\n",
       "  </tbody>\n",
       "</table>\n",
       "<p>53750 rows × 6 columns</p>\n",
       "</div>"
      ],
      "text/plain": [
       "       Unnamed: 0 patient_id     image_id view laterality  cancer\n",
       "0               0      10006   1874946579   CC          R       0\n",
       "1               1      10006   1864590858  MLO          R       0\n",
       "2               2      10006    462822612   CC          L       0\n",
       "3               3      10006   1459541791  MLO          L       0\n",
       "4               4      10011    541722628   CC          R       0\n",
       "...           ...        ...          ...  ...        ...     ...\n",
       "53745       53745    D2-0747  D2-0747-1-3  MLO          R       1\n",
       "53746       53746    D2-0748  D2-0748-1-4   CC          R       1\n",
       "53747       53747    D2-0748  D2-0748-1-3  MLO          R       1\n",
       "53748       53748    D2-0749  D2-0749-1-2   CC          L       1\n",
       "53749       53749    D2-0749  D2-0749-1-1  MLO          L       1\n",
       "\n",
       "[53750 rows x 6 columns]"
      ]
     },
     "execution_count": 4,
     "metadata": {},
     "output_type": "execute_result"
    }
   ],
   "source": [
    "meta = pd.read_csv('D:\\OneDrive - Industrial University of HoChiMinh City\\WORKBASE\\Project-rsna-breast-cancer-detection\\Data_main\\CSV_MAIN\\meta_data.csv')\n",
    "meta"
   ]
  },
  {
   "cell_type": "code",
   "execution_count": 5,
   "metadata": {},
   "outputs": [],
   "source": [
    "from Setting_data import *"
   ]
  },
  {
   "cell_type": "code",
   "execution_count": 6,
   "metadata": {},
   "outputs": [
    {
     "name": "stderr",
     "output_type": "stream",
     "text": [
      "d:\\OneDrive - Industrial University of HoChiMinh City\\WORKBASE\\Project-rsna-breast-cancer-detection\\Notebook_code\\Cau_truc_data\\Setting_data.py:26: SettingWithCopyWarning: \n",
      "A value is trying to be set on a copy of a slice from a DataFrame\n",
      "\n",
      "See the caveats in the documentation: https://pandas.pydata.org/pandas-docs/stable/user_guide/indexing.html#returning-a-view-versus-a-copy\n",
      "  self.data.id_img_zip[i] = f'{self.data.cancer[i]}_{self.data.image_id[i]}'\n"
     ]
    }
   ],
   "source": [
    "sd = Setting_data(meta)\n",
    "sd.multi_process(list(meta.patient_id.unique()))"
   ]
  },
  {
   "cell_type": "code",
   "execution_count": 7,
   "metadata": {},
   "outputs": [
    {
     "data": {
      "text/html": [
       "<div>\n",
       "<style scoped>\n",
       "    .dataframe tbody tr th:only-of-type {\n",
       "        vertical-align: middle;\n",
       "    }\n",
       "\n",
       "    .dataframe tbody tr th {\n",
       "        vertical-align: top;\n",
       "    }\n",
       "\n",
       "    .dataframe thead th {\n",
       "        text-align: right;\n",
       "    }\n",
       "</style>\n",
       "<table border=\"1\" class=\"dataframe\">\n",
       "  <thead>\n",
       "    <tr style=\"text-align: right;\">\n",
       "      <th></th>\n",
       "      <th>patient_id</th>\n",
       "      <th>image_id</th>\n",
       "      <th>view</th>\n",
       "      <th>laterality</th>\n",
       "      <th>cancer</th>\n",
       "    </tr>\n",
       "  </thead>\n",
       "  <tbody>\n",
       "    <tr>\n",
       "      <th>0</th>\n",
       "      <td>10006</td>\n",
       "      <td>1874946579</td>\n",
       "      <td>CC</td>\n",
       "      <td>R</td>\n",
       "      <td>0</td>\n",
       "    </tr>\n",
       "    <tr>\n",
       "      <th>1</th>\n",
       "      <td>10006</td>\n",
       "      <td>1864590858</td>\n",
       "      <td>MLO</td>\n",
       "      <td>R</td>\n",
       "      <td>0</td>\n",
       "    </tr>\n",
       "    <tr>\n",
       "      <th>2</th>\n",
       "      <td>10006</td>\n",
       "      <td>462822612</td>\n",
       "      <td>CC</td>\n",
       "      <td>L</td>\n",
       "      <td>0</td>\n",
       "    </tr>\n",
       "    <tr>\n",
       "      <th>3</th>\n",
       "      <td>10006</td>\n",
       "      <td>1459541791</td>\n",
       "      <td>MLO</td>\n",
       "      <td>L</td>\n",
       "      <td>0</td>\n",
       "    </tr>\n",
       "    <tr>\n",
       "      <th>4</th>\n",
       "      <td>10011</td>\n",
       "      <td>541722628</td>\n",
       "      <td>CC</td>\n",
       "      <td>R</td>\n",
       "      <td>0</td>\n",
       "    </tr>\n",
       "    <tr>\n",
       "      <th>...</th>\n",
       "      <td>...</td>\n",
       "      <td>...</td>\n",
       "      <td>...</td>\n",
       "      <td>...</td>\n",
       "      <td>...</td>\n",
       "    </tr>\n",
       "    <tr>\n",
       "      <th>53745</th>\n",
       "      <td>D2-0747</td>\n",
       "      <td>D2-0747-1-3</td>\n",
       "      <td>MLO</td>\n",
       "      <td>R</td>\n",
       "      <td>1</td>\n",
       "    </tr>\n",
       "    <tr>\n",
       "      <th>53746</th>\n",
       "      <td>D2-0748</td>\n",
       "      <td>D2-0748-1-4</td>\n",
       "      <td>CC</td>\n",
       "      <td>R</td>\n",
       "      <td>1</td>\n",
       "    </tr>\n",
       "    <tr>\n",
       "      <th>53747</th>\n",
       "      <td>D2-0748</td>\n",
       "      <td>D2-0748-1-3</td>\n",
       "      <td>MLO</td>\n",
       "      <td>R</td>\n",
       "      <td>1</td>\n",
       "    </tr>\n",
       "    <tr>\n",
       "      <th>53748</th>\n",
       "      <td>D2-0749</td>\n",
       "      <td>D2-0749-1-2</td>\n",
       "      <td>CC</td>\n",
       "      <td>L</td>\n",
       "      <td>1</td>\n",
       "    </tr>\n",
       "    <tr>\n",
       "      <th>53749</th>\n",
       "      <td>D2-0749</td>\n",
       "      <td>D2-0749-1-1</td>\n",
       "      <td>MLO</td>\n",
       "      <td>L</td>\n",
       "      <td>1</td>\n",
       "    </tr>\n",
       "  </tbody>\n",
       "</table>\n",
       "<p>53750 rows × 5 columns</p>\n",
       "</div>"
      ],
      "text/plain": [
       "      patient_id     image_id view laterality  cancer\n",
       "0          10006   1874946579   CC          R       0\n",
       "1          10006   1864590858  MLO          R       0\n",
       "2          10006    462822612   CC          L       0\n",
       "3          10006   1459541791  MLO          L       0\n",
       "4          10011    541722628   CC          R       0\n",
       "...          ...          ...  ...        ...     ...\n",
       "53745    D2-0747  D2-0747-1-3  MLO          R       1\n",
       "53746    D2-0748  D2-0748-1-4   CC          R       1\n",
       "53747    D2-0748  D2-0748-1-3  MLO          R       1\n",
       "53748    D2-0749  D2-0749-1-2   CC          L       1\n",
       "53749    D2-0749  D2-0749-1-1  MLO          L       1\n",
       "\n",
       "[53750 rows x 5 columns]"
      ]
     },
     "execution_count": 7,
     "metadata": {},
     "output_type": "execute_result"
    }
   ],
   "source": [
    "sd.meta_pro"
   ]
  },
  {
   "cell_type": "code",
   "execution_count": 4,
   "metadata": {},
   "outputs": [
    {
     "data": {
      "text/plain": [
       "59468"
      ]
     },
     "execution_count": 4,
     "metadata": {},
     "output_type": "execute_result"
    }
   ],
   "source": [
    "total_len = len(cdd) + len(cmmd) + len(rsna) + len(ddsm)\n",
    "total_len"
   ]
  },
  {
   "cell_type": "code",
   "execution_count": 5,
   "metadata": {},
   "outputs": [
    {
     "data": {
      "text/html": [
       "<div>\n",
       "<style scoped>\n",
       "    .dataframe tbody tr th:only-of-type {\n",
       "        vertical-align: middle;\n",
       "    }\n",
       "\n",
       "    .dataframe tbody tr th {\n",
       "        vertical-align: top;\n",
       "    }\n",
       "\n",
       "    .dataframe thead th {\n",
       "        text-align: right;\n",
       "    }\n",
       "</style>\n",
       "<table border=\"1\" class=\"dataframe\">\n",
       "  <thead>\n",
       "    <tr style=\"text-align: right;\">\n",
       "      <th></th>\n",
       "      <th>patient_id</th>\n",
       "      <th>image_id</th>\n",
       "      <th>view</th>\n",
       "      <th>laterality</th>\n",
       "      <th>cancer</th>\n",
       "    </tr>\n",
       "  </thead>\n",
       "  <tbody>\n",
       "    <tr>\n",
       "      <th>0</th>\n",
       "      <td>1CDD</td>\n",
       "      <td>P1-L-DM-MLO</td>\n",
       "      <td>MLO</td>\n",
       "      <td>L</td>\n",
       "      <td>1</td>\n",
       "    </tr>\n",
       "    <tr>\n",
       "      <th>1</th>\n",
       "      <td>1CDD</td>\n",
       "      <td>P1-L-DM-MLO</td>\n",
       "      <td>CC</td>\n",
       "      <td>L</td>\n",
       "      <td>0</td>\n",
       "    </tr>\n",
       "    <tr>\n",
       "      <th>2</th>\n",
       "      <td>3CDD</td>\n",
       "      <td>P3-R-DM-CC</td>\n",
       "      <td>CC</td>\n",
       "      <td>R</td>\n",
       "      <td>0</td>\n",
       "    </tr>\n",
       "    <tr>\n",
       "      <th>3</th>\n",
       "      <td>3CDD</td>\n",
       "      <td>P3-R-DM-MLO</td>\n",
       "      <td>MLO</td>\n",
       "      <td>R</td>\n",
       "      <td>0</td>\n",
       "    </tr>\n",
       "    <tr>\n",
       "      <th>4</th>\n",
       "      <td>3CDD</td>\n",
       "      <td>P3-L-DM-CC</td>\n",
       "      <td>CC</td>\n",
       "      <td>L</td>\n",
       "      <td>1</td>\n",
       "    </tr>\n",
       "    <tr>\n",
       "      <th>...</th>\n",
       "      <td>...</td>\n",
       "      <td>...</td>\n",
       "      <td>...</td>\n",
       "      <td>...</td>\n",
       "      <td>...</td>\n",
       "    </tr>\n",
       "    <tr>\n",
       "      <th>59463</th>\n",
       "      <td>4607DDSM</td>\n",
       "      <td>5119</td>\n",
       "      <td>MLO</td>\n",
       "      <td>R</td>\n",
       "      <td>0</td>\n",
       "    </tr>\n",
       "    <tr>\n",
       "      <th>59464</th>\n",
       "      <td>4608DDSM</td>\n",
       "      <td>5120</td>\n",
       "      <td>CC</td>\n",
       "      <td>L</td>\n",
       "      <td>0</td>\n",
       "    </tr>\n",
       "    <tr>\n",
       "      <th>59465</th>\n",
       "      <td>4608DDSM</td>\n",
       "      <td>5121</td>\n",
       "      <td>MLO</td>\n",
       "      <td>L</td>\n",
       "      <td>0</td>\n",
       "    </tr>\n",
       "    <tr>\n",
       "      <th>59466</th>\n",
       "      <td>4608DDSM</td>\n",
       "      <td>5122</td>\n",
       "      <td>CC</td>\n",
       "      <td>R</td>\n",
       "      <td>0</td>\n",
       "    </tr>\n",
       "    <tr>\n",
       "      <th>59467</th>\n",
       "      <td>4608DDSM</td>\n",
       "      <td>5123</td>\n",
       "      <td>MLO</td>\n",
       "      <td>R</td>\n",
       "      <td>0</td>\n",
       "    </tr>\n",
       "  </tbody>\n",
       "</table>\n",
       "<p>59468 rows × 5 columns</p>\n",
       "</div>"
      ],
      "text/plain": [
       "      patient_id     image_id view laterality  cancer\n",
       "0           1CDD  P1-L-DM-MLO  MLO          L       1\n",
       "1           1CDD  P1-L-DM-MLO   CC          L       0\n",
       "2           3CDD   P3-R-DM-CC   CC          R       0\n",
       "3           3CDD  P3-R-DM-MLO  MLO          R       0\n",
       "4           3CDD   P3-L-DM-CC   CC          L       1\n",
       "...          ...          ...  ...        ...     ...\n",
       "59463   4607DDSM         5119  MLO          R       0\n",
       "59464   4608DDSM         5120   CC          L       0\n",
       "59465   4608DDSM         5121  MLO          L       0\n",
       "59466   4608DDSM         5122   CC          R       0\n",
       "59467   4608DDSM         5123  MLO          R       0\n",
       "\n",
       "[59468 rows x 5 columns]"
      ]
     },
     "execution_count": 5,
     "metadata": {},
     "output_type": "execute_result"
    }
   ],
   "source": [
    "meta =pd.concat([cdd, cmmd, rsna, ddsm]).reset_index()\n",
    "meta = meta[[\"patient_id\",\t\"image_id\"\t,\"view\",\t\"laterality\"\t,\t\"cancer\"]]\n",
    "meta"
   ]
  },
  {
   "cell_type": "code",
   "execution_count": 12,
   "metadata": {},
   "outputs": [],
   "source": [
    "meta.to_csv('D:\\OneDrive - Industrial University of HoChiMinh City\\WORKBASE\\Project-rsna-breast-cancer-detection\\Data_main1\\meta_data.csv')"
   ]
  },
  {
   "attachments": {},
   "cell_type": "markdown",
   "metadata": {},
   "source": [
    "## Move data in folder CC, MLO"
   ]
  },
  {
   "cell_type": "code",
   "execution_count": 6,
   "metadata": {},
   "outputs": [
    {
     "data": {
      "text/plain": [
       "MLO    29734\n",
       "CC     29734\n",
       "Name: view, dtype: int64"
      ]
     },
     "execution_count": 6,
     "metadata": {},
     "output_type": "execute_result"
    }
   ],
   "source": [
    "meta.view.value_counts()"
   ]
  },
  {
   "cell_type": "code",
   "execution_count": 7,
   "metadata": {},
   "outputs": [],
   "source": [
    "# par -> view -> lat -> view_lat_id_image"
   ]
  },
  {
   "cell_type": "code",
   "execution_count": null,
   "metadata": {},
   "outputs": [],
   "source": [
    "\"D:\\OneDrive - Industrial University of HoChiMinh City\\WORKBASE\\Project-rsna-breast-cancer-detection\\Data_main\\Dataset_VIEW\\ff5c656fb6757b708d64d2ebdd33c421\\CC\\L\\CC_L_11ae77d09d90780bb56ed52bcefb4272.png\""
   ]
  },
  {
   "cell_type": "code",
   "execution_count": 16,
   "metadata": {},
   "outputs": [],
   "source": [
    "os.makedirs('D:\\OneDrive - Industrial University of HoChiMinh City\\WORKBASE\\Project-rsna-breast-cancer-detection\\Data_main1\\CC')\n",
    "os.makedirs('D:\\OneDrive - Industrial University of HoChiMinh City\\WORKBASE\\Project-rsna-breast-cancer-detection\\Data_main1\\MLO')\n"
   ]
  },
  {
   "cell_type": "code",
   "execution_count": 8,
   "metadata": {},
   "outputs": [],
   "source": [
    "from move_cc_mlo import *"
   ]
  },
  {
   "cell_type": "code",
   "execution_count": 9,
   "metadata": {},
   "outputs": [],
   "source": [
    "m = move(meta)\n",
    "m.my_method(list(meta.index))"
   ]
  },
  {
   "cell_type": "code",
   "execution_count": 10,
   "metadata": {},
   "outputs": [],
   "source": [
    "from sklearn.model_selection import train_test_split\n"
   ]
  },
  {
   "cell_type": "code",
   "execution_count": 36,
   "metadata": {},
   "outputs": [],
   "source": [
    "class Evaluate:\n",
    "    def __init__(self, meta_pro, name):\n",
    "        self.al_data = meta_pro.reset_index()\n",
    "        self.name = name\n",
    "    def quatity_cc_mlo(self):\n",
    "        return f\"\\nSo luong CC và MLO\\n{self.al_data.view.value_counts()}\\n\"\n",
    "        # print(self.al_data.view.value_counts())\n",
    "    def lelf_right(self):\n",
    "        return f\"\\nSo luong L và R\\n{self.al_data.groupby(['view', 'laterality']).size()}\\n\"\n",
    "        # print(self.al_data.groupby(['view', 'laterality']).size())\n",
    "    def show_one(self, par):\n",
    "        return self.al_data[self.al_data.patient_id == par]\n",
    "    def quanlity_cancer(self):\n",
    "        sl = len(self.al_data[self.al_data.cancer == 1])\n",
    "        slno = len(self.al_data[self.al_data.cancer == 0])\n",
    "        return f\"So luong img cancer: {sl} \\n So luong img no cancer: {slno}\"\n",
    "        # print(self.al_data[self.al_data.cancer == 1])\n",
    "    def show(self, path):\n",
    "        ls = len(self.al_data)\n",
    "        par = len(self.al_data.patient_id.unique())\n",
    "        # print( \n",
    "        # self.quatity_cc_mlo()\n",
    "        # self.lelf_right()\n",
    "        # self.quanlity_cancer()\n",
    "        f = open(path, 'a', encoding='utf-8')\n",
    "        f.write(f'Dataset {self.name} \\n Số lượng image: {ls} \\n Số luong patient: {par} {self.quatity_cc_mlo()} {self.lelf_right()} {self.quanlity_cancer()}\\n\\n +++++++++++++++\\n\\n')\n",
    "        f.close()"
   ]
  },
  {
   "cell_type": "code",
   "execution_count": 111,
   "metadata": {},
   "outputs": [],
   "source": [
    "def save(cancer_train, nocancer_train, cancer_val, nocancer_val, cancer_test, nocancer_test, name = \"Rong\",  name_folder = \"Rong\", view = None):\n",
    "    path = f'D:/OneDrive - Industrial University of HoChiMinh City/WORKBASE/Project-rsna-breast-cancer-detection/Data_main1/Dataset/{name_folder}/{view}/{name}'\n",
    "    os.makedirs(path)\n",
    "    # print(len(cancer_train), len(nocancer_train))\n",
    "    # print(nocancer_train)\n",
    "    train = pd.concat([cancer_train, nocancer_train]).reset_index().drop('index', axis=1)\n",
    "    \n",
    "    val = pd.concat([cancer_val, nocancer_val]).reset_index().drop('index', axis=1)\n",
    "    test = pd.concat([cancer_test, nocancer_test]).reset_index().drop('index', axis=1)\n",
    "    # test = pd.read_csv(r'D:/OneDrive - Industrial University of HoChiMinh City/WORKBASE/Project-rsna-breast-cancer-detection\\DATA_STANDARD\\DDSM.csv', index_col='Unnamed: 0')\n",
    "    ev = Evaluate(train, \"Train\")\n",
    "    ev1 = Evaluate(val, \"Val\")\n",
    "    ev2 = Evaluate(test, \"Test\")\n",
    "    ev.show(f'{path}/description.txt')\n",
    "    ev1.show(f'{path}/description.txt')\n",
    "    ev2.show(f'{path}/description.txt')\n",
    "    train.to_csv(f'{path}/train.csv')\n",
    "    val.to_csv(f'{path}/val.csv')\n",
    "    test.to_csv(f'{path}/test.csv')"
   ]
  },
  {
   "cell_type": "code",
   "execution_count": 112,
   "metadata": {},
   "outputs": [],
   "source": [
    "class cplit_data:\n",
    "    def __init__(self, data, name_data, name_view):\n",
    "        self.data = data\n",
    "        self.name_data = name_data\n",
    "        self.name_view = name_view\n",
    "    def split_cancer(self, cancer):\n",
    "        # Chia dữ liệu thành tập train và tập còn lại (test + validation)\n",
    "        X_train, X_test_val = train_test_split(cancer, test_size=0.3, random_state=42)\n",
    "\n",
    "        # Chia tập còn lại thành tập test và tập validation\n",
    "        X_test, X_val = train_test_split(X_test_val, test_size=0.33, random_state=42)\n",
    "        return X_train, X_test, X_val\n",
    "    def split_rate(self, rate, data, lens_train, len_val, len_test):\n",
    "        df =  pd.DataFrame({'age': []})\n",
    "        if lens_train> len(data) and rate == 1:\n",
    "            return data\n",
    "        if lens_train> len(data) and rate > 1: return df\n",
    "        \n",
    "        total = (len(data))/lens_train\n",
    "        if total == 0 and rate == 1:\n",
    "            return data\n",
    "        \n",
    "        if rate <= total:\n",
    "            ls = rate * lens_train\n",
    "            df_sample = data.sample(n=ls, random_state=42)\n",
    "            return df_sample\n",
    "        \n",
    "        return df\n",
    "    def process(self):\n",
    "        cancer = self.data[self.data.cancer == 1]\n",
    "        cancer_train, cancer_test, cancer_val = self.split_cancer(cancer)\n",
    "        \n",
    "        nocancer = self.data[self.data.cancer == 0]\n",
    "        \n",
    "        nocancer_test = nocancer.sample(n=len(cancer_test), random_state=42)\n",
    "        \n",
    "        remain = nocancer[~nocancer.image_id.isin(nocancer_test.image_id)]\n",
    "        \n",
    "        nocancer_val = remain.sample(n=len(cancer_val), random_state=42)\n",
    "            \n",
    "        remain = remain[~remain.image_id.isin(nocancer_val.image_id)]\n",
    "        for i in range(1, 4):\n",
    "            nocancer_train = self.split_rate(i, remain, len(cancer_train), len(cancer_val), len(cancer_test))\n",
    "            if len(nocancer_train) !=0:\n",
    "                # train = pd.concat([cancer_train, nocancer_train])\n",
    "                # print(type(nocancer_train))\n",
    "                # return\n",
    "                save(cancer_train, nocancer_train, cancer_val, nocancer_val, cancer_test, nocancer_test, name = f\"rate1{i}\",  name_folder = self.name_data, view = self.name_view)\n",
    "                # return\n",
    "            else :\n",
    "                return\n",
    "            \n",
    "            "
   ]
  },
  {
   "cell_type": "code",
   "execution_count": 113,
   "metadata": {},
   "outputs": [],
   "source": [
    "# sp_rsna_cc = cplit_data(rsna[rsna.view == 'CC'], 'RSNA', 'CC')\n",
    "# sp_rsna_cc.process()"
   ]
  },
  {
   "cell_type": "code",
   "execution_count": 114,
   "metadata": {},
   "outputs": [],
   "source": [
    "# sp_rsna_MLO = cplit_data(rsna[rsna.view == 'MLO'], 'RSNA', 'MLO')\n",
    "# sp_rsna_MLO.process()"
   ]
  },
  {
   "cell_type": "code",
   "execution_count": 115,
   "metadata": {},
   "outputs": [],
   "source": [
    "sp_DDSM_CC = cplit_data(ddsm[ddsm.view == 'CC'], 'DDSM', 'CC')\n",
    "sp_DDSM_CC.process()"
   ]
  },
  {
   "cell_type": "code",
   "execution_count": 116,
   "metadata": {},
   "outputs": [],
   "source": [
    "sp_DDSM_MLO = cplit_data(ddsm[ddsm.view == 'MLO'], 'DDSM', 'MLO')\n",
    "sp_DDSM_MLO.process()"
   ]
  },
  {
   "cell_type": "code",
   "execution_count": 117,
   "metadata": {},
   "outputs": [],
   "source": [
    "sp_CMMD_CC = cplit_data(cmmd[cmmd.view == 'CC'], 'CMMD', 'CC')\n",
    "sp_CMMD_CC.process()\n"
   ]
  },
  {
   "cell_type": "code",
   "execution_count": 118,
   "metadata": {},
   "outputs": [],
   "source": [
    "sp_CMMD_MLO = cplit_data(cmmd[cmmd.view == 'MLO'], 'CMMD', 'MLO')\n",
    "sp_CMMD_MLO.process()"
   ]
  },
  {
   "cell_type": "code",
   "execution_count": 119,
   "metadata": {},
   "outputs": [],
   "source": [
    "sp_CDD_CC = cplit_data(cdd[cdd.view == 'CC'], 'CDD', 'CC')\n",
    "sp_CDD_CC.process()\n",
    "sp_CDD_MLO = cplit_data(cdd[cdd.view == 'MLO'], 'CDD', 'MLO')\n",
    "sp_CDD_MLO.process()"
   ]
  },
  {
   "cell_type": "code",
   "execution_count": null,
   "metadata": {},
   "outputs": [],
   "source": []
  }
 ],
 "metadata": {
  "kernelspec": {
   "display_name": "Python 3",
   "language": "python",
   "name": "python3"
  },
  "language_info": {
   "codemirror_mode": {
    "name": "ipython",
    "version": 3
   },
   "file_extension": ".py",
   "mimetype": "text/x-python",
   "name": "python",
   "nbconvert_exporter": "python",
   "pygments_lexer": "ipython3",
   "version": "3.10.4"
  },
  "orig_nbformat": 4
 },
 "nbformat": 4,
 "nbformat_minor": 2
}
